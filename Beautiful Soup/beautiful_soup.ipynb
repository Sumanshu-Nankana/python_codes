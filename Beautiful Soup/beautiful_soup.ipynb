{
 "cells": [
  {
   "cell_type": "raw",
   "metadata": {},
   "source": [
    "We will parse the content from website and pull down some required content using Beautiful Soup\n",
    "Beautiful Soup is a Python library for pulling data out of HTML and XML files."
   ]
  },
  {
   "cell_type": "code",
   "execution_count": 1,
   "metadata": {},
   "outputs": [],
   "source": [
    "# install the bs4 library\n",
    "# !pip install bs4   or !pip install beautifulsoup4"
   ]
  },
  {
   "cell_type": "code",
   "execution_count": 2,
   "metadata": {},
   "outputs": [],
   "source": [
    "# install lxml parser - it process xml and html both\n",
    "# !pip install lxml"
   ]
  },
  {
   "cell_type": "code",
   "execution_count": 3,
   "metadata": {},
   "outputs": [],
   "source": [
    "# we can also use html5lib parser - it's upto us which parser we want to use\n",
    "# html5lib is a pure-python library for parsing HTML\n",
    "# !pip instal html5lib"
   ]
  },
  {
   "cell_type": "code",
   "execution_count": 4,
   "metadata": {},
   "outputs": [],
   "source": [
    "# Both html5lib and xml are popular"
   ]
  },
  {
   "cell_type": "code",
   "execution_count": 5,
   "metadata": {},
   "outputs": [],
   "source": [
    "from bs4 import BeautifulSoup\n",
    "import requests"
   ]
  },
  {
   "cell_type": "code",
   "execution_count": 6,
   "metadata": {},
   "outputs": [],
   "source": [
    "with open('test.html') as html_file:\n",
    "    soup = BeautifulSoup(html_file,'lxml')"
   ]
  },
  {
   "cell_type": "code",
   "execution_count": 7,
   "metadata": {},
   "outputs": [
    {
     "name": "stdout",
     "output_type": "stream",
     "text": [
      "<!DOCTYPE HTML>\n",
      "<html>\n",
      "<head>\n",
      "<title>Dummy Website - for WebScraping</title>\n",
      "</head>\n",
      "<body>\n",
      "<h1>Test Website</h1>\n",
      "<hr/>\n",
      "<div class=\"article\">\n",
      "<h2><a href=\"article1.html\">Article 1 Headline</a></h2>\n",
      "<p>This is a summary of article1</p><p>\n",
      "</p></div>\n",
      "<hr/>\n",
      "<div class=\"article\">\n",
      "<h2><a href=\"article2.html\">Article 2 Headline</a></h2>\n",
      "<p>This is a summary of article2</p><p>\n",
      "</p></div>\n",
      "<hr/>\n",
      "<div class=\"footer\">\n",
      "<p>Footer Information</p>\n",
      "</div>\n",
      "</body>\n",
      "</html>\n"
     ]
    }
   ],
   "source": [
    "# it gives the HTML content in a very formatted way\n",
    "print(soup)"
   ]
  },
  {
   "cell_type": "code",
   "execution_count": 8,
   "metadata": {},
   "outputs": [
    {
     "name": "stdout",
     "output_type": "stream",
     "text": [
      "<!DOCTYPE HTML>\n",
      "<html>\n",
      " <head>\n",
      "  <title>\n",
      "   Dummy Website - for WebScraping\n",
      "  </title>\n",
      " </head>\n",
      " <body>\n",
      "  <h1>\n",
      "   Test Website\n",
      "  </h1>\n",
      "  <hr/>\n",
      "  <div class=\"article\">\n",
      "   <h2>\n",
      "    <a href=\"article1.html\">\n",
      "     Article 1 Headline\n",
      "    </a>\n",
      "   </h2>\n",
      "   <p>\n",
      "    This is a summary of article1\n",
      "   </p>\n",
      "   <p>\n",
      "   </p>\n",
      "  </div>\n",
      "  <hr/>\n",
      "  <div class=\"article\">\n",
      "   <h2>\n",
      "    <a href=\"article2.html\">\n",
      "     Article 2 Headline\n",
      "    </a>\n",
      "   </h2>\n",
      "   <p>\n",
      "    This is a summary of article2\n",
      "   </p>\n",
      "   <p>\n",
      "   </p>\n",
      "  </div>\n",
      "  <hr/>\n",
      "  <div class=\"footer\">\n",
      "   <p>\n",
      "    Footer Information\n",
      "   </p>\n",
      "  </div>\n",
      " </body>\n",
      "</html>\n"
     ]
    }
   ],
   "source": [
    "# to get the content in pretty format i.e. we see what tags are nested and with identation\n",
    "print(soup.prettify())"
   ]
  },
  {
   "cell_type": "code",
   "execution_count": 9,
   "metadata": {},
   "outputs": [
    {
     "name": "stdout",
     "output_type": "stream",
     "text": [
      "<title>Dummy Website - for WebScraping</title>\n"
     ]
    }
   ],
   "source": [
    "# lets grab the title \n",
    "match = soup.title\n",
    "print(match)\n",
    "# but it fetches the tags as well"
   ]
  },
  {
   "cell_type": "code",
   "execution_count": 10,
   "metadata": {},
   "outputs": [
    {
     "name": "stdout",
     "output_type": "stream",
     "text": [
      "Dummy Website - for WebScraping\n"
     ]
    }
   ],
   "source": [
    "# lets fetch only the text of title\n",
    "match = soup.title.text\n",
    "print(match)"
   ]
  },
  {
   "cell_type": "code",
   "execution_count": 11,
   "metadata": {},
   "outputs": [
    {
     "name": "stdout",
     "output_type": "stream",
     "text": [
      "Test Website\n"
     ]
    }
   ],
   "source": [
    "# But searching the tags like this - it gives only first html element found on that page\n",
    "match = soup.h1.text\n",
    "print(match)"
   ]
  },
  {
   "cell_type": "code",
   "execution_count": 12,
   "metadata": {},
   "outputs": [
    {
     "name": "stdout",
     "output_type": "stream",
     "text": [
      "<div class=\"article\">\n",
      "<h2><a href=\"article1.html\">Article 1 Headline</a></h2>\n",
      "<p>This is a summary of article1</p><p>\n",
      "</p></div>\n"
     ]
    }
   ],
   "source": [
    "print(soup.div)"
   ]
  },
  {
   "cell_type": "code",
   "execution_count": 13,
   "metadata": {},
   "outputs": [
    {
     "name": "stdout",
     "output_type": "stream",
     "text": [
      "\n",
      "Article 1 Headline\n",
      "This is a summary of article1\n",
      "\n"
     ]
    }
   ],
   "source": [
    "print(soup.div.text)"
   ]
  },
  {
   "cell_type": "code",
   "execution_count": 14,
   "metadata": {},
   "outputs": [
    {
     "name": "stdout",
     "output_type": "stream",
     "text": [
      "<div class=\"article\">\n",
      "<h2><a href=\"article1.html\">Article 1 Headline</a></h2>\n",
      "<p>This is a summary of article1</p><p>\n",
      "</p></div>\n"
     ]
    }
   ],
   "source": [
    "# So we will use the find method, this also find the first div tag\n",
    "match = soup.find('div')\n",
    "print(match)"
   ]
  },
  {
   "cell_type": "code",
   "execution_count": 15,
   "metadata": {},
   "outputs": [
    {
     "name": "stdout",
     "output_type": "stream",
     "text": [
      "<div class=\"footer\">\n",
      "<p>Footer Information</p>\n",
      "</div>\n"
     ]
    }
   ],
   "source": [
    "# we can pass the arguments in find method\n",
    "# Now we get that content of div which has class 'footer' ; but not the first div\n",
    "# class is a special keyword in python, thus we need underscore after class\n",
    "# but for other elements like 'id' we dont need to pass underscore, we can directly give arguments\n",
    "match = soup.find('div',class_='footer')\n",
    "print(match)"
   ]
  },
  {
   "cell_type": "code",
   "execution_count": 17,
   "metadata": {},
   "outputs": [
    {
     "name": "stdout",
     "output_type": "stream",
     "text": [
      "<div class=\"article\">\n",
      "<h2><a href=\"article1.html\">Article 1 Headline</a></h2>\n",
      "<p>This is a summary of article1</p><p>\n",
      "</p></div>\n"
     ]
    }
   ],
   "source": [
    "# Now let's pull the Article\n",
    "# if we have difficulty to find exact tag (for required element) by looking at source code\n",
    "# we can choose particular element and click on Inspect\n",
    "\n",
    "article = soup.find('div',class_='article')\n",
    "print(article)"
   ]
  },
  {
   "cell_type": "code",
   "execution_count": 18,
   "metadata": {},
   "outputs": [
    {
     "name": "stdout",
     "output_type": "stream",
     "text": [
      "<h2><a href=\"article1.html\">Article 1 Headline</a></h2>\n"
     ]
    }
   ],
   "source": [
    "# we can access the child tag as well\n",
    "headline = article.h2\n",
    "print(headline)"
   ]
  },
  {
   "cell_type": "code",
   "execution_count": 20,
   "metadata": {},
   "outputs": [
    {
     "name": "stdout",
     "output_type": "stream",
     "text": [
      "<a href=\"article1.html\">Article 1 Headline</a>\n",
      "Article 1 Headline\n"
     ]
    }
   ],
   "source": [
    "# we can access the nested child tag as well\n",
    "anchor = article.h2.a\n",
    "print(anchor)\n",
    "print(anchor.text)"
   ]
  },
  {
   "cell_type": "code",
   "execution_count": 21,
   "metadata": {},
   "outputs": [
    {
     "name": "stdout",
     "output_type": "stream",
     "text": [
      "This is a summary of article1\n"
     ]
    }
   ],
   "source": [
    "summary = article.p\n",
    "print(summary.text)"
   ]
  },
  {
   "cell_type": "code",
   "execution_count": 23,
   "metadata": {},
   "outputs": [
    {
     "name": "stdout",
     "output_type": "stream",
     "text": [
      "[<div class=\"article\">\n",
      "<h2><a href=\"article1.html\">Article 1 Headline</a></h2>\n",
      "<p>This is a summary of article1</p><p>\n",
      "</p></div>, <div class=\"article\">\n",
      "<h2><a href=\"article2.html\">Article 2 Headline</a></h2>\n",
      "<p>This is a summary of article2</p><p>\n",
      "</p></div>]\n"
     ]
    }
   ],
   "source": [
    "# to find all the article ; we will use find_all method instead of find method\n",
    "# it returns list of all the matching tags\n",
    "articles = soup.find_all('div',class_='article')\n",
    "print(articles)"
   ]
  },
  {
   "cell_type": "code",
   "execution_count": 27,
   "metadata": {},
   "outputs": [
    {
     "name": "stdout",
     "output_type": "stream",
     "text": [
      "Article 1 Headline\n",
      "This is a summary of article1\n",
      "\n",
      "Article 2 Headline\n",
      "This is a summary of article2\n",
      "\n"
     ]
    }
   ],
   "source": [
    "# Now we can loop over this list\n",
    "for article in articles:\n",
    "    print(article.h2.a.text)\n",
    "    print(article.p.text)\n",
    "    print()"
   ]
  },
  {
   "cell_type": "code",
   "execution_count": 53,
   "metadata": {},
   "outputs": [
    {
     "name": "stdout",
     "output_type": "stream",
     "text": [
      "https://youtube.com/watch?v=z0gguhEmWiY\n"
     ]
    }
   ],
   "source": [
    "# Now let's do similar thing with actual website \n",
    "# https://coreyms.com/\n",
    "# our aim is to grab the title, summary and link of the videos from this website\n",
    "\n",
    "import requests\n",
    "from bs4 import BeautifulSoup\n",
    "\n",
    "# First thing is we need the source code of website\n",
    "# we will get that using requests library\n",
    "\n",
    "source = requests.get('https://coreyms.com/')\n",
    "source = source.text\n",
    "\n",
    "# Now we can pass this source in a BeautifulSoup\n",
    "\n",
    "soup = BeautifulSoup(source,'lxml')\n",
    "\n",
    "# Now we start parsing the information which we want\n",
    "# So we will use inspect functionality of browser to get the exact \n",
    "# we could see everything under <article> tag\n",
    "\n",
    "article = soup.find('article')\n",
    "# print(article.prettify())\n",
    "# Now fetch child/nested elements\n",
    "\n",
    "headline = article.h2.text\n",
    "summary = article.find('div',class_='entry-content').text\n",
    "\n",
    "# video link is in iframe and src (but this time it's not a direct tag)\n",
    "vid_src = article.find('iframe',class_='youtube-player')\n",
    "\n",
    "# Now get the 'src' tag ; we can use it as a dictonary\n",
    "vid_src = vid_src['src']\n",
    "\n",
    "# But we will fetch only ID i.e. - z0gguhEmWiY for below url (which just come after forward slash)\n",
    "# https://www.youtube.com/embed/z0gguhEmWiY?ver\n",
    "\n",
    "vid_id = vid_src.split('/')\n",
    "\n",
    "# we could notice vid_id is at 4th index\n",
    "vid_id = vid_id[4]\n",
    "\n",
    "# and we know '?' tell us from where the parameters started and video Id is before question mark\n",
    "vid_id = vid_id.split('?')\n",
    "\n",
    "# Now video ID is at 0th index\n",
    "vid_id = vid_id[0]\n",
    "\n",
    "# Now we will create our own you-tube link, using this video-id\n",
    "yt_link = f\"https://youtube.com/watch?v={vid_id}\"\n",
    "print(yt_link)"
   ]
  },
  {
   "cell_type": "code",
   "execution_count": 68,
   "metadata": {},
   "outputs": [
    {
     "name": "stdout",
     "output_type": "stream",
     "text": [
      "Python Tutorial: Zip Files – Creating and Extracting Zip Archives\n",
      "In this video, we will be learning how to create and extract zip archives. We will start by using the zipfile module, and then we will see how to do this using the shutil module. We will learn how to do this with single files and directories, as well as learning how to use gzip as well. Let’s get started…\n",
      "https://youtube.com/watch?v=z0gguhEmWiY\n",
      "\n",
      "Python Data Science Tutorial: Analyzing the 2019 Stack Overflow Developer Survey\n",
      "In this Python Programming video, we will be learning how to download and analyze real-world data from the 2019 Stack Overflow Developer Survey. This is terrific practice for anyone getting into the data science field. We will learn different ways to analyze this data and also some best practices. Let’s get started…\n",
      "https://youtube.com/watch?v=_P7X8tMplsw\n",
      "\n",
      "Python Multiprocessing Tutorial: Run Code in Parallel Using the Multiprocessing Module\n",
      "In this Python Programming video, we will be learning how to run code in parallel using the multiprocessing module. We will also look at how to process multiple high-resolution images at the same time using a ProcessPoolExecutor from the concurrent.futures module. Let’s get started…\n",
      "https://youtube.com/watch?v=fKl2JW_qrso\n",
      "\n",
      "Python Threading Tutorial: Run Code Concurrently Using the Threading Module\n",
      "In this Python Programming video, we will be learning how to run threads concurrently using the threading module. We will also look at how to download multiple high-resolution images online using a ThreadPoolExecutor from the concurrent.futures module. Let’s get started…\n",
      "https://youtube.com/watch?v=IEEhzQoKtQU\n",
      "\n",
      "Update (2019-09-03)\n",
      "Hey everyone. I wanted to give you an update on my videos. I will be releasing videos on threading and multiprocessing within the next week. Thanks so much for your patience. I currently have a temporary recording studio setup at my Airbnb that will allow me to record and edit the threading/multiprocessing videos. I am going to be moving into my new house in 10 days and once I have my recording studio setup then you can expect much faster video releases. I really appreciate how patient everyone has been while I go through this move, especially those of you who are contributing monthly through YouTube\n",
      "None\n",
      "\n",
      "Python Quick Tip: The Difference Between “==” and “is” (Equality vs Identity)\n",
      "In this Python Programming Tutorial, we will be learning the difference between using “==” and the “is” keyword when doing comparisons. The difference between these is that “==” checks to see if values are equal, and the “is” keyword checks their identity, which means it’s going to check if the values are identical in terms of being the same object in memory. We’ll learn more in the video. Let’s get started…\n",
      "https://youtube.com/watch?v=mO_dS3rXDIs\n",
      "\n",
      "Python Tutorial: Calling External Commands Using the Subprocess Module\n",
      "In this Python Programming Tutorial, we will be learning how to run external commands using the subprocess module from the standard library. We will learn how to run commands, capture the output, handle errors, and also how to pipe output into other commands. Let’s get started…\n",
      "https://youtube.com/watch?v=2Fp1N6dof0Y\n",
      "\n",
      "Visual Studio Code (Windows) – Setting up a Python Development Environment and Complete Overview\n",
      "In this Python Programming Tutorial, we will be learning how to set up a Python development environment in VSCode on Windows. VSCode is a very nice free editor for writing Python applications and many developers are now switching over to this editor. In this video, we will learn how to install VSCode, get the Python extension installed, how to change Python interpreters, create virtual environments, format/lint our code, how to use Git within VSCode, how to debug our programs, how unit testing works, and more. We have a lot to cover, so let’s go ahead and get started…\n",
      "VSCode on MacOS – https://youtu.be/06I63_p-2A4\n",
      "Timestamps for topics in this tutorial: Installation – 1:13 Python Extension – 5:48 Switching Interpreters – 10:04 Changing Color Themes – 12:35 VSCode Settings – 16:16 Set Default Python – 21:33 Using Virtual Environments – 25:10 IntelliSense – 29:45 Code Formatting – 32:13 Code Linting – 37:06 Code Runner Extension – 39:42 Git Integration – 47:44 Use Different Terminal – 51:07 Debugging – 58:45 Unit Testing – 1:03:25 Zen Mode – 1:09:55\n",
      "https://youtube.com/watch?v=-nh9rCzPJ20\n",
      "\n",
      "Visual Studio Code (Mac) – Setting up a Python Development Environment and Complete Overview\n",
      "In this Python Programming Tutorial, we will be learning how to set up a Python development environment in VSCode on MacOS. VSCode is a very nice free editor for writing Python applications and many developers are now switching over to this editor. In this video, we will learn how to install VSCode, get the Python extension installed, how to change Python interpreters, create virtual environments, format/lint our code, how to use Git within VSCode, how to debug our programs, how unit testing works, and more. We have a lot to cover, so let’s go ahead and get started…\n",
      "VSCode on Windows – https://youtu.be/-nh9rCzPJ20\n",
      "Timestamps for topics in this tutorial: Installation – 1:11 Python Extension – 6:21 Switching Interpreters – 10:16 Changing Color Themes – 13:08 VSCode Settings – 17:12 Set Default Python – 22:24 Using Virtual Environments – 25:52 IntelliSense – 30:28 Code Formatting – 33:08 Code Linting – 38:01 Code Runner Extension – 40:45 Git Integration – 49:05 Debugging – 58:15 Unit Testing – 1:02:38 Zen Mode – 1:10:42\n",
      "https://youtube.com/watch?v=06I63_p-2A4\n",
      "\n",
      "Clarifying the Issues with Mutable Default Arguments\n",
      "In this Python Programming Tutorial, we will be clarifying the issues with mutable default arguments. We discussed this in my last video titled “5 Common Python Mistakes and How to Fix Them”, but I received many comments from people who were still confused. So we will be doing a deeper dive to explain exactly what is going on here. Let’s get started…\n",
      "https://youtube.com/watch?v=_JGmemuINww\n",
      "\n"
     ]
    }
   ],
   "source": [
    "# Now we know how to get the information\n",
    "# Now we loop the process for all the articles\n",
    "\n",
    "import requests\n",
    "from bs4 import BeautifulSoup\n",
    "\n",
    "source = requests.get('https://coreyms.com/')\n",
    "source = source.text\n",
    "\n",
    "soup = BeautifulSoup(source,'lxml')\n",
    "\n",
    "articles = soup.find_all('article')\n",
    "\n",
    "for article in articles:\n",
    "    headline = article.h2.text\n",
    "    summary = article.find('div',class_='entry-content').text\n",
    "    \n",
    "    # we use the try, except block because for one article there is no video link\n",
    "    # so if we not put this in try, except it failed while fetching the vid_src\n",
    "    try:\n",
    "        vid_src = article.find('iframe',class_='youtube-player')\n",
    "        vid_src = vid_src['src']\n",
    "        vid_src = vid_src.split('/')\n",
    "        vid_id = vid_src[4]\n",
    "        vid_id = vid_id.split('?')\n",
    "        vid_id = vid_id[0]\n",
    "        yt_link = f\"https://youtube.com/watch?v={vid_id}\"\n",
    "    except Exception as e:\n",
    "        # we can pass this as well, but we will set yt_link as None\n",
    "        yt_link = None\n",
    "    \n",
    "    print(headline.strip())\n",
    "    print(summary.strip())\n",
    "    print(yt_link)\n",
    "    print()"
   ]
  },
  {
   "cell_type": "code",
   "execution_count": 88,
   "metadata": {},
   "outputs": [
    {
     "name": "stdout",
     "output_type": "stream",
     "text": [
      "-  ------------------------------------------------------------------------------------------------  -------------------------------------------------------------------------------------------------------------------------------------------------------------------------------------------------------------------------------------------------------------------------------------------------------------------------------------------------------------------------------------------------------------------------------------------------------------------------------------------------------------------------------------------------------------------------------------------------------------------------------  ---------------------------------------\n",
      "0  Python Tutorial: Zip Files – Creating and Extracting Zip Archives                                 In this video, we will be learning how to create and extract zip archives. We will start by using the zipfile module, and then we will see how to do this using the shutil module. We will learn how to do this with single files and directories, as well as learning how to use gzip as well. Let’s get started…                                                                                                                                                                                                                                                                                                               https://youtube.com/watch?v=z0gguhEmWiY\n",
      "1  Python Data Science Tutorial: Analyzing the 2019 Stack Overflow Developer Survey                  In this Python Programming video, we will be learning how to download and analyze real-world data from the 2019 Stack Overflow Developer Survey. This is terrific practice for anyone getting into the data science field. We will learn different ways to analyze this data and also some best practices. Let’s get started…                                                                                                                                                                                                                                                                                                    https://youtube.com/watch?v=_P7X8tMplsw\n",
      "2  Python Multiprocessing Tutorial: Run Code in Parallel Using the Multiprocessing Module            In this Python Programming video, we will be learning how to run code in parallel using the multiprocessing module. We will also look at how to process multiple high-resolution images at the same time using a ProcessPoolExecutor from the concurrent.futures module. Let’s get started…                                                                                                                                                                                                                                                                                                                                      https://youtube.com/watch?v=fKl2JW_qrso\n",
      "3  Python Threading Tutorial: Run Code Concurrently Using the Threading Module                       In this Python Programming video, we will be learning how to run threads concurrently using the threading module. We will also look at how to download multiple high-resolution images online using a ThreadPoolExecutor from the concurrent.futures module. Let’s get started…                                                                                                                                                                                                                                                                                                                                                  https://youtube.com/watch?v=IEEhzQoKtQU\n",
      "4  Update (2019-09-03)                                                                               Hey everyone. I wanted to give you an update on my videos. I will be releasing videos on threading and multiprocessing within the next week. Thanks so much for your patience. I currently have a temporary recording studio setup at my Airbnb that will allow me to record and edit the threading/multiprocessing videos. I am going to be moving into my new house in 10 days and once I have my recording studio setup then you can expect much faster video releases. I really appreciate how patient everyone has been while I go through this move, especially those of you who are contributing monthly through YouTube  nan\n",
      "5  Python Quick Tip: The Difference Between “==” and “is” (Equality vs Identity)                     In this Python Programming Tutorial, we will be learning the difference between using “==” and the “is” keyword when doing comparisons. The difference between these is that “==” checks to see if values are equal, and the “is” keyword checks their identity, which means it’s going to check if the values are identical in terms of being the same object in memory. We’ll learn more in the video. Let’s get started…                                                                                                                                                                                                      https://youtube.com/watch?v=mO_dS3rXDIs\n",
      "6  Python Tutorial: Calling External Commands Using the Subprocess Module                            In this Python Programming Tutorial, we will be learning how to run external commands using the subprocess module from the standard library. We will learn how to run commands, capture the output, handle errors, and also how to pipe output into other commands. Let’s get started…                                                                                                                                                                                                                                                                                                                                           https://youtube.com/watch?v=2Fp1N6dof0Y\n",
      "7  Visual Studio Code (Windows) – Setting up a Python Development Environment and Complete Overview  In this Python Programming Tutorial, we will be learning how to set up a Python development environment in VSCode on Windows. VSCode is a very nice free editor for writing Python applications and many developers are now switching over to this editor. In this video, we will learn how to install VSCode, get the Python extension installed, how to change Python interpreters, create virtual environments, format/lint our code, how to use Git within VSCode, how to debug our programs, how unit testing works, and more. We have a lot to cover, so let’s go ahead and get started…                                   https://youtube.com/watch?v=-nh9rCzPJ20\n",
      "                                                                                                     VSCode on MacOS – https://youtu.be/06I63_p-2A4\n",
      "                                                                                                     Timestamps for topics in this tutorial: Installation – 1:13 Python Extension – 5:48 Switching Interpreters – 10:04 Changing Color Themes – 12:35 VSCode Settings – 16:16 Set Default Python – 21:33 Using Virtual Environments – 25:10 IntelliSense – 29:45 Code Formatting – 32:13 Code Linting – 37:06 Code Runner Extension – 39:42 Git Integration – 47:44 Use Different Terminal – 51:07 Debugging – 58:45 Unit Testing – 1:03:25 Zen Mode – 1:09:55\n",
      "8  Visual Studio Code (Mac) – Setting up a Python Development Environment and Complete Overview      In this Python Programming Tutorial, we will be learning how to set up a Python development environment in VSCode on MacOS. VSCode is a very nice free editor for writing Python applications and many developers are now switching over to this editor. In this video, we will learn how to install VSCode, get the Python extension installed, how to change Python interpreters, create virtual environments, format/lint our code, how to use Git within VSCode, how to debug our programs, how unit testing works, and more. We have a lot to cover, so let’s go ahead and get started…                                     https://youtube.com/watch?v=06I63_p-2A4\n",
      "                                                                                                     VSCode on Windows – https://youtu.be/-nh9rCzPJ20\n",
      "                                                                                                     Timestamps for topics in this tutorial: Installation – 1:11 Python Extension – 6:21 Switching Interpreters – 10:16 Changing Color Themes – 13:08 VSCode Settings – 17:12 Set Default Python – 22:24 Using Virtual Environments – 25:52 IntelliSense – 30:28 Code Formatting – 33:08 Code Linting – 38:01 Code Runner Extension – 40:45 Git Integration – 49:05 Debugging – 58:15 Unit Testing – 1:02:38 Zen Mode – 1:10:42\n",
      "9  Clarifying the Issues with Mutable Default Arguments                                              In this Python Programming Tutorial, we will be clarifying the issues with mutable default arguments. We discussed this in my last video titled “5 Common Python Mistakes and How to Fix Them”, but I received many comments from people who were still confused. So we will be doing a deeper dive to explain exactly what is going on here. Let’s get started…                                                                                                                                                                                                                                                                 https://youtube.com/watch?v=_JGmemuINww\n",
      "-  ------------------------------------------------------------------------------------------------  -------------------------------------------------------------------------------------------------------------------------------------------------------------------------------------------------------------------------------------------------------------------------------------------------------------------------------------------------------------------------------------------------------------------------------------------------------------------------------------------------------------------------------------------------------------------------------------------------------------------------------  ---------------------------------------\n"
     ]
    }
   ],
   "source": [
    "# As of Now, we are printing the information the screen\n",
    "# but Now, we will save it to a csv file\n",
    "\n",
    "import requests\n",
    "from bs4 import BeautifulSoup\n",
    "import csv\n",
    "import pandas as pd\n",
    "from tabulate import tabulate\n",
    "\n",
    "source = requests.get('https://coreyms.com/')\n",
    "source = source.text\n",
    "\n",
    "soup = BeautifulSoup(source,'lxml')\n",
    "\n",
    "articles = soup.find_all('article')\n",
    "\n",
    "csv_file = open('cms_scrape.csv', 'w')\n",
    "csv_writer = csv.writer(csv_file)\n",
    "csv_writer.writerow(['headline', 'summary', 'video_link'])\n",
    "\n",
    "for article in articles:\n",
    "    headline = article.h2.text\n",
    "    summary = article.find('div',class_='entry-content').text\n",
    "    try:\n",
    "        vid_src = article.find('iframe',class_='youtube-player')\n",
    "        vid_src = vid_src['src']\n",
    "        vid_src = vid_src.split('/')\n",
    "        vid_id = vid_src[4]\n",
    "        vid_id = vid_id.split('?')\n",
    "        vid_id = vid_id[0]\n",
    "        yt_link = f\"https://youtube.com/watch?v={vid_id}\"\n",
    "    except Exception as e:\n",
    "        yt_link = None\n",
    "    \n",
    "    csv_writer.writerow([headline, summary, yt_link])\n",
    "\n",
    "csv_file.close()\n",
    "\n",
    "df = pd.read_csv('cms_scrape.csv')\n",
    "print(tabulate(df))"
   ]
  },
  {
   "cell_type": "code",
   "execution_count": 89,
   "metadata": {},
   "outputs": [],
   "source": [
    "# if we want to scrap the data from the larger website like Twitter/Facebook\n",
    "# then it's not recommended to use this method\n",
    "# we need to use the Public API - Usually they have the public API available\n",
    "\n",
    "# For small and medium based website - above method is good."
   ]
  }
 ],
 "metadata": {
  "kernelspec": {
   "display_name": "Python 3",
   "language": "python",
   "name": "python3"
  },
  "language_info": {
   "codemirror_mode": {
    "name": "ipython",
    "version": 3
   },
   "file_extension": ".py",
   "mimetype": "text/x-python",
   "name": "python",
   "nbconvert_exporter": "python",
   "pygments_lexer": "ipython3",
   "version": "3.6.9"
  }
 },
 "nbformat": 4,
 "nbformat_minor": 2
}
