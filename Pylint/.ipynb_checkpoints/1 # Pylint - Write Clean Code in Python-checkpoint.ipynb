{
 "cells": [
  {
   "cell_type": "markdown",
   "metadata": {},
   "source": [
    "Let's write a basic Python Code. \n",
    "If we run the below code, We will not get any error.\n",
    "but whether below code is written as per coding standards of PEP8 ?"
   ]
  },
  {
   "cell_type": "code",
   "execution_count": 1,
   "metadata": {},
   "outputs": [],
   "source": [
    "#\n",
    "# Pylint Tutorial\n",
    "#\n",
    "\n",
    "class car:\n",
    "    def __init__(self,color):\n",
    "        self.color = color\n",
    "\n",
    "my_car = car('blue')\n",
    "\n",
    "def crash(car1,car2):\n",
    "    car1.color = 'burnt'\n",
    "    \n",
    "crash(car('red'), my_car)"
   ]
  },
  {
   "cell_type": "markdown",
   "metadata": {},
   "source": [
    "To Check, whether above code is written as per coding standards of PEP8\n",
    "we will use pylint module\n",
    "\n",
    "Let's save all our above code in code01.py file"
   ]
  },
  {
   "cell_type": "markdown",
   "metadata": {},
   "source": [
    "Now, Let's check whether our code is as per coding standards"
   ]
  },
  {
   "cell_type": "code",
   "execution_count": 2,
   "metadata": {},
   "outputs": [
    {
     "name": "stdout",
     "output_type": "stream",
     "text": [
      "No config file found, using default configuration\n",
      "************* Module code01\n",
      "C:  6, 0: Exactly one space required after comma\n",
      "    def __init__(self,color):\n",
      "                     ^ (bad-whitespace)\n",
      "C: 11, 0: Exactly one space required after comma\n",
      "def crash(car1,car2):\n",
      "              ^ (bad-whitespace)\n",
      "C: 13, 0: Trailing whitespace (trailing-whitespace)\n",
      "C: 14, 0: Final newline missing (missing-final-newline)\n",
      "C:  1, 0: Missing module docstring (missing-docstring)\n",
      "C:  5, 0: Class name \"car\" doesn't conform to PascalCase naming style (invalid-name)\n",
      "C:  5, 0: Missing class docstring (missing-docstring)\n",
      "C:  5, 0: Old-style class defined. (old-style-class)\n",
      "R:  5, 0: Too few public methods (0/2) (too-few-public-methods)\n",
      "C:  9, 0: Constant name \"my_car\" doesn't conform to UPPER_CASE naming style (invalid-name)\n",
      "C: 11, 0: Missing function docstring (missing-docstring)\n",
      "W: 11,15: Unused argument 'car2' (unused-argument)\n",
      "\n",
      "------------------------------------\n",
      "Your code has been rated at -7.14/10\n",
      "\n"
     ]
    }
   ],
   "source": [
    "!pylint code01.py"
   ]
  },
  {
   "cell_type": "markdown",
   "metadata": {},
   "source": [
    "We could notice we get -7.14 rating out of 10 - which means very BAD coding standards.\n",
    "Above message also show us, where we need to improve.\n",
    "\n",
    "Like - \n",
    "\n",
    "after comma (there should be a space)\n",
    "class name always be in CAPS\n",
    "docstring is missing (when we write any function, doctsring should be there)\n",
    "my_car (we assign some value - which make it constant and constant generally in CAPS)\n",
    "newline should be there at end of code\n",
    "Doctsring for whole code\n",
    "old-style class defined - new style is (inherited from object)\n",
    "\n",
    "Let's rewrite same code in code02.py - by improving our code using above 3 messages"
   ]
  },
  {
   "cell_type": "code",
   "execution_count": 12,
   "metadata": {},
   "outputs": [
    {
     "name": "stdout",
     "output_type": "stream",
     "text": [
      "No config file found, using default configuration\n",
      "************* Module code02\n",
      "R:  7, 0: Too few public methods (0/2) (too-few-public-methods)\n",
      "W: 14,16: Unused argument 'car2' (unused-argument)\n",
      "\n",
      "------------------------------------------------------------------\n",
      "Your code has been rated at 7.14/10 (previous run: 5.71/10, +1.43)\n",
      "\n"
     ]
    }
   ],
   "source": [
    "!pylint code02.py"
   ]
  },
  {
   "cell_type": "markdown",
   "metadata": {},
   "source": [
    "By doing above changes; we improved our code a lot and now rating is 7.14 out of 10\n",
    "We can supress the above two errors as well\n",
    "\n",
    "by putting comment as \n",
    "\n",
    "#pylint: disable=unused-arguments"
   ]
  },
  {
   "cell_type": "code",
   "execution_count": 13,
   "metadata": {},
   "outputs": [
    {
     "name": "stdout",
     "output_type": "stream",
     "text": [
      "No config file found, using default configuration\n",
      "************* Module code03\n",
      "R:  7, 0: Too few public methods (0/2) (too-few-public-methods)\n",
      "\n",
      "-----------------------------------\n",
      "Your code has been rated at 8.57/10\n",
      "\n"
     ]
    }
   ],
   "source": [
    "!pylint code03.py"
   ]
  },
  {
   "cell_type": "markdown",
   "metadata": {},
   "source": [
    "Now, another warning is 'Too few public methods'\n",
    "As we define only __init__ method - But that is okay - We don't have any requirement\n",
    "so, we can supress this warning was well"
   ]
  },
  {
   "cell_type": "code",
   "execution_count": 14,
   "metadata": {},
   "outputs": [
    {
     "name": "stdout",
     "output_type": "stream",
     "text": [
      "No config file found, using default configuration\n",
      "\n",
      "------------------------------------\n",
      "Your code has been rated at 10.00/10\n",
      "\n"
     ]
    }
   ],
   "source": [
    "!pylint code04.py"
   ]
  },
  {
   "cell_type": "markdown",
   "metadata": {},
   "source": [
    "Now, we could see ratin is 10/10 - and Now our code is perfect and matching PEP8 coding standards"
   ]
  }
 ],
 "metadata": {
  "kernelspec": {
   "display_name": "Python 3",
   "language": "python",
   "name": "python3"
  },
  "language_info": {
   "codemirror_mode": {
    "name": "ipython",
    "version": 3
   },
   "file_extension": ".py",
   "mimetype": "text/x-python",
   "name": "python",
   "nbconvert_exporter": "python",
   "pygments_lexer": "ipython3",
   "version": "3.6.9"
  }
 },
 "nbformat": 4,
 "nbformat_minor": 2
}
