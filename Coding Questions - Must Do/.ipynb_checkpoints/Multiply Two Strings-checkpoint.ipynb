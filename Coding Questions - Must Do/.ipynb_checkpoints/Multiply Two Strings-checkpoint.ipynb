{
 "cells": [
  {
   "cell_type": "raw",
   "metadata": {},
   "source": [
    "Asked in Adobe, Amazon, Facebook, Microsoft, Samsung."
   ]
  },
  {
   "cell_type": "raw",
   "metadata": {},
   "source": [
    "Given two numbers as stings s1 and s2 your task is to multiply them. You are required to complete the function multiplyStrings which takes two strings s1 and s2 as its only argument and returns their product as strings.\n",
    "\n",
    "Input:\n",
    "The first line of input contains an integer T denoting the no of test cases. Then T test cases follow . Each test case contains two strings s1 and s2 .\n",
    "\n",
    "Output:\n",
    "For each test case in a new line the output will be a string denoting the product of the two strings s1 and s2.\n",
    "\n",
    "Constraints:\n",
    "1 <= T <= 100\n",
    "1 <= length of s1 and s2 <= 103\n",
    "\n",
    "Example(To be used only for expected output) :\n",
    "Input:\n",
    "2\n",
    "33 2\n",
    "11 23\n",
    "Output:\n",
    "66\n",
    "253\n",
    "\n",
    "NOTE: You can't use inbuilt function to convert strings to integers."
   ]
  },
  {
   "cell_type": "code",
   "execution_count": 59,
   "metadata": {},
   "outputs": [
    {
     "name": "stdout",
     "output_type": "stream",
     "text": [
      "Enter 1st number: 123\n",
      "Enter 2nd number: 124\n",
      "15252\n"
     ]
    }
   ],
   "source": [
    "def multiply(num1,num2):\n",
    "    \n",
    "    sign = False\n",
    "    \n",
    "    if num1[0] == '-' and num2[0] == '-':\n",
    "        num1 = num1[1:]\n",
    "        num2 = num2[1:]\n",
    "    \n",
    "    elif num1[0] == '-' and num2[0] != '-':\n",
    "        num1 = num1[1:]\n",
    "        sign = True\n",
    "    \n",
    "    elif num1[0] != '-' and num2[0] == '-':\n",
    "        num2 = num2[1:]\n",
    "        sign = True\n",
    "    \n",
    "    if num1 == '0' or num2 == '0':\n",
    "        return 0\n",
    "    \n",
    "    result = ['0'] * (len(num1)+len(num2))\n",
    "    \n",
    "    num1 = list(int(i) for i in num1)\n",
    "    num2 = list(int(i) for i in num2)\n",
    "    \n",
    "    for i in range(len(num2)-1,-1,-1):\n",
    "        for j in range(len(num1)-1,-1,-1):\n",
    "            mul = num1[j]*num2[i]\n",
    "            tmp = int(result[i+j+1]) + mul \n",
    "            result[i+j+1] = str(tmp%10)\n",
    "            carry = tmp//10\n",
    "            result[i+j] = str(int(result[i+j]) + carry)\n",
    "    \n",
    "    result = \"\".join([str(i) for i in result]).lstrip(\"0\")\n",
    "    \n",
    "    if sign:\n",
    "        return '-'+result\n",
    "    else:\n",
    "        return result\n",
    "                  \n",
    "num1 = input(\"Enter 1st number: \")\n",
    "num2 = input(\"Enter 2nd number: \")\n",
    "print(multiply(num1,num2))"
   ]
  }
 ],
 "metadata": {
  "kernelspec": {
   "display_name": "Python 3",
   "language": "python",
   "name": "python3"
  },
  "language_info": {
   "codemirror_mode": {
    "name": "ipython",
    "version": 3
   },
   "file_extension": ".py",
   "mimetype": "text/x-python",
   "name": "python",
   "nbconvert_exporter": "python",
   "pygments_lexer": "ipython3",
   "version": "3.6.9"
  }
 },
 "nbformat": 4,
 "nbformat_minor": 2
}
