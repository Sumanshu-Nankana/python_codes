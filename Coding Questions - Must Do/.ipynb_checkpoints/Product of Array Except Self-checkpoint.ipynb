{
 "cells": [
  {
   "cell_type": "raw",
   "metadata": {},
   "source": [
    "Given an array nums of n integers where n > 1,  return an array output such that output[i] is equal to the product of all the elements of nums except nums[i].\n",
    "\n",
    "Example:\n",
    "\n",
    "Input:  [1,2,3,4]\n",
    "Output: [24,12,8,6]\n",
    "\n",
    "Note: Please solve it without division and in O(n).\n",
    "    \n",
    "Asked in: Facebook, Google, Apple, Microsoft, Linkden"
   ]
  },
  {
   "cell_type": "raw",
   "metadata": {},
   "source": [
    "METHOD - 1\n",
    "\n",
    "We pick first element and then multiply rest\n",
    "Then we pick second element and then multiply with rest\n",
    "\n",
    "Basic Approach - But with O(n^2)\n",
    "In Question it's mention we need to do in O(n)"
   ]
  },
  {
   "cell_type": "code",
   "execution_count": 10,
   "metadata": {},
   "outputs": [
    {
     "name": "stdout",
     "output_type": "stream",
     "text": [
      "\n",
      "Number of elements should be > 0\n",
      "1\n",
      "[1]\n"
     ]
    }
   ],
   "source": [
    "def productofArrayExceptItself(arr):\n",
    "    out = []\n",
    "    temp = 1\n",
    "    for i in range(len(arr)):\n",
    "        for j in range(len(arr)):\n",
    "            if i == j:\n",
    "                pass\n",
    "            else:\n",
    "                temp = temp*arr[j]\n",
    "        out.append(temp)\n",
    "        temp = 1\n",
    "    print(out)\n",
    "        \n",
    "while True:\n",
    "    arr = [int(i) for i in input().split()]\n",
    "    if len(arr) == 0:\n",
    "        print(\"Number of elements should be > 0\")\n",
    "        continue\n",
    "    else:\n",
    "        productofArrayExceptItself(arr)\n",
    "        break "
   ]
  },
  {
   "cell_type": "raw",
   "metadata": {},
   "source": [
    "METHOD -2 \n",
    "\n",
    "In this we run one loop - and multiply all\n",
    "Then we run second loop - and divide by every element ; and restult store in output\n",
    "\n",
    "This took O(n) ; but we use division operator\n",
    "In question; it's mention we have to do this without division operator."
   ]
  },
  {
   "cell_type": "code",
   "execution_count": 12,
   "metadata": {},
   "outputs": [
    {
     "name": "stdout",
     "output_type": "stream",
     "text": [
      "1 2 3 4\n",
      "[24, 12, 8, 6]\n"
     ]
    }
   ],
   "source": [
    "def productofArrayExceptItself(arr):\n",
    "    out = []\n",
    "    temp = 1\n",
    "    \n",
    "    for i in range(len(arr)):\n",
    "        temp = temp*arr[i]\n",
    "    \n",
    "    for i in range(len(arr)):\n",
    "        temp1 = int(temp/arr[i])\n",
    "        out.append(temp1)\n",
    "    \n",
    "    print(out)\n",
    "        \n",
    "while True:\n",
    "    arr = [int(i) for i in input().split()]\n",
    "    if len(arr) == 0:\n",
    "        print(\"Number of elements should be > 0\")\n",
    "        continue\n",
    "    else:\n",
    "        productofArrayExceptItself(arr)\n",
    "        break "
   ]
  },
  {
   "cell_type": "raw",
   "metadata": {},
   "source": [
    "METHOD - 3\n",
    "\n",
    "For every number; we need to do multiply of its left elements products with right elements product.\n",
    "So, we make two arrays left_product = [] which store the left products.\n",
    "and right_array = [] which will store the right products.\n",
    "and then multiply left_product with right_product for every index\n",
    "\n",
    "input = [1,2,3,4]\n",
    "left_products = [1,1,2,6]\n",
    "right_products = [24,12,4,1]\n",
    "output = [24,12,8,6]\n",
    "\n",
    "\n",
    "Here time complexity is O(n) ; But we are using extra space\n",
    "But We need to solve it without using extra space"
   ]
  },
  {
   "cell_type": "code",
   "execution_count": 45,
   "metadata": {},
   "outputs": [
    {
     "name": "stdout",
     "output_type": "stream",
     "text": [
      "1 2\n",
      "[2, 1]\n"
     ]
    }
   ],
   "source": [
    "def productofArrayExceptItself(arr):\n",
    "    left_products = []\n",
    "    right_products = [0]*len(arr)\n",
    "    output = []\n",
    "    \n",
    "    \n",
    "    # left products\n",
    "    for i in range(len(arr)):\n",
    "        if i == 0:\n",
    "            prod = 1\n",
    "        else:\n",
    "            prod = left_products[i-1]*arr[i-1]\n",
    "        left_products.insert(i,prod)\n",
    "    \n",
    "    \n",
    "    # right products\n",
    "    for i in range(len(arr)-1,-1,-1):\n",
    "        if i == len(arr)-1:\n",
    "            prod = 1\n",
    "        else:\n",
    "            prod = right_products[i+1]*arr[i+1]\n",
    "        right_products[i] = prod\n",
    "    \n",
    "    for i in range(len(arr)):\n",
    "        output.append(left_products[i]*right_products[i])\n",
    "    \n",
    "    print(output)\n",
    "    \n",
    "while True:\n",
    "    arr = [int(i) for i in input().split()]\n",
    "    if len(arr) == 0:\n",
    "        print(\"Number of elements should be > 0\")\n",
    "        continue\n",
    "    else:\n",
    "        productofArrayExceptItself(arr)\n",
    "        break "
   ]
  },
  {
   "cell_type": "raw",
   "metadata": {},
   "source": [
    "What we can do is;\n",
    "to put the left_product entries; we can use the output array\n",
    "and for right product = we can store the value in a variable and then multiple with output array index and update output array as well"
   ]
  },
  {
   "cell_type": "code",
   "execution_count": 1,
   "metadata": {},
   "outputs": [
    {
     "name": "stdout",
     "output_type": "stream",
     "text": [
      "1 2 3 4\n",
      "[24, 12, 8, 6]\n"
     ]
    }
   ],
   "source": [
    "def productofArrayExceptItself(arr):\n",
    "    output = []\n",
    "\n",
    "    # left products\n",
    "    for i in range(len(arr)):\n",
    "        if i == 0:\n",
    "            prod = 1\n",
    "        else:\n",
    "            prod = output[i-1]*arr[i-1]\n",
    "        output.insert(i,prod)\n",
    "    \n",
    "    \n",
    "    # right product in a variable and store oupdate output array\n",
    "    prod = 1\n",
    "    for i in range(len(arr)-1,-1,-1):\n",
    "        output[i] = output[i]*prod\n",
    "        prod = prod*arr[i]\n",
    "        \n",
    "        \n",
    "    print(output)\n",
    "    \n",
    "while True:\n",
    "    arr = [int(i) for i in input().split()]\n",
    "    if len(arr) == 0:\n",
    "        print(\"Number of elements should be > 0\")\n",
    "        continue\n",
    "    else:\n",
    "        productofArrayExceptItself(arr)\n",
    "        break "
   ]
  }
 ],
 "metadata": {
  "kernelspec": {
   "display_name": "Python 3",
   "language": "python",
   "name": "python3"
  },
  "language_info": {
   "codemirror_mode": {
    "name": "ipython",
    "version": 3
   },
   "file_extension": ".py",
   "mimetype": "text/x-python",
   "name": "python",
   "nbconvert_exporter": "python",
   "pygments_lexer": "ipython3",
   "version": "3.6.9"
  }
 },
 "nbformat": 4,
 "nbformat_minor": 2
}
