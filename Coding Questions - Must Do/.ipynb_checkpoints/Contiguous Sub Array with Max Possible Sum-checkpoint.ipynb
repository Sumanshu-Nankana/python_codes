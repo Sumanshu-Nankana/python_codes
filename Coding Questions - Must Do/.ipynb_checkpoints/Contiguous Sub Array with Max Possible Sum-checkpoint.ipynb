{
 "cells": [
  {
   "cell_type": "raw",
   "metadata": {},
   "source": [
    "Asked by Microsoft, Linkedln, Amazon, Samsung"
   ]
  },
  {
   "cell_type": "raw",
   "metadata": {},
   "source": [
    "Given an array of integers, find the maximum possible sum you can get from on of its contiguous subarray\n",
    "The subarray from which this sum comes must contains at least 1 element\n",
    "\n",
    "Input ==> [-2,2,5,-11,6]\n",
    "Output ==> [2,5] sum = 7\n",
    "\n",
    "\n",
    "Because => \n",
    "[-2,2,5,-11,6] == 0\n",
    "[2] == 2\n",
    "[2,5] == 7\n",
    "[5,-11] = 6"
   ]
  },
  {
   "cell_type": "raw",
   "metadata": {},
   "source": [
    "O(n^2) Solution - BRUTE FORCE SOLUTION"
   ]
  },
  {
   "cell_type": "code",
   "execution_count": 19,
   "metadata": {},
   "outputs": [
    {
     "name": "stdout",
     "output_type": "stream",
     "text": [
      "-2 2 5 -11 6\n",
      "5 4 2\n"
     ]
    }
   ],
   "source": [
    "def contiuousSubArrayWithMaxSum(arr):\n",
    "    final = 0\n",
    "    for i in range(len(arr)):\n",
    "        max_sum = -9999999\n",
    "        temp = 0\n",
    "        for j in range(len(arr)):\n",
    "            temp = temp + arr[j]\n",
    "            if temp > max_sum:\n",
    "                max_sum = temp\n",
    "                \n",
    "            if max_sum > final:\n",
    "                final = max_sum\n",
    "                \n",
    "    print(final)\n",
    "    \n",
    "arr = [int(i) for i in input().split()]\n",
    "contiuousSubArrayWithMaxSum(arr)"
   ]
  },
  {
   "cell_type": "raw",
   "metadata": {},
   "source": [
    "O(n) == Kadane's Algorithm"
   ]
  },
  {
   "cell_type": "code",
   "execution_count": 21,
   "metadata": {},
   "outputs": [
    {
     "name": "stdout",
     "output_type": "stream",
     "text": [
      "-2 2 5 -11 6\n",
      "7\n"
     ]
    }
   ],
   "source": [
    "def contiuousSubArrayWithMaxSum(arr):\n",
    "    max_sum = arr[0]\n",
    "    current_sum = arr[0]\n",
    "    for i in range(1,len(arr)):\n",
    "        current_sum = max(arr[i]+current_sum,arr[i])\n",
    "        max_sum = max(current_sum,max_sum)       \n",
    "        \n",
    "    print(max_sum)\n",
    "    \n",
    "arr = [int(i) for i in input().split()]\n",
    "contiuousSubArrayWithMaxSum(arr)"
   ]
  }
 ],
 "metadata": {
  "kernelspec": {
   "display_name": "Python 3",
   "language": "python",
   "name": "python3"
  },
  "language_info": {
   "codemirror_mode": {
    "name": "ipython",
    "version": 3
   },
   "file_extension": ".py",
   "mimetype": "text/x-python",
   "name": "python",
   "nbconvert_exporter": "python",
   "pygments_lexer": "ipython3",
   "version": "3.6.9"
  }
 },
 "nbformat": 4,
 "nbformat_minor": 2
}
