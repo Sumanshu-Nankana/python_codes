{
 "cells": [
  {
   "cell_type": "raw",
   "metadata": {},
   "source": [
    "Asked in Facebook, Amazon, Microsoft, Twitter, InfoEdge,"
   ]
  },
  {
   "cell_type": "raw",
   "metadata": {},
   "source": [
    "Given an integer n your task is to complete the function convertToRoman which prints the corresponding roman number of n .\n",
    "\n",
    "Input:\n",
    "The first line of each test case contains the no of test cases T. Then T test cases follow. Each test case contains a single integer n.\n",
    "\n",
    "Output:\n",
    "For each test case in a new line output will be the roman number representation of n. \n",
    "\n",
    "Constraints:\n",
    "1<=T<=100\n",
    "1<=n<4000\n",
    "\n",
    "Example:\n",
    "Input\n",
    "2\n",
    "5\n",
    "3\n",
    "Output\n",
    "V\n",
    "III "
   ]
  },
  {
   "cell_type": "markdown",
   "metadata": {},
   "source": [
    "<img src=\"RomanNumbers.jpg\" style=height:200px;width:400px/>"
   ]
  },
  {
   "cell_type": "code",
   "execution_count": null,
   "metadata": {},
   "outputs": [],
   "source": [
    "def integerToRoman(num):\n",
    "    \n",
    "    numerals = ['M','CM','D','CD','C','XC','L','XL','X','IX','V','IV','I']\n",
    "    values = [1000,900,500,400,100,90,50,40,10,9,5,4,1]\n",
    "    output = []\n",
    "    \n",
    "    i = 0\n",
    "    while num > 0:\n",
    "        if (num - values[i] >= 0):\n",
    "            output.append(numerals[i])\n",
    "            num = num - values[i]\n",
    "        else:\n",
    "            i+=1\n",
    "    \n",
    "    return ''.join(output)            \n",
    "\n",
    "#while True:\n",
    "num = int(input(\"Enter any Number between 1 and 3999: \"))\n",
    "#if (num <=0 or num >=4000):\n",
    "#    pass\n",
    "#else:\n",
    "print(integerToRoman(num))\n",
    "#break"
   ]
  },
  {
   "cell_type": "markdown",
   "metadata": {},
   "source": [
    "<h4> Using Recursion </h4>"
   ]
  },
  {
   "cell_type": "code",
   "execution_count": 43,
   "metadata": {},
   "outputs": [
    {
     "name": "stdout",
     "output_type": "stream",
     "text": [
      "Enter any Number between 1 and 3999: 89\n",
      "LXXXIX\n"
     ]
    }
   ],
   "source": [
    "def integerToRoman2(num):\n",
    "    \n",
    "    dic = {'I':1,'IV':4,'V':5,'IX':9,'X':10,'XL':40,'L':50,'XC':90,'C':100,'CD':400,'D':500,'CM':900,'M':1000}\n",
    "    \n",
    "    for symbol,value in dic.items():\n",
    "        if value == num: return symbol\n",
    "        if num > value:\n",
    "            symb = symbol\n",
    "            \n",
    "    remaining = num - dic[symb]\n",
    "    return symb + integerToRoman2(remaining)\n",
    "\n",
    "num = int(input(\"Enter any Number between 1 and 3999: \"))\n",
    "print(integerToRoman2(num))"
   ]
  },
  {
   "cell_type": "raw",
   "metadata": {},
   "source": [
    "We use the dictionary, because after Python 3.6, dictionary is printing the values in provided order only"
   ]
  }
 ],
 "metadata": {
  "kernelspec": {
   "display_name": "Python 3",
   "language": "python",
   "name": "python3"
  },
  "language_info": {
   "codemirror_mode": {
    "name": "ipython",
    "version": 3
   },
   "file_extension": ".py",
   "mimetype": "text/x-python",
   "name": "python",
   "nbconvert_exporter": "python",
   "pygments_lexer": "ipython3",
   "version": "3.6.9"
  }
 },
 "nbformat": 4,
 "nbformat_minor": 2
}
