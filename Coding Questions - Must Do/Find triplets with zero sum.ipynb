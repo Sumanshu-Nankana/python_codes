{
 "cells": [
  {
   "cell_type": "raw",
   "metadata": {},
   "source": [
    "Asked in Facebook, Amazon and Google"
   ]
  },
  {
   "cell_type": "raw",
   "metadata": {},
   "source": [
    "Given an array A[] of N elements. The task is to complete the function which returns true if triplets exists in array A whose sum is zero else returns false.\n",
    "\n",
    "Input Format:\n",
    "The first line of input contains an integer T, denoting the number of test cases. Then T test cases follow. The first line of each test case contains an integer N, denoting the number of elements in array. The second line of each test case contains N space separated values of the array.\n",
    "\n",
    "Output:\n",
    "For each test case, output will be 1 if triplet exists else 0.\n",
    "\n",
    "Your Task:\n",
    "Your task is to complete the function findTriplets() which check if the triplet with sum 0 exists or not. This is of boolean type which returns either true of false.\n",
    "\n",
    "Constrains:\n",
    "1 <= T <= 100\n",
    "1 <= N <= 106\n",
    "-106 <= A <= 106\n",
    "\n",
    "Example:\n",
    "Input:\n",
    "2\n",
    "5\n",
    "0 -1 2 -3 1\n",
    "3\n",
    "1 2 3\n",
    "\n",
    "Output:\n",
    "1\n",
    "0\n",
    "\n",
    "Explanation:\n",
    "Testcase 1: 0, -1 and 1 forms a triplet with sum equal to 0.\n",
    "Testcase 2: No triplet exists which sum to 0."
   ]
  },
  {
   "cell_type": "code",
   "execution_count": 15,
   "metadata": {},
   "outputs": [
    {
     "name": "stdout",
     "output_type": "stream",
     "text": [
      "1 2 -3\n"
     ]
    },
    {
     "data": {
      "text/plain": [
       "1"
      ]
     },
     "execution_count": 15,
     "metadata": {},
     "output_type": "execute_result"
    }
   ],
   "source": [
    "def tripletWithZeroSum(arr):\n",
    "    for i in range(len(arr)-2):\n",
    "        for j in range(i+1,len(arr)-1):\n",
    "            for k in range(j+1,len(arr)):\n",
    "                if (arr[i]+arr[j]+arr[k]) == 0:\n",
    "                    return 1\n",
    "                    break\n",
    "    return 0                \n",
    "\n",
    "arr = list(int(i) for i in input().split())\n",
    "tripletWithZeroSum(arr)"
   ]
  },
  {
   "cell_type": "code",
   "execution_count": 25,
   "metadata": {},
   "outputs": [
    {
     "name": "stdout",
     "output_type": "stream",
     "text": [
      "1 2 3 4 -2 1 0\n",
      "1\n"
     ]
    }
   ],
   "source": [
    "def tripletWithZeroSum2(arr):\n",
    "    \n",
    "    if len(arr) < 3: return 0\n",
    "    \n",
    "    forward = arr[1]\n",
    "    backward = len(arr) - 1\n",
    "    i = 0\n",
    "    \n",
    "    while backward > forward:\n",
    "        if arr[i] + arr[forward] + arr[backward] == 0: \n",
    "            return 1 \n",
    "            break\n",
    "        if arr[i] + arr[forward] + arr[backward] < 0: \n",
    "            forward+=1\n",
    "        if arr[i] + arr[forward] + arr[backward] > 0: \n",
    "            backward-=1\n",
    "        i+=1\n",
    "    \n",
    "    return 0\n",
    "\n",
    "arr = list(int(i) for i in input().split())\n",
    "arr.sort()\n",
    "print(tripletWithZeroSum2(arr))"
   ]
  }
 ],
 "metadata": {
  "kernelspec": {
   "display_name": "Python 3",
   "language": "python",
   "name": "python3"
  },
  "language_info": {
   "codemirror_mode": {
    "name": "ipython",
    "version": 3
   },
   "file_extension": ".py",
   "mimetype": "text/x-python",
   "name": "python",
   "nbconvert_exporter": "python",
   "pygments_lexer": "ipython3",
   "version": "3.6.9"
  }
 },
 "nbformat": 4,
 "nbformat_minor": 2
}
