{
 "cells": [
  {
   "cell_type": "markdown",
   "metadata": {},
   "source": [
    "Asked in FACEBOOK"
   ]
  },
  {
   "cell_type": "raw",
   "metadata": {},
   "source": [
    "Example1 :-\n",
    "\n",
    "array = [1,2,3,7,5]\n",
    "s = 12\n",
    "\n",
    "There are two sub array = [2,3,7] and [7,5]\n",
    "But longest is [2,3,7]\n",
    "\n",
    "output = [2,3,7] which is --> Position [2,4]\n",
    "\n",
    "if No subarray, output is -1\n",
    "\n",
    "--------------------------\n",
    "\n",
    "Example2 :-\n",
    "\n",
    "array = [1,2,3,4,5,6,7,8,9,10]\n",
    "S = 15\n",
    "\n",
    "There are various sub array:-\n",
    "[1,2,3,4,5] ; [4,5,6]\n",
    "\n",
    "But longest is :- [1,2,3,4,5]\n",
    "output = [1,5] position\n",
    "\n",
    "--------------------------\n",
    "\n",
    "Example3 :-\n",
    "\n",
    "array = [1,2,3,4,5,0,0,0,6,7,8,9,10]\n",
    "S = 15\n",
    "\n",
    "Longest subarray is = [1,2,3,4,5,0,0,0]\n",
    "output = [1,8]"
   ]
  },
  {
   "cell_type": "code",
   "execution_count": 29,
   "metadata": {},
   "outputs": [
    {
     "name": "stdout",
     "output_type": "stream",
     "text": [
      "Enter array: 1 2\n",
      "Enter Sum: 5\n",
      "-1\n"
     ]
    }
   ],
   "source": [
    "# NAIVE - BRUTE FORCE SOLUTION #\n",
    "# Time complexity is O(n^2) #\n",
    "\n",
    "def findlongestsubarraybySum(arr,s):\n",
    "    if len(arr) == 1:\n",
    "        if arr[0] == s:\n",
    "            print(0,0)\n",
    "            return\n",
    "        else:\n",
    "            print(-1)\n",
    "            return\n",
    "    else:\n",
    "        sum1 = -1\n",
    "        start = -1\n",
    "        end = -1\n",
    "        for i in range(len(arr)-1):\n",
    "            sum1 = arr[i]\n",
    "            for j in range(i+1,len(arr)):\n",
    "                sum1 = sum1+arr[j]\n",
    "                if sum1 == s:\n",
    "                    new_start = i\n",
    "                    new_end = j\n",
    "                    if new_end - new_start > end-start:\n",
    "                        start = new_start\n",
    "                        end = new_end\n",
    "                    else:\n",
    "                        continue\n",
    "    if start != -1 and end != -1:\n",
    "        print(start+1,end+1)\n",
    "    else:\n",
    "        print(-1)\n",
    "\n",
    "arr = [int(i) for i in input(\"Enter array: \").split()]\n",
    "s = int(input(\"Enter Sum: \"))\n",
    "findlongestsubarraybySum(arr,s)"
   ]
  },
  {
   "cell_type": "code",
   "execution_count": 44,
   "metadata": {},
   "outputs": [
    {
     "name": "stdout",
     "output_type": "stream",
     "text": [
      "Enter array: 1 2 3 7 5\n",
      "Enter Sum: 12\n",
      "2 4\n"
     ]
    }
   ],
   "source": [
    "def findlongestsubarraybySum(arr,s):\n",
    "    start = 0\n",
    "    end = 0\n",
    "    current_sum = 0\n",
    "    l = 0\n",
    "    for i in range(len(arr)):\n",
    "        current_sum = current_sum+arr[end]\n",
    "        if current_sum < s:\n",
    "            end = end+1\n",
    "        elif current_sum > s:\n",
    "            current_sum = current_sum - arr[start]\n",
    "            start = start+1\n",
    "        if (current_sum == s) and (end-start) >l:\n",
    "            new_start = start\n",
    "            new_end = end\n",
    "            l = end-start\n",
    "            end = end+1\n",
    "    if l > 0:\n",
    "        print(new_start+1,new_end+1)\n",
    "    else:\n",
    "        print(-1)\n",
    "\n",
    "arr = [int(i) for i in input(\"Enter array: \").split()]\n",
    "s = int(input(\"Enter Sum: \"))\n",
    "findlongestsubarraybySum(arr,s)"
   ]
  }
 ],
 "metadata": {
  "kernelspec": {
   "display_name": "Python 3",
   "language": "python",
   "name": "python3"
  },
  "language_info": {
   "codemirror_mode": {
    "name": "ipython",
    "version": 3
   },
   "file_extension": ".py",
   "mimetype": "text/x-python",
   "name": "python",
   "nbconvert_exporter": "python",
   "pygments_lexer": "ipython3",
   "version": "3.6.9"
  }
 },
 "nbformat": 4,
 "nbformat_minor": 2
}
