{
 "cells": [
  {
   "cell_type": "raw",
   "metadata": {},
   "source": [
    "Asked in Adobe, Amazon, Facebook, Google, Morgan Stanley, Visa, Zoho,FactSet"
   ]
  },
  {
   "cell_type": "raw",
   "metadata": {},
   "source": [
    "Given an unsorted array A of size N of non-negative integers, find a continuous sub-array which adds to a given number S.\n",
    "\n",
    "Input:\n",
    "The first line of input contains an integer T denoting the number of test cases. Then T test cases follow. Each test case consists of two lines. The first line of each test case is N and S, where N is the size of array and S is the sum. The second line of each test case contains N space separated integers denoting the array elements.\n",
    "\n",
    "Output:\n",
    "For each testcase, in a new line, print the starting and ending positions(1 indexing) of first such occuring subarray from the left if sum equals to subarray, else print -1.\n",
    "\n",
    "Constraints:\n",
    "1 <= T <= 100\n",
    "1 <= N <= 107\n",
    "1 <= Ai <= 1010\n",
    "\n",
    "Example:\n",
    "Input:\n",
    "2\n",
    "5 12\n",
    "1 2 3 7 5\n",
    "10 15\n",
    "1 2 3 4 5 6 7 8 9 10\n",
    "Output:\n",
    "2 4\n",
    "1 5\n",
    "\n",
    "Explanation :\n",
    "Testcase1: sum of elements from 2nd position to 4th position is 12\n",
    "Testcase2: sum of elements from 1st position to 5th position is 15"
   ]
  },
  {
   "cell_type": "markdown",
   "metadata": {},
   "source": [
    "<h4> Basic Approach </h4>"
   ]
  },
  {
   "cell_type": "code",
   "execution_count": 15,
   "metadata": {},
   "outputs": [
    {
     "name": "stdout",
     "output_type": "stream",
     "text": [
      "1 2 3 4 5 6 7 8 9 10\n",
      "15\n",
      "1 5\n"
     ]
    }
   ],
   "source": [
    "def continous_subarray_with_given_sum(arr,given_sum):\n",
    "    if len(arr) <= 1:\n",
    "        if arr[0] == given_sum:\n",
    "            print(0,0)\n",
    "            return\n",
    "        else:\n",
    "            print(-1)\n",
    "            return\n",
    "    for i in range(len(arr)-1):\n",
    "        sum = arr[i]\n",
    "        for j in range(i+1,len(arr)):\n",
    "            sum = sum+arr[j]\n",
    "            if sum == given_sum:\n",
    "                print(i+1,j+1)\n",
    "                return\n",
    "    print(-1)\n",
    "\n",
    "arr = [int(i) for i in input().split()]\n",
    "given_sum = int(input())\n",
    "continous_subarray_with_given_sum(arr,given_sum)"
   ]
  },
  {
   "cell_type": "markdown",
   "metadata": {},
   "source": [
    "<h4> Other Method </h4>"
   ]
  },
  {
   "cell_type": "markdown",
   "metadata": {},
   "source": [
    "We will maintain two pointers \n",
    "and in starting both pointers are at 0th index\n",
    "and we will take one variable sum which is 0 at starting\n",
    "Now we will add 0th index to variable and compare to givensum\n",
    "if sum < given_sum, we will shift right pointer ; \n",
    "else we will shift left pointer\n",
    "and when we shift left pointer, we will subtract preious element from the sum."
   ]
  },
  {
   "cell_type": "code",
   "execution_count": 63,
   "metadata": {},
   "outputs": [
    {
     "name": "stdout",
     "output_type": "stream",
     "text": [
      "1\n",
      "1\n",
      "1 1\n"
     ]
    }
   ],
   "source": [
    "def continous_subarray_with_given_sum1(arr,given_sum):\n",
    "    if len(arr) <= 1:\n",
    "        if given_sum == arr[0]:\n",
    "            print(0,0)\n",
    "            return\n",
    "        else:\n",
    "            print(-1)\n",
    "            return\n",
    "    start = 0\n",
    "    end = 0\n",
    "    sum = arr[start]\n",
    "    while (end < len(arr)-1):\n",
    "        if sum == given_sum:\n",
    "            print(start,end)\n",
    "            return\n",
    "        if sum > given_sum and start < end:\n",
    "            sum = sum - arr[start]\n",
    "            start = start + 1\n",
    "        elif sum < given_sum and end < len(arr):\n",
    "            end = end + 1\n",
    "            sum = sum + arr[end]\n",
    "            \n",
    "    print(-1)        \n",
    "\n",
    "arr = [int(i) for i in input().split()]\n",
    "given_sum = int(input())\n",
    "continous_subarray_with_given_sum1(arr,given_sum)\n",
    "\n",
    "# 1 2 3 7 5 = 12  (1 to 3  -- 2 to 4 )\n",
    "# 1 2 3 4 5 6 7 8 9 10 = 15  (0 to 4 --- 1 to 5)\n",
    "# 10 3 5 8 6 12 20 15 31 -- (2 to 5 --- 3 to 6)"
   ]
  }
 ],
 "metadata": {
  "kernelspec": {
   "display_name": "Python 3",
   "language": "python",
   "name": "python3"
  },
  "language_info": {
   "codemirror_mode": {
    "name": "ipython",
    "version": 3
   },
   "file_extension": ".py",
   "mimetype": "text/x-python",
   "name": "python",
   "nbconvert_exporter": "python",
   "pygments_lexer": "ipython3",
   "version": "3.6.9"
  }
 },
 "nbformat": 4,
 "nbformat_minor": 2
}
