{
 "cells": [
  {
   "cell_type": "raw",
   "metadata": {},
   "source": [
    "Asked in Amazon"
   ]
  },
  {
   "cell_type": "raw",
   "metadata": {},
   "source": [
    "Given a string, find its first non-repeating character"
   ]
  },
  {
   "cell_type": "markdown",
   "metadata": {},
   "source": [
    "<h4> METHOD -1 </h4>"
   ]
  },
  {
   "cell_type": "code",
   "execution_count": 4,
   "metadata": {},
   "outputs": [
    {
     "name": "stdout",
     "output_type": "stream",
     "text": [
      "GeeksforGeeks\n",
      "f\n"
     ]
    }
   ],
   "source": [
    "def firstNonRepeatingChar(string):\n",
    "    dic = {}\n",
    "    for c in string:\n",
    "        if c not in dic:\n",
    "            dic[c] = 1\n",
    "        else:\n",
    "            dic[c] += 1\n",
    "    \n",
    "    for key,value in dic.items():\n",
    "        if value == 1:\n",
    "            print(key)\n",
    "            break\n",
    "            \n",
    "string = input()\n",
    "firstNonRepeatingChar(string)"
   ]
  },
  {
   "cell_type": "raw",
   "metadata": {},
   "source": [
    "But in Above approach, First we are traversing through Input string\n",
    "Then we are traversing through dictionary. Which is not a good practice"
   ]
  }
 ],
 "metadata": {
  "kernelspec": {
   "display_name": "Python 3",
   "language": "python",
   "name": "python3"
  },
  "language_info": {
   "codemirror_mode": {
    "name": "ipython",
    "version": 3
   },
   "file_extension": ".py",
   "mimetype": "text/x-python",
   "name": "python",
   "nbconvert_exporter": "python",
   "pygments_lexer": "ipython3",
   "version": "3.6.9"
  }
 },
 "nbformat": 4,
 "nbformat_minor": 2
}
