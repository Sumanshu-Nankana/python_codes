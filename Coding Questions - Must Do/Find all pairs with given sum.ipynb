{
 "cells": [
  {
   "cell_type": "raw",
   "metadata": {},
   "source": [
    "Asked in Amazon, Facebook, United Health Group"
   ]
  },
  {
   "cell_type": "raw",
   "metadata": {},
   "source": [
    "Given two unsorted arrays A of size N and B of size M of distinct elements, the task is to find all pairs from both arrays whose sum is equal to X.\n",
    "\n",
    "Input:\n",
    "The first line of input contains an integer T denoting the no of test cases. Then T test cases follow. Each test case contains 3 lines . The first line contains 3 space separated integers N, M, X. Then in the next two lines are space separated values of the array A and B respectively.\n",
    "\n",
    "Output:\n",
    "For each test case in a new line print the sorted space separated values of all the pairs u,v where u belongs to array A and v belongs to array B, such that each pair is separated from the other by a ',' without quotes also add a space after the ',' . If no such pair exist print -1.\n",
    "\n",
    "Constraints:\n",
    "1 <= T <= 100\n",
    "1 <= N, M, X <= 106\n",
    "-106 <= A, B <= 106\n",
    "\n",
    "Example:\n",
    "Input:\n",
    "2\n",
    "5 5 9\n",
    "1 2 4 5 7\n",
    "5 6 3 4 8\n",
    "2 2 3\n",
    "0 2\n",
    "1 3\n",
    "Output:\n",
    "1 8, 4 5, 5 4\n",
    "0 3, 2 1\n",
    "\n",
    "Explanation:\n",
    "Testcase 1: (1, 8), (4, 5), (5, 4) are the pairs which sum to 9."
   ]
  },
  {
   "cell_type": "code",
   "execution_count": 3,
   "metadata": {},
   "outputs": [
    {
     "name": "stdout",
     "output_type": "stream",
     "text": [
      "Enter 1st array: 0 2\n",
      "Enter 2nd array: 1 3\n",
      "Enter Sum:3\n",
      "0 3,2 1,"
     ]
    }
   ],
   "source": [
    "def pairsWithSum(arr1,arr2,sum):\n",
    "    for i in range(len(arr1)):\n",
    "        for j in range(len(arr2)):\n",
    "            if arr1[i]+arr2[j] == sum:\n",
    "                if i == len(arr1)-1:\n",
    "                    sep = ','\n",
    "                print(arr1[i],arr2[j],end = ',')\n",
    "\n",
    "arr1 = list(int(i) for i in input(\"Enter 1st array: \").split())\n",
    "arr2 = list(int(i) for i in input(\"Enter 2nd array: \").split())\n",
    "sum = int(input(\"Enter Sum:\"))\n",
    "pairsWithSum(arr1,arr2,sum)"
   ]
  },
  {
   "cell_type": "code",
   "execution_count": 13,
   "metadata": {},
   "outputs": [
    {
     "name": "stdout",
     "output_type": "stream",
     "text": [
      "Enter 1st array: 1 2 4 5 7\n",
      "Enter 2nd array: 5 6 3 4 8\n",
      "Enter Sum:9\n",
      "1 8\n",
      "4 5\n",
      "5 4\n"
     ]
    }
   ],
   "source": [
    "def pairsWithSum(arr1,arr2,sum):\n",
    "    for ele in arr1:\n",
    "        rem = sum-ele\n",
    "        if rem in arr2:\n",
    "            print(ele,arr2[arr2.index(rem)])\n",
    "            \n",
    "arr1 = list(int(i) for i in input(\"Enter 1st array: \").split())\n",
    "arr2 = list(int(i) for i in input(\"Enter 2nd array: \").split())\n",
    "sum = int(input(\"Enter Sum:\"))\n",
    "pairsWithSum(arr1,arr2,sum)"
   ]
  }
 ],
 "metadata": {
  "kernelspec": {
   "display_name": "Python 3",
   "language": "python",
   "name": "python3"
  },
  "language_info": {
   "codemirror_mode": {
    "name": "ipython",
    "version": 3
   },
   "file_extension": ".py",
   "mimetype": "text/x-python",
   "name": "python",
   "nbconvert_exporter": "python",
   "pygments_lexer": "ipython3",
   "version": "3.6.9"
  }
 },
 "nbformat": 4,
 "nbformat_minor": 2
}
