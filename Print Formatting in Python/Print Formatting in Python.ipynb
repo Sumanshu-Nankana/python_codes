{
 "cells": [
  {
   "cell_type": "raw",
   "metadata": {},
   "source": [
    "We can do the formatting output in 2 different ways -\n",
    "1. %\n",
    "2. {}"
   ]
  },
  {
   "cell_type": "raw",
   "metadata": {},
   "source": [
    "%d = int\n",
    "%s = string\n",
    "%f or %g = float"
   ]
  },
  {
   "cell_type": "code",
   "execution_count": 1,
   "metadata": {},
   "outputs": [],
   "source": [
    "name = 'Sumanshu'\n",
    "age = 31\n",
    "salary = 10000.25"
   ]
  },
  {
   "cell_type": "raw",
   "metadata": {},
   "source": [
    "Now, Let's print above values in different ways"
   ]
  },
  {
   "cell_type": "markdown",
   "metadata": {},
   "source": [
    "<h4>Method-1</h4>"
   ]
  },
  {
   "cell_type": "code",
   "execution_count": 2,
   "metadata": {},
   "outputs": [
    {
     "name": "stdout",
     "output_type": "stream",
     "text": [
      "Sumanshu 31 10000.25\n"
     ]
    }
   ],
   "source": [
    "print(name,age,salary)"
   ]
  },
  {
   "cell_type": "markdown",
   "metadata": {},
   "source": [
    "<h4>Method-2</h4>"
   ]
  },
  {
   "cell_type": "code",
   "execution_count": 3,
   "metadata": {},
   "outputs": [
    {
     "name": "stdout",
     "output_type": "stream",
     "text": [
      "Name is: Sumanshu\n",
      "Age is: 31\n",
      "Salary is: 10000.25\n"
     ]
    }
   ],
   "source": [
    "print(\"Name is:\",name)\n",
    "print(\"Age is:\",age)\n",
    "print(\"Salary is:\",salary)"
   ]
  },
  {
   "cell_type": "markdown",
   "metadata": {},
   "source": [
    "<h4>Method-3</h4>"
   ]
  },
  {
   "cell_type": "code",
   "execution_count": 11,
   "metadata": {},
   "outputs": [
    {
     "name": "stdout",
     "output_type": "stream",
     "text": [
      "Name: Sumanshu Age: 31 Salary: 10000.250000\n",
      "Name: Sumanshu Age: 31 Salary: 10000.2\n"
     ]
    }
   ],
   "source": [
    "print(\"Name: %s Age: %d Salary: %f\" %(name,age,salary))\n",
    "print(\"Name: %s Age: %d Salary: %g\" %(name,age,salary))"
   ]
  },
  {
   "cell_type": "markdown",
   "metadata": {},
   "source": [
    "<h4>Method-4</h4>"
   ]
  },
  {
   "cell_type": "code",
   "execution_count": 13,
   "metadata": {},
   "outputs": [
    {
     "name": "stdout",
     "output_type": "stream",
     "text": [
      "Name:Sumanshu Age:31 Salary:10000.25\n"
     ]
    }
   ],
   "source": [
    "print('Name:{} Age:{} Salary:{}'.format(name,age,salary))"
   ]
  },
  {
   "cell_type": "markdown",
   "metadata": {},
   "source": [
    "<h4>Method-5 - We Pass the Index</h4> "
   ]
  },
  {
   "cell_type": "code",
   "execution_count": 16,
   "metadata": {},
   "outputs": [
    {
     "name": "stdout",
     "output_type": "stream",
     "text": [
      "Name:Sumanshu Age:31 Salary:10000.25\n",
      "Name:Sumanshu Age:31 Salary:10000.25\n"
     ]
    }
   ],
   "source": [
    "print('Name:{0} Age:{1} Salary:{2}'.format(name,age,salary))\n",
    "print('Name:{1} Age:{0} Salary:{2}'.format(age,name,salary))"
   ]
  },
  {
   "cell_type": "markdown",
   "metadata": {},
   "source": [
    "<h4>Method-6</h4>"
   ]
  },
  {
   "cell_type": "code",
   "execution_count": 18,
   "metadata": {},
   "outputs": [
    {
     "name": "stdout",
     "output_type": "stream",
     "text": [
      "Name:Sumanshu Age:31 Salary:10000.25\n",
      "Name:SUMANSHU Age:31 Salary:10000.25\n"
     ]
    }
   ],
   "source": [
    "print(f'Name:{name} Age:{age} Salary:{salary}')\n",
    "print(f'Name:{name.upper()} Age:{age} Salary:{salary}')"
   ]
  },
  {
   "cell_type": "markdown",
   "metadata": {},
   "source": [
    "<h4>Method-7</h4>"
   ]
  },
  {
   "cell_type": "code",
   "execution_count": 23,
   "metadata": {},
   "outputs": [
    {
     "name": "stdout",
     "output_type": "stream",
     "text": [
      "Name is sumanshu and Age is 31\n"
     ]
    }
   ],
   "source": [
    "person = {'name': 'sumanshu', 'age':31}\n",
    "print(f\"Name is {person['name']} and Age is {person['age']}\") "
   ]
  },
  {
   "cell_type": "markdown",
   "metadata": {},
   "source": [
    "<h4>Method-8</h4>"
   ]
  },
  {
   "cell_type": "code",
   "execution_count": 24,
   "metadata": {},
   "outputs": [
    {
     "name": "stdout",
     "output_type": "stream",
     "text": [
      "The value is 1\n",
      "The value is 2\n",
      "The value is 3\n",
      "The value is 4\n",
      "The value is 5\n",
      "The value is 6\n",
      "The value is 7\n",
      "The value is 8\n",
      "The value is 9\n",
      "The value is 10\n"
     ]
    }
   ],
   "source": [
    "for n in range(1,11):\n",
    "    print(f\"The value is {n}\")"
   ]
  },
  {
   "cell_type": "markdown",
   "metadata": {},
   "source": [
    "<h4>Method-9 - With padding (In below, we want 2 digits number)</h4>"
   ]
  },
  {
   "cell_type": "code",
   "execution_count": 26,
   "metadata": {},
   "outputs": [
    {
     "name": "stdout",
     "output_type": "stream",
     "text": [
      "The value is 01\n",
      "The value is 02\n",
      "The value is 03\n",
      "The value is 04\n",
      "The value is 05\n",
      "The value is 06\n",
      "The value is 07\n",
      "The value is 08\n",
      "The value is 09\n",
      "The value is 10\n"
     ]
    }
   ],
   "source": [
    "for n in range(1,11):\n",
    "    print(f\"The value is {n:02}\")"
   ]
  },
  {
   "cell_type": "markdown",
   "metadata": {},
   "source": [
    "<h4>Method-10</h4>"
   ]
  },
  {
   "cell_type": "code",
   "execution_count": 41,
   "metadata": {},
   "outputs": [
    {
     "name": "stdout",
     "output_type": "stream",
     "text": [
      "The value of pi is:3.14159265\n",
      "The value of pi is:3.142\n",
      "The value of pi is:3.1416\n",
      "\n",
      "The value of x is:13.14159265\n",
      "The value of x is:13.14\n",
      "The value of x is:13.1416\n"
     ]
    }
   ],
   "source": [
    "pi = 3.14159265\n",
    "print(f'The value of pi is:{pi}')\n",
    "\n",
    "# here we not mention 'f' floating point - so it took total 4 digits (does not matter before or after decimal)\n",
    "print(f'The value of pi is:{pi:.4}')   \n",
    "\n",
    "# if we want only 4 digits after decimal , then we need to mention 'f'\n",
    "print(f'The value of pi is:{pi:.4f}')  \n",
    "\n",
    "print()\n",
    "\n",
    "x = 13.14159265\n",
    "print(f'The value of x is:{x}')\n",
    "\n",
    "# here we not mention 'f' floating point - so it took total 4 digits (does not matter before or after decimal)\n",
    "print(f'The value of x is:{x:.4}')   \n",
    "\n",
    "# if we want only 4 digits after decimal , then we need to mention 'f'\n",
    "print(f'The value of x is:{x:.4f}')  "
   ]
  },
  {
   "cell_type": "markdown",
   "metadata": {},
   "source": [
    "<h4>Method-11</h4>"
   ]
  },
  {
   "cell_type": "code",
   "execution_count": 58,
   "metadata": {},
   "outputs": [
    {
     "name": "stdout",
     "output_type": "stream",
     "text": [
      "Birthday is:1989-07-25 00:00:00\n",
      "\n",
      "Birthday is:July 25, 1989\n",
      "\n",
      "Birthday is:Jul 25, 1989\n",
      "\n",
      "Birthday is:Jul 25, 89\n"
     ]
    }
   ],
   "source": [
    "from datetime import datetime\n",
    "birthday = datetime(1989,7,25)  #25 July 1989\n",
    "\n",
    "print(f'Birthday is:{birthday}')\n",
    "print()\n",
    "print(f'Birthday is:{birthday:%B %d, %Y}')\n",
    "print()\n",
    "print(f'Birthday is:{birthday:%b %d, %Y}')\n",
    "print()\n",
    "print(f'Birthday is:{birthday:%b %d, %y}')"
   ]
  }
 ],
 "metadata": {
  "kernelspec": {
   "display_name": "Python 3",
   "language": "python",
   "name": "python3"
  },
  "language_info": {
   "codemirror_mode": {
    "name": "ipython",
    "version": 3
   },
   "file_extension": ".py",
   "mimetype": "text/x-python",
   "name": "python",
   "nbconvert_exporter": "python",
   "pygments_lexer": "ipython3",
   "version": "3.6.9"
  }
 },
 "nbformat": 4,
 "nbformat_minor": 2
}
