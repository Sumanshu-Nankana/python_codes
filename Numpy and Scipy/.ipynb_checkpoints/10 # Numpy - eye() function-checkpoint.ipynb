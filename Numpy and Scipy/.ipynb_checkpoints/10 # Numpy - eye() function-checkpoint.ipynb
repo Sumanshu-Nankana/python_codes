{
 "cells": [
  {
   "cell_type": "raw",
   "metadata": {},
   "source": [
    " eye function - Return a 2-D array with ones on the diagonal and zeros at all other places"
   ]
  },
  {
   "cell_type": "code",
   "execution_count": 2,
   "metadata": {},
   "outputs": [],
   "source": [
    "import numpy as np"
   ]
  },
  {
   "cell_type": "code",
   "execution_count": 3,
   "metadata": {},
   "outputs": [
    {
     "name": "stdout",
     "output_type": "stream",
     "text": [
      "Help on function eye in module numpy:\n",
      "\n",
      "eye(N, M=None, k=0, dtype=<class 'float'>, order='C')\n",
      "    Return a 2-D array with ones on the diagonal and zeros elsewhere.\n",
      "    \n",
      "    Parameters\n",
      "    ----------\n",
      "    N : int\n",
      "      Number of rows in the output.\n",
      "    M : int, optional\n",
      "      Number of columns in the output. If None, defaults to `N`.\n",
      "    k : int, optional\n",
      "      Index of the diagonal: 0 (the default) refers to the main diagonal,\n",
      "      a positive value refers to an upper diagonal, and a negative value\n",
      "      to a lower diagonal.\n",
      "    dtype : data-type, optional\n",
      "      Data-type of the returned array.\n",
      "    order : {'C', 'F'}, optional\n",
      "        Whether the output should be stored in row-major (C-style) or\n",
      "        column-major (Fortran-style) order in memory.\n",
      "    \n",
      "        .. versionadded:: 1.14.0\n",
      "    \n",
      "    Returns\n",
      "    -------\n",
      "    I : ndarray of shape (N,M)\n",
      "      An array where all elements are equal to zero, except for the `k`-th\n",
      "      diagonal, whose values are equal to one.\n",
      "    \n",
      "    See Also\n",
      "    --------\n",
      "    identity : (almost) equivalent function\n",
      "    diag : diagonal 2-D array from a 1-D array specified by the user.\n",
      "    \n",
      "    Examples\n",
      "    --------\n",
      "    >>> np.eye(2, dtype=int)\n",
      "    array([[1, 0],\n",
      "           [0, 1]])\n",
      "    >>> np.eye(3, k=1)\n",
      "    array([[0.,  1.,  0.],\n",
      "           [0.,  0.,  1.],\n",
      "           [0.,  0.,  0.]])\n",
      "\n",
      "None\n"
     ]
    }
   ],
   "source": [
    "print(help(np.eye))"
   ]
  },
  {
   "cell_type": "raw",
   "metadata": {},
   "source": [
    "eye(N, M=None, k=0, dtype=<class 'float'>, order='C')\n",
    "\n",
    "N = number of rows (mandatory)\n",
    "M = number of columns (optional); default is equal to N (number of rows)"
   ]
  },
  {
   "cell_type": "code",
   "execution_count": 4,
   "metadata": {},
   "outputs": [
    {
     "data": {
      "text/plain": [
       "array([[1., 0., 0., 0., 0.],\n",
       "       [0., 1., 0., 0., 0.],\n",
       "       [0., 0., 1., 0., 0.],\n",
       "       [0., 0., 0., 1., 0.],\n",
       "       [0., 0., 0., 0., 1.]])"
      ]
     },
     "execution_count": 4,
     "metadata": {},
     "output_type": "execute_result"
    }
   ],
   "source": [
    "np.eye(5)"
   ]
  },
  {
   "cell_type": "raw",
   "metadata": {},
   "source": [
    "k =  Index of the diagonal: 0 (the default) refers to the main diagonal,\n",
    "      a positive value refers to an upper diagonal, and a negative value\n",
    "      to a lower diagonal."
   ]
  },
  {
   "cell_type": "code",
   "execution_count": 9,
   "metadata": {},
   "outputs": [
    {
     "data": {
      "text/plain": [
       "array([[0., 1., 0., 0., 0.],\n",
       "       [0., 0., 1., 0., 0.],\n",
       "       [0., 0., 0., 1., 0.],\n",
       "       [0., 0., 0., 0., 1.],\n",
       "       [0., 0., 0., 0., 0.]])"
      ]
     },
     "execution_count": 9,
     "metadata": {},
     "output_type": "execute_result"
    }
   ],
   "source": [
    "# when K = 1 (means positive) - so in upper diagonal. 1 position above value is 1\n",
    "np.eye(5, k=1)"
   ]
  },
  {
   "cell_type": "code",
   "execution_count": 10,
   "metadata": {},
   "outputs": [
    {
     "data": {
      "text/plain": [
       "array([[0., 0., 1., 0., 0.],\n",
       "       [0., 0., 0., 1., 0.],\n",
       "       [0., 0., 0., 0., 1.],\n",
       "       [0., 0., 0., 0., 0.],\n",
       "       [0., 0., 0., 0., 0.]])"
      ]
     },
     "execution_count": 10,
     "metadata": {},
     "output_type": "execute_result"
    }
   ],
   "source": [
    "# when K = 2 (means positive) - so in upper diagonal. 2 position above value is 1\n",
    "np.eye(5, k=2)"
   ]
  },
  {
   "cell_type": "code",
   "execution_count": 11,
   "metadata": {},
   "outputs": [
    {
     "data": {
      "text/plain": [
       "array([[0., 0., 0., 1., 0.],\n",
       "       [0., 0., 0., 0., 1.],\n",
       "       [0., 0., 0., 0., 0.],\n",
       "       [0., 0., 0., 0., 0.],\n",
       "       [0., 0., 0., 0., 0.]])"
      ]
     },
     "execution_count": 11,
     "metadata": {},
     "output_type": "execute_result"
    }
   ],
   "source": [
    "# when K = 3 (means positive) - so in upper diagonal. 3 position above value is 1\n",
    "np.eye(5, k=3)"
   ]
  },
  {
   "cell_type": "code",
   "execution_count": 12,
   "metadata": {},
   "outputs": [
    {
     "data": {
      "text/plain": [
       "array([[0., 0., 0., 0., 1.],\n",
       "       [0., 0., 0., 0., 0.],\n",
       "       [0., 0., 0., 0., 0.],\n",
       "       [0., 0., 0., 0., 0.],\n",
       "       [0., 0., 0., 0., 0.]])"
      ]
     },
     "execution_count": 12,
     "metadata": {},
     "output_type": "execute_result"
    }
   ],
   "source": [
    "# when K = 4 (means positive) - so in upper diagonal. 4 position above value is 1\n",
    "np.eye(5, k=4)"
   ]
  },
  {
   "cell_type": "code",
   "execution_count": 13,
   "metadata": {},
   "outputs": [
    {
     "data": {
      "text/plain": [
       "array([[0., 0., 0., 0., 0.],\n",
       "       [0., 0., 0., 0., 0.],\n",
       "       [0., 0., 0., 0., 0.],\n",
       "       [0., 0., 0., 0., 0.],\n",
       "       [0., 0., 0., 0., 0.]])"
      ]
     },
     "execution_count": 13,
     "metadata": {},
     "output_type": "execute_result"
    }
   ],
   "source": [
    "# when K = 5 (means positive) - so in upper diagonal. 4 position above value is 1\n",
    "np.eye(5, k=5)\n",
    "# Now there is no index 5 above diagonal..so value is same"
   ]
  },
  {
   "cell_type": "code",
   "execution_count": 14,
   "metadata": {},
   "outputs": [
    {
     "data": {
      "text/plain": [
       "array([[0., 0., 0., 0., 0.],\n",
       "       [1., 0., 0., 0., 0.],\n",
       "       [0., 1., 0., 0., 0.],\n",
       "       [0., 0., 1., 0., 0.],\n",
       "       [0., 0., 0., 1., 0.]])"
      ]
     },
     "execution_count": 14,
     "metadata": {},
     "output_type": "execute_result"
    }
   ],
   "source": [
    "# when K = -1 (means negative) - so in lower diagonal. 1 position below value is 1\n",
    "np.eye(5, k=-1)"
   ]
  },
  {
   "cell_type": "code",
   "execution_count": 15,
   "metadata": {},
   "outputs": [
    {
     "data": {
      "text/plain": [
       "array([[0., 0., 0., 0., 0.],\n",
       "       [0., 0., 0., 0., 0.],\n",
       "       [1., 0., 0., 0., 0.],\n",
       "       [0., 1., 0., 0., 0.],\n",
       "       [0., 0., 1., 0., 0.]])"
      ]
     },
     "execution_count": 15,
     "metadata": {},
     "output_type": "execute_result"
    }
   ],
   "source": [
    "# when K = -2 (means negative) - so in lower diagonal. 2 position below value is 1\n",
    "np.eye(5, k=-2)"
   ]
  },
  {
   "cell_type": "code",
   "execution_count": 17,
   "metadata": {},
   "outputs": [
    {
     "data": {
      "text/plain": [
       "array([[0., 0., 0., 0., 0.],\n",
       "       [0., 0., 0., 0., 0.],\n",
       "       [0., 0., 0., 0., 0.],\n",
       "       [1., 0., 0., 0., 0.],\n",
       "       [0., 1., 0., 0., 0.]])"
      ]
     },
     "execution_count": 17,
     "metadata": {},
     "output_type": "execute_result"
    }
   ],
   "source": [
    "# when K = -3 (means negative) - so in lower diagonal. 3 position below value is 1\n",
    "np.eye(5, k=-3)"
   ]
  },
  {
   "cell_type": "code",
   "execution_count": 18,
   "metadata": {},
   "outputs": [
    {
     "data": {
      "text/plain": [
       "array([[0., 0., 0., 0., 0.],\n",
       "       [0., 0., 0., 0., 0.],\n",
       "       [0., 0., 0., 0., 0.],\n",
       "       [0., 0., 0., 0., 0.],\n",
       "       [1., 0., 0., 0., 0.]])"
      ]
     },
     "execution_count": 18,
     "metadata": {},
     "output_type": "execute_result"
    }
   ],
   "source": [
    "# when K = -4 (means negative) - so in lower diagonal. 4 position below value is 1\n",
    "np.eye(5, k=-4)"
   ]
  },
  {
   "cell_type": "code",
   "execution_count": 20,
   "metadata": {},
   "outputs": [
    {
     "data": {
      "text/plain": [
       "array([[0., 0., 0., 0., 0.],\n",
       "       [0., 0., 0., 0., 0.],\n",
       "       [0., 0., 0., 0., 0.],\n",
       "       [0., 0., 0., 0., 0.],\n",
       "       [0., 0., 0., 0., 0.]])"
      ]
     },
     "execution_count": 20,
     "metadata": {},
     "output_type": "execute_result"
    }
   ],
   "source": [
    "# when K = -5 (means negative) - so in lower diagonal. 5 position below value is 1\n",
    "np.eye(5, k=-5)\n",
    "# but there are no 5 index below = so no change in array"
   ]
  },
  {
   "cell_type": "markdown",
   "metadata": {},
   "source": [
    "<h4> Both Rows and Columns </h4>"
   ]
  },
  {
   "cell_type": "code",
   "execution_count": 21,
   "metadata": {},
   "outputs": [
    {
     "data": {
      "text/plain": [
       "array([[1., 0., 0.],\n",
       "       [0., 1., 0.],\n",
       "       [0., 0., 1.],\n",
       "       [0., 0., 0.],\n",
       "       [0., 0., 0.]])"
      ]
     },
     "execution_count": 21,
     "metadata": {},
     "output_type": "execute_result"
    }
   ],
   "source": [
    "# 5 rows and 3 columns with 1 on diagonal\n",
    "np.eye(5, 3)"
   ]
  },
  {
   "cell_type": "code",
   "execution_count": 22,
   "metadata": {},
   "outputs": [
    {
     "data": {
      "text/plain": [
       "array([[1, 0, 0, 0, 0],\n",
       "       [0, 1, 0, 0, 0],\n",
       "       [0, 0, 1, 0, 0],\n",
       "       [0, 0, 0, 1, 0],\n",
       "       [0, 0, 0, 0, 1]])"
      ]
     },
     "execution_count": 22,
     "metadata": {},
     "output_type": "execute_result"
    }
   ],
   "source": [
    "# Now all values are in integer form\n",
    "np.eye(5, dtype=int)"
   ]
  }
 ],
 "metadata": {
  "kernelspec": {
   "display_name": "Python 3",
   "language": "python",
   "name": "python3"
  },
  "language_info": {
   "codemirror_mode": {
    "name": "ipython",
    "version": 3
   },
   "file_extension": ".py",
   "mimetype": "text/x-python",
   "name": "python",
   "nbconvert_exporter": "python",
   "pygments_lexer": "ipython3",
   "version": "3.6.9"
  }
 },
 "nbformat": 4,
 "nbformat_minor": 2
}
