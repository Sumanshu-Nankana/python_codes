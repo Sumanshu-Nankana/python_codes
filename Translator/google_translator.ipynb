{
 "cells": [
  {
   "cell_type": "code",
   "execution_count": 15,
   "metadata": {},
   "outputs": [
    {
     "name": "stdout",
     "output_type": "stream",
     "text": [
      "Where?\n",
      "es\n",
      "en\n"
     ]
    }
   ],
   "source": [
    "from googletrans import Translator\n",
    "\n",
    "translator = Translator()\n",
    "\n",
    "trans = translator.translate('¿Dónde?', dest=\"en\")\n",
    "print(trans.text)\n",
    "print(trans.src)\n",
    "print(trans.dest)"
   ]
  },
  {
   "cell_type": "code",
   "execution_count": 8,
   "metadata": {},
   "outputs": [],
   "source": [
    "# import require modules\n",
    "import pandas as pd\n",
    "from googletrans import Translator\n",
    "\n",
    "translator = Translator()\n",
    "\n",
    "# read the input file\n",
    "# df = pd.read_excel('input_file.xlsx', header=None)\n",
    "df = pd.read_csv('input_file.csv', header=None)\n",
    "\n",
    "# assign columns name \n",
    "no_of_cols = len(df.columns)\n",
    "columns = ['col_'+str(i) for i in range(no_of_cols)]\n",
    "df.columns = columns\n",
    "\n",
    "# Fill any empty field with some dummy text\n",
    "df.fillna('Empty_Field', inplace=True)\n",
    "\n",
    "# convert the columns text into english\n",
    "def convert_text(x):\n",
    "    trans = translator.translate(x,dest=\"en\")\n",
    "    return trans.text\n",
    "\n",
    "for col in df.columns:\n",
    "    df[col+'_eng'] = df[col].apply(convert_text)\n",
    "\n",
    "# re-arrange columns\n",
    "for i in range(no_of_cols):\n",
    "    col = df['col_'+str(i)+'_eng']\n",
    "    df.drop(labels=['col_'+str(i)+'_eng'], axis=1,inplace = True)\n",
    "    idx = df.columns.get_loc(\"col_\"+str(i))\n",
    "    df.insert(idx+1, 'col_'+str(i)+'_eng', col)\n",
    "\n",
    "# Save the output\n",
    "df.to_csv(\"output_file.csv\")\n",
    "# df.to_excel(\"output_file.xlsx\")"
   ]
  }
 ],
 "metadata": {
  "kernelspec": {
   "display_name": "Python 3",
   "language": "python",
   "name": "python3"
  },
  "language_info": {
   "codemirror_mode": {
    "name": "ipython",
    "version": 3
   },
   "file_extension": ".py",
   "mimetype": "text/x-python",
   "name": "python",
   "nbconvert_exporter": "python",
   "pygments_lexer": "ipython3",
   "version": "3.8.2"
  }
 },
 "nbformat": 4,
 "nbformat_minor": 4
}
