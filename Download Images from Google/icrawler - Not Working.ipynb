{
 "cells": [
  {
   "cell_type": "code",
   "execution_count": 6,
   "metadata": {},
   "outputs": [
    {
     "name": "stderr",
     "output_type": "stream",
     "text": [
      "2020-03-07 22:27:43,979 - INFO - icrawler.crawler - start crawling...\n",
      "2020-03-07 22:27:43,980 - INFO - icrawler.crawler - starting 1 feeder threads...\n",
      "2020-03-07 22:27:43,983 - INFO - feeder - thread feeder-001 exit\n",
      "2020-03-07 22:27:43,984 - INFO - icrawler.crawler - starting 1 parser threads...\n",
      "2020-03-07 22:27:43,987 - INFO - icrawler.crawler - starting 1 downloader threads...\n",
      "2020-03-07 22:27:44,754 - INFO - parser - parsing result page https://www.google.com/search?q=cow&ijn=0&start=0&tbs=&tbm=isch\n",
      "2020-03-07 22:27:46,833 - INFO - parser - no more page urls for thread parser-001 to parse\n",
      "2020-03-07 22:27:46,835 - INFO - parser - thread parser-001 exit\n",
      "2020-03-07 22:27:48,996 - INFO - downloader - no more download task for thread downloader-001\n",
      "2020-03-07 22:27:48,999 - INFO - downloader - thread downloader-001 exit\n",
      "2020-03-07 22:27:49,004 - INFO - icrawler.crawler - Crawling task done!\n"
     ]
    }
   ],
   "source": [
    "from icrawler.builtin import GoogleImageCrawler\n",
    "\n",
    "google_crawler =  GoogleImageCrawler(storage={'root_dir':r'\\home\\sumanshu\\Desktop\\testdownload'})\n",
    "\n",
    "google_crawler.crawl(keyword='cow',max_num=10)"
   ]
  }
 ],
 "metadata": {
  "kernelspec": {
   "display_name": "Python 3",
   "language": "python",
   "name": "python3"
  },
  "language_info": {
   "codemirror_mode": {
    "name": "ipython",
    "version": 3
   },
   "file_extension": ".py",
   "mimetype": "text/x-python",
   "name": "python",
   "nbconvert_exporter": "python",
   "pygments_lexer": "ipython3",
   "version": "3.6.9"
  }
 },
 "nbformat": 4,
 "nbformat_minor": 2
}
