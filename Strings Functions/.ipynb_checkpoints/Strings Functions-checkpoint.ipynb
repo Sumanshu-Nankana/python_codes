{
 "cells": [
  {
   "cell_type": "markdown",
   "metadata": {},
   "source": [
    "<H2> SWAPCASE </h2>"
   ]
  },
  {
   "cell_type": "code",
   "execution_count": 3,
   "metadata": {},
   "outputs": [],
   "source": [
    "# The string swapcase() method converts all uppercase characters to lowercase \n",
    "# and vice versa of the given string, and returns it."
   ]
  },
  {
   "cell_type": "code",
   "execution_count": 1,
   "metadata": {},
   "outputs": [
    {
     "data": {
      "text/plain": [
       "'sumanshu nankana'"
      ]
     },
     "execution_count": 1,
     "metadata": {},
     "output_type": "execute_result"
    }
   ],
   "source": [
    "name = \"SUMANSHU NANKANA\"\n",
    "name.swapcase()"
   ]
  },
  {
   "cell_type": "code",
   "execution_count": 2,
   "metadata": {},
   "outputs": [
    {
     "data": {
      "text/plain": [
       "'SUMANSHU NANKANA'"
      ]
     },
     "execution_count": 2,
     "metadata": {},
     "output_type": "execute_result"
    }
   ],
   "source": [
    "name = \"sumanshu nankana\"\n",
    "name.swapcase()"
   ]
  },
  {
   "cell_type": "code",
   "execution_count": 4,
   "metadata": {},
   "outputs": [
    {
     "data": {
      "text/plain": [
       "'sUmAnSHu NANkana'"
      ]
     },
     "execution_count": 4,
     "metadata": {},
     "output_type": "execute_result"
    }
   ],
   "source": [
    "name = \"SuMaNshU nanKANA\"\n",
    "name.swapcase()"
   ]
  },
  {
   "cell_type": "markdown",
   "metadata": {},
   "source": [
    "<H2> CASEFOLD </h2>"
   ]
  },
  {
   "cell_type": "code",
   "execution_count": 7,
   "metadata": {},
   "outputs": [],
   "source": [
    "# The casefold() string method is used to implement caseless string matching. \n",
    "# It is similar to lower() string method but case removes all the case distinctions present in a string. \n",
    "# i.e ignore cases when comparing."
   ]
  },
  {
   "cell_type": "code",
   "execution_count": 5,
   "metadata": {},
   "outputs": [
    {
     "data": {
      "text/plain": [
       "'sumanshu nankana'"
      ]
     },
     "execution_count": 5,
     "metadata": {},
     "output_type": "execute_result"
    }
   ],
   "source": [
    "name = \"SUMANSHU NANKANA\"\n",
    "name.casefold()"
   ]
  },
  {
   "cell_type": "code",
   "execution_count": 6,
   "metadata": {},
   "outputs": [
    {
     "data": {
      "text/plain": [
       "'sumanshu nankana'"
      ]
     },
     "execution_count": 6,
     "metadata": {},
     "output_type": "execute_result"
    }
   ],
   "source": [
    "name = 'sumanshu Nankana'\n",
    "name.casefold()"
   ]
  },
  {
   "cell_type": "code",
   "execution_count": 22,
   "metadata": {},
   "outputs": [
    {
     "name": "stdout",
     "output_type": "stream",
     "text": [
      "name1 is:  sumanshu nankana\n",
      "name2 is:  sumanshu nankana\n",
      "\n",
      "name 1 and name2 are equal\n"
     ]
    }
   ],
   "source": [
    "name1 = 'SUMANSHU NANKANA'\n",
    "name1 = name1.casefold()\n",
    "print('name1 is: ',name1)\n",
    "\n",
    "name2 = 'SUMANSHU NANKANA'\n",
    "name2 = name2.lower()\n",
    "print('name2 is: ',name2)\n",
    "\n",
    "print()\n",
    "if name1 == name2:\n",
    "    print('name 1 and name2 are equal')\n",
    "else:\n",
    "    print('name1 and name2 are not equal')"
   ]
  },
  {
   "cell_type": "code",
   "execution_count": 23,
   "metadata": {},
   "outputs": [
    {
     "name": "stdout",
     "output_type": "stream",
     "text": [
      "name1 is:  sumanshu nankana\n",
      "name2 is:  sumanshu nankana\n",
      "\n",
      "name 1 and name2 are equal\n"
     ]
    }
   ],
   "source": [
    "name1 = 'SUMANSHU NANKANA'\n",
    "name1 = name1.swapcase()\n",
    "print('name1 is: ',name1)\n",
    "\n",
    "name2 = 'SUMANSHU NANKANA'\n",
    "name2 = name2.lower()\n",
    "print('name2 is: ',name2)\n",
    "\n",
    "print()\n",
    "if name1 == name2:\n",
    "    print('name 1 and name2 are equal')\n",
    "else:\n",
    "    print('name1 and name2 are not equal')"
   ]
  },
  {
   "cell_type": "code",
   "execution_count": 21,
   "metadata": {},
   "outputs": [
    {
     "name": "stdout",
     "output_type": "stream",
     "text": [
      "True\n"
     ]
    }
   ],
   "source": [
    "name = 'SAGRADA FAMILY'.swapcase()\n",
    "city = 'BARCELONA'.lower()\n",
    "\n",
    "print(name == name.casefold() and city == 'barcelona')"
   ]
  },
  {
   "cell_type": "raw",
   "metadata": {},
   "source": [
    "The casefold() method is removes all case distinctions present in a string. It is used for caseless matching, i.e. ignores cases when comparing.\n",
    "\n",
    "For example, German lowercase letter ß is equivalent to ss. However, since ß is already lowercase, lower() method does nothing to it. But, casefold() converts it to ss."
   ]
  },
  {
   "cell_type": "code",
   "execution_count": 24,
   "metadata": {},
   "outputs": [
    {
     "name": "stdout",
     "output_type": "stream",
     "text": [
      "The strings are equal.\n"
     ]
    }
   ],
   "source": [
    "firstString = \"der Fluß\"\n",
    "secondString = \"der Fluss\"\n",
    "\n",
    "# ß is equivalent to ss\n",
    "if firstString.casefold() == secondString.casefold():\n",
    "    print('The strings are equal.')\n",
    "else:\n",
    "    print('The strings are not equal.')"
   ]
  },
  {
   "cell_type": "markdown",
   "metadata": {},
   "source": [
    "<h3> PARTITION </h3>"
   ]
  },
  {
   "cell_type": "raw",
   "metadata": {},
   "source": [
    "The partition() method splits the string at the first occurrence of the argument string and returns a tuple containing the part the before separator, argument string and the part after the separator.\n",
    "\n",
    "\n",
    "\n",
    "The partition method returns a 3-tuple containing:\n",
    "\n",
    "the part before the separator, separator parameter, and the part after the separator if the separator parameter is found in the string\n",
    "\n",
    "string itself and two empty strings if the separator parameter is not found"
   ]
  },
  {
   "cell_type": "code",
   "execution_count": 2,
   "metadata": {},
   "outputs": [
    {
     "name": "stdout",
     "output_type": "stream",
     "text": [
      "('Python ', 'is ', 'fun')\n",
      "('Python is fun', '', '')\n",
      "('Python ', 'is', \" fun, isn't it\")\n",
      "('', 'cd', '')\n"
     ]
    }
   ],
   "source": [
    "string = \"Python is fun\"\n",
    "\n",
    "# 'is' separator is found\n",
    "print(string.partition('is '))\n",
    "\n",
    "# 'not' separator is not found\n",
    "print(string.partition('not '))\n",
    "\n",
    "string = \"Python is fun, isn't it\"\n",
    "\n",
    "# splits at first occurence of 'is'\n",
    "print(string.partition('is'))\n",
    "\n",
    "print('cd'.partition('cd'))"
   ]
  }
 ],
 "metadata": {
  "kernelspec": {
   "display_name": "Python 3",
   "language": "python",
   "name": "python3"
  },
  "language_info": {
   "codemirror_mode": {
    "name": "ipython",
    "version": 3
   },
   "file_extension": ".py",
   "mimetype": "text/x-python",
   "name": "python",
   "nbconvert_exporter": "python",
   "pygments_lexer": "ipython3",
   "version": "3.6.9"
  }
 },
 "nbformat": 4,
 "nbformat_minor": 2
}
