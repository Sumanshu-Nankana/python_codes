{
 "cells": [
  {
   "cell_type": "code",
   "execution_count": 1,
   "metadata": {},
   "outputs": [
    {
     "name": "stdout",
     "output_type": "stream",
     "text": [
      "Hi\n"
     ]
    }
   ],
   "source": [
    "# outer_function is called - it initialize a variable message = Hi\n",
    "# it only created the inner_function() but not go inside\n",
    "# and directly return a function i.e. inner_function\n",
    "# as it returns a inner_function()...as we are returning function with paranthesis() which means calling\n",
    "# that function and executing it\n",
    "# and which is printing 'Hi'\n",
    "\n",
    "def outer_function():\n",
    "    message = 'Hi'\n",
    "    \n",
    "    def inner_function():\n",
    "        print(message)\n",
    "        \n",
    "    return inner_function()\n",
    "\n",
    "outer_function()"
   ]
  },
  {
   "cell_type": "code",
   "execution_count": 5,
   "metadata": {},
   "outputs": [
    {
     "data": {
      "text/plain": [
       "<function __main__.outer_function.<locals>.inner_function()>"
      ]
     },
     "execution_count": 5,
     "metadata": {},
     "output_type": "execute_result"
    }
   ],
   "source": [
    "# Let's return the inner function with paranethesis\n",
    "# So, This time it will not going to execute the inner function\n",
    "# now it simpley return he iner funcion and waiting to be executed\n",
    "\n",
    "def outer_function():\n",
    "    message = 'Hi'\n",
    "    \n",
    "    def inner_function():\n",
    "        print(message)\n",
    "        \n",
    "    return inner_function\n",
    "\n",
    "outer_function()"
   ]
  },
  {
   "cell_type": "code",
   "execution_count": 7,
   "metadata": {},
   "outputs": [
    {
     "name": "stdout",
     "output_type": "stream",
     "text": [
      "<function outer_function.<locals>.inner_function at 0x7f342ef5b9d8>\n"
     ]
    }
   ],
   "source": [
    "# Lets store the return function in a variable\n",
    "# So, now variable 'p' is a inner function and witing to be executed\n",
    "\n",
    "def outer_function():\n",
    "    message = 'Hi'\n",
    "    \n",
    "    def inner_function():\n",
    "        print(message)\n",
    "        \n",
    "    return inner_function\n",
    "\n",
    "p = outer_function()\n",
    "print(p)"
   ]
  },
  {
   "cell_type": "code",
   "execution_count": 11,
   "metadata": {},
   "outputs": [
    {
     "name": "stdout",
     "output_type": "stream",
     "text": [
      "Hi\n",
      "Hi\n",
      "Hi\n"
     ]
    }
   ],
   "source": [
    "# Now lets execute that inner function from a varible\n",
    "# as variable stores the inner function\n",
    "# So to execute it; we just add the paranethesis.\n",
    "# We can call it any number of times. and it prints\n",
    "# as our outer function finish; still variable remembers it\n",
    "\n",
    "def outer_function():\n",
    "    message = 'Hi'\n",
    "    \n",
    "    def inner_function():\n",
    "        print(message)\n",
    "        \n",
    "    return inner_function\n",
    "\n",
    "p = outer_function()\n",
    "p()\n",
    "p()\n",
    "p()"
   ]
  },
  {
   "cell_type": "code",
   "execution_count": 12,
   "metadata": {},
   "outputs": [
    {
     "name": "stdout",
     "output_type": "stream",
     "text": [
      "Hi\n",
      "Hello\n",
      "Bye\n"
     ]
    }
   ],
   "source": [
    "def outer_function(msg):\n",
    "    message = msg\n",
    "    \n",
    "    def inner_function():\n",
    "        print(message)\n",
    "        \n",
    "    return inner_function\n",
    "\n",
    "hi_func = outer_function('Hi')\n",
    "hello_func = outer_function('Hello')\n",
    "bye_func = outer_function('Bye')\n",
    "\n",
    "hi_func()\n",
    "hello_func()\n",
    "bye_func()"
   ]
  },
  {
   "cell_type": "code",
   "execution_count": 13,
   "metadata": {},
   "outputs": [
    {
     "name": "stdout",
     "output_type": "stream",
     "text": [
      "Hi\n",
      "Hello\n",
      "Bye\n"
     ]
    }
   ],
   "source": [
    "def outer_function(msg):\n",
    "    \n",
    "    def inner_function():\n",
    "        print(msg)\n",
    "        \n",
    "    return inner_function\n",
    "\n",
    "hi_func = outer_function('Hi')\n",
    "hello_func = outer_function('Hello')\n",
    "bye_func = outer_function('Bye')\n",
    "\n",
    "hi_func()\n",
    "hello_func()\n",
    "bye_func()"
   ]
  },
  {
   "cell_type": "raw",
   "metadata": {},
   "source": [
    "Decorator is a function that takes another function as an argument and adds some kind of functionality\n",
    "and returns function"
   ]
  },
  {
   "cell_type": "code",
   "execution_count": 14,
   "metadata": {},
   "outputs": [
    {
     "name": "stdout",
     "output_type": "stream",
     "text": [
      "display function ran\n"
     ]
    }
   ],
   "source": [
    "def decorator_function(original_function):\n",
    "    def wrapper_function():\n",
    "        return original_function()\n",
    "    return wrapper_function\n",
    "\n",
    "def display():\n",
    "    print('display function ran')\n",
    "    \n",
    "decorated_display = decorator_function(display)\n",
    "decorated_display()"
   ]
  },
  {
   "cell_type": "code",
   "execution_count": 15,
   "metadata": {},
   "outputs": [
    {
     "name": "stdout",
     "output_type": "stream",
     "text": [
      "wrapper executed this before display\n",
      "display function ran\n"
     ]
    }
   ],
   "source": [
    "def decorator_function(original_function):\n",
    "    def wrapper_function():\n",
    "        print('wrapper executed this before {}'.format(original_function.__name__))\n",
    "        return original_function()\n",
    "    return wrapper_function\n",
    "\n",
    "def display():\n",
    "    print('display function ran')\n",
    "    \n",
    "decorated_display = decorator_function(display)\n",
    "decorated_display()"
   ]
  },
  {
   "cell_type": "raw",
   "metadata": {},
   "source": [
    "The another way to use decorator function is as below. Below syntax is easy to read."
   ]
  },
  {
   "cell_type": "code",
   "execution_count": 16,
   "metadata": {},
   "outputs": [
    {
     "name": "stdout",
     "output_type": "stream",
     "text": [
      "wrapper executed this before display\n",
      "display function ran\n"
     ]
    }
   ],
   "source": [
    "def decorator_function(original_function):\n",
    "    def wrapper_function():\n",
    "        print('wrapper executed this before {}'.format(original_function.__name__))\n",
    "        return original_function()\n",
    "    return wrapper_function\n",
    "\n",
    "@decorator_function\n",
    "def display():\n",
    "    print('display function ran')\n",
    "    \n",
    "display()"
   ]
  },
  {
   "cell_type": "code",
   "execution_count": 21,
   "metadata": {},
   "outputs": [
    {
     "ename": "TypeError",
     "evalue": "wrapper_function() takes 0 positional arguments but 2 were given",
     "output_type": "error",
     "traceback": [
      "\u001b[0;31m---------------------------------------------------------------------------\u001b[0m",
      "\u001b[0;31mTypeError\u001b[0m                                 Traceback (most recent call last)",
      "\u001b[0;32m<ipython-input-21-0bfc365e8323>\u001b[0m in \u001b[0;36m<module>\u001b[0;34m\u001b[0m\n\u001b[1;32m     13\u001b[0m     \u001b[0mprint\u001b[0m\u001b[0;34m(\u001b[0m\u001b[0;34m'display_info ran with arguments ({}, {})'\u001b[0m\u001b[0;34m.\u001b[0m\u001b[0mformat\u001b[0m\u001b[0;34m(\u001b[0m\u001b[0mname\u001b[0m\u001b[0;34m,\u001b[0m \u001b[0mage\u001b[0m\u001b[0;34m)\u001b[0m\u001b[0;34m)\u001b[0m\u001b[0;34m\u001b[0m\u001b[0;34m\u001b[0m\u001b[0m\n\u001b[1;32m     14\u001b[0m \u001b[0;34m\u001b[0m\u001b[0m\n\u001b[0;32m---> 15\u001b[0;31m \u001b[0mdisplay_info\u001b[0m\u001b[0;34m(\u001b[0m\u001b[0;34m'sumanshu'\u001b[0m\u001b[0;34m,\u001b[0m\u001b[0;36m30\u001b[0m\u001b[0;34m)\u001b[0m\u001b[0;34m\u001b[0m\u001b[0;34m\u001b[0m\u001b[0m\n\u001b[0m",
      "\u001b[0;31mTypeError\u001b[0m: wrapper_function() takes 0 positional arguments but 2 were given"
     ]
    }
   ],
   "source": [
    "def decorator_function(original_function):\n",
    "    def wrapper_function():\n",
    "        print('wrapper executed this before {}'.format(original_function.__name__))\n",
    "        return original_function()\n",
    "    return wrapper_function\n",
    "\n",
    "@decorator_function\n",
    "def display():\n",
    "    print('display function ran')\n",
    "    \n",
    "@decorator_function\n",
    "def display_info(name, age):\n",
    "    print('display_info ran with arguments ({}, {})'.format(name, age))\n",
    "    \n",
    "display_info('sumanshu',30)"
   ]
  },
  {
   "cell_type": "raw",
   "metadata": {},
   "source": [
    "Now we get an error\n",
    "TypeError: wrapper_function() takes 0 positional arguments but 2 were given\n",
    "\n",
    "But we want our wrapper function will execute whether we pass 0 arguments(like in display())\n",
    "or whether we pass any arguments like display_info(name,age)\n",
    "\n",
    "Now, we will use *args or **kwargs"
   ]
  },
  {
   "cell_type": "code",
   "execution_count": 25,
   "metadata": {},
   "outputs": [
    {
     "name": "stdout",
     "output_type": "stream",
     "text": [
      "wrapper executed this before display\n",
      "display function ran\n",
      "------\n",
      "wrapper executed this before display_info\n",
      "display_info ran with arguments (sumanshu, 30)\n"
     ]
    }
   ],
   "source": [
    "def decorator_function(original_function):\n",
    "    def wrapper_function(*args, **kwargs):\n",
    "        print('wrapper executed this before {}'.format(original_function.__name__))\n",
    "        return original_function(*args, **kwargs)\n",
    "    return wrapper_function\n",
    "\n",
    "@decorator_function\n",
    "def display():\n",
    "    print('display function ran')\n",
    "    \n",
    "@decorator_function\n",
    "def display_info(name, age):\n",
    "    print('display_info ran with arguments ({}, {})'.format(name, age))\n",
    "    \n",
    "display()\n",
    "print('------')\n",
    "display_info('sumanshu',30)"
   ]
  },
  {
   "cell_type": "raw",
   "metadata": {},
   "source": [
    "Some people uses classes as a decortor ; instead of function as a decorator"
   ]
  },
  {
   "cell_type": "code",
   "execution_count": 29,
   "metadata": {},
   "outputs": [
    {
     "name": "stdout",
     "output_type": "stream",
     "text": [
      "call method executed this before display\n",
      "display function ran\n",
      "------\n",
      "call method executed this before display_info\n",
      "display_info ran with arguments (sumanshu, 30)\n"
     ]
    }
   ],
   "source": [
    "class decorator_class(object):\n",
    "    \n",
    "    def __init__(self,original_function):\n",
    "        self.original_function = original_function\n",
    "        \n",
    "    def __call__(self, *args, **kwargs):\n",
    "        print('call method executed this before {}'.format(self.original_function.__name__))\n",
    "        return self.original_function(*args, **kwargs)\n",
    "        \n",
    "    \n",
    "@decorator_class\n",
    "def display():\n",
    "    print('display function ran')\n",
    "    \n",
    "@decorator_class\n",
    "def display_info(name, age):\n",
    "    print('display_info ran with arguments ({}, {})'.format(name, age))\n",
    "    \n",
    "display()\n",
    "print('------')\n",
    "display_info('sumanshu',30)"
   ]
  },
  {
   "cell_type": "raw",
   "metadata": {},
   "source": [
    "But, more often, we use function decorator ; instead of class decorators"
   ]
  },
  {
   "cell_type": "raw",
   "metadata": {},
   "source": [
    "But - where we can use decorators - Practically ?  The most common use of decorators is during logging"
   ]
  },
  {
   "cell_type": "code",
   "execution_count": 32,
   "metadata": {},
   "outputs": [
    {
     "name": "stdout",
     "output_type": "stream",
     "text": [
      "display_info ran with arguments (John, 25)\n"
     ]
    }
   ],
   "source": [
    "def my_logger(orig_func):\n",
    "    \n",
    "    import logging\n",
    "    logging.basicConfig(filename='{}.log'.format(orig_func.__name__),level=logging.INFO)\n",
    "    \n",
    "    def wrapper(*args, **kwargs):\n",
    "        logging.info('Ran with args: {}, and kwargs: {}'.format(args, kwargs))\n",
    "        return orig_func(*args, **kwargs)\n",
    "    \n",
    "    return wrapper\n",
    "\n",
    "@my_logger\n",
    "def display_info(name, age):\n",
    "    print('display_info ran with arguments ({}, {})'.format(name, age))\n",
    "    \n",
    "display_info('John',25)"
   ]
  },
  {
   "cell_type": "code",
   "execution_count": null,
   "metadata": {},
   "outputs": [],
   "source": [
    "In above example, we ca reuse decorator my_logger anytime we want to add logging functionaliy to any new\n",
    "function.\n",
    "\n",
    "Decorator allow us to maintain functionality at 1 location and easily apply it anywhere we want."
   ]
  },
  {
   "cell_type": "raw",
   "metadata": {},
   "source": [
    "Another practical example is - We want How long that functio run"
   ]
  },
  {
   "cell_type": "code",
   "execution_count": 33,
   "metadata": {},
   "outputs": [
    {
     "name": "stdout",
     "output_type": "stream",
     "text": [
      "display_info ran with arguments (John, 25)\n",
      "display_info ran in: 1.0012917518615723 sec\n"
     ]
    }
   ],
   "source": [
    "def my_timer(orig_func):\n",
    "    \n",
    "    import time\n",
    "    \n",
    "    def wrapper(*args, **kwargs):\n",
    "        t1 = time.time()\n",
    "        result = orig_func(*args, **kwargs)\n",
    "        t2 = time.time() - t1\n",
    "        print('{} ran in: {} sec'.format(orig_func.__name__, t2))\n",
    "        return result\n",
    "    \n",
    "    return wrapper\n",
    "\n",
    "import time \n",
    "\n",
    "@my_timer\n",
    "def display_info(name, age):\n",
    "    time.sleep(1)\n",
    "    print('display_info ran with arguments ({}, {})'.format(name, age))\n",
    "    \n",
    "display_info('John',25)"
   ]
  },
  {
   "cell_type": "code",
   "execution_count": null,
   "metadata": {},
   "outputs": [],
   "source": [
    "If we want to apply two decorators on one function"
   ]
  },
  {
   "cell_type": "code",
   "execution_count": 34,
   "metadata": {},
   "outputs": [
    {
     "name": "stdout",
     "output_type": "stream",
     "text": [
      "display_info ran with arguments (John, 25)\n",
      "wrapper ran in: 1.0015547275543213 sec\n"
     ]
    }
   ],
   "source": [
    "def my_logger(orig_func):\n",
    "    \n",
    "    import logging\n",
    "    logging.basicConfig(filename='{}.log'.format(orig_func.__name__),level=logging.INFO)\n",
    "    \n",
    "    def wrapper(*args, **kwargs):\n",
    "        logging.info('Ran with args: {}, and kwargs: {}'.format(args, kwargs))\n",
    "        return orig_func(*args, **kwargs)\n",
    "    \n",
    "    return wrapper\n",
    "\n",
    "def my_timer(orig_func):\n",
    "    \n",
    "    import time\n",
    "    \n",
    "    def wrapper(*args, **kwargs):\n",
    "        t1 = time.time()\n",
    "        result = orig_func(*args, **kwargs)\n",
    "        t2 = time.time() - t1\n",
    "        print('{} ran in: {} sec'.format(orig_func.__name__, t2))\n",
    "        return result\n",
    "    \n",
    "    return wrapper\n",
    "\n",
    "import time \n",
    "\n",
    "@my_timer\n",
    "@my_logger\n",
    "def display_info(name, age):\n",
    "    time.sleep(1)\n",
    "    print('display_info ran with arguments ({}, {})'.format(name, age))\n",
    "    \n",
    "display_info('John',25)"
   ]
  },
  {
   "cell_type": "raw",
   "metadata": {},
   "source": [
    "In above example - There is one mistake - we are getting wrapper ran in 1 sec\n",
    "But, we want display_info ran in 1 sec"
   ]
  },
  {
   "cell_type": "code",
   "execution_count": 37,
   "metadata": {},
   "outputs": [
    {
     "name": "stdout",
     "output_type": "stream",
     "text": [
      "display_info ran with arguments (John, 25)\n",
      "display_info ran in: 1.001537561416626 sec\n"
     ]
    }
   ],
   "source": [
    "def my_logger(orig_func):\n",
    "    \n",
    "    import logging\n",
    "    logging.basicConfig(filename='{}.log'.format(orig_func.__name__),level=logging.INFO)\n",
    "    \n",
    "    def wrapper(*args, **kwargs):\n",
    "        logging.info('Ran with args: {}, and kwargs: {}'.format(args, kwargs))\n",
    "        return orig_func(*args, **kwargs)\n",
    "    \n",
    "    return wrapper\n",
    "\n",
    "def my_timer(orig_func):\n",
    "    \n",
    "    import time\n",
    "    \n",
    "    def wrapper(*args, **kwargs):\n",
    "        t1 = time.time()\n",
    "        result = orig_func(*args, **kwargs)\n",
    "        t2 = time.time() - t1\n",
    "        print('{} ran in: {} sec'.format(orig_func.__name__, t2))\n",
    "        return result\n",
    "    \n",
    "    return wrapper\n",
    "\n",
    "import time \n",
    "\n",
    "@my_logger\n",
    "@my_timer\n",
    "def display_info(name, age):\n",
    "    time.sleep(1)\n",
    "    print('display_info ran with arguments ({}, {})'.format(name, age))\n",
    "    \n",
    "display_info('John',25)"
   ]
  },
  {
   "cell_type": "raw",
   "metadata": {},
   "source": [
    "We just switch the order of stacking of decorators.Lower one will get executed first and then higher one\n",
    "\n",
    "\n",
    "@my_logger\n",
    "@my_timer\n",
    "def display_info(name, age):\n",
    "    pass\n",
    "\n",
    "same as ==>\n",
    "\n",
    "display = my_logger(my_timer(display_info))\n",
    "\n",
    "========================================\n",
    "\n",
    "@my_timer\n",
    "def display_info(name, age):\n",
    "    pass\n",
    "\n",
    "display = my_timer(display_info)"
   ]
  },
  {
   "cell_type": "code",
   "execution_count": 41,
   "metadata": {},
   "outputs": [
    {
     "name": "stdout",
     "output_type": "stream",
     "text": [
      "wrapper\n",
      "wrapper\n"
     ]
    }
   ],
   "source": [
    "def my_logger(orig_func):\n",
    "    \n",
    "    import logging\n",
    "    logging.basicConfig(filename='{}.log'.format(orig_func.__name__),level=logging.INFO)\n",
    "    \n",
    "    def wrapper(*args, **kwargs):\n",
    "        logging.info('Ran with args: {}, and kwargs: {}'.format(args, kwargs))\n",
    "        return orig_func(*args, **kwargs)\n",
    "    \n",
    "    return wrapper\n",
    "\n",
    "def my_timer(orig_func):\n",
    "    \n",
    "    import time\n",
    "    \n",
    "    def wrapper(*args, **kwargs):\n",
    "        t1 = time.time()\n",
    "        result = orig_func(*args, **kwargs)\n",
    "        t2 = time.time() - t1\n",
    "        print('{} ran in: {} sec'.format(orig_func.__name__, t2))\n",
    "        return result\n",
    "    \n",
    "    return wrapper\n",
    "\n",
    "import time \n",
    "\n",
    "@my_logger\n",
    "@my_timer\n",
    "def display_info(name, age):\n",
    "    time.sleep(1)\n",
    "    print('display_info ran with arguments ({}, {})'.format(name, age))\n",
    "    \n",
    "\n",
    "    \n",
    "# Here we are getting wrapper - which is wrong - Ideally we need to pass the display_info function into\n",
    "# my_logger itself\n",
    "display_info = my_timer(display_info)\n",
    "print(display_info.__name__)\n",
    "display_into = my_logger(my_timer(display_info))\n",
    "print(display_info.__name__)"
   ]
  },
  {
   "cell_type": "raw",
   "metadata": {},
   "source": [
    "To get this issue sorted (in case of stacked decorators) - we will use the wraps module from functools and use as a decorator"
   ]
  },
  {
   "cell_type": "code",
   "execution_count": 44,
   "metadata": {},
   "outputs": [
    {
     "name": "stdout",
     "output_type": "stream",
     "text": [
      "display_info\n",
      "display_info\n",
      "display_info ran with arguments (Tom, 22)\n",
      "display_info ran in: 1.00128173828125 sec\n",
      "display_info ran in: 1.001640796661377 sec\n"
     ]
    }
   ],
   "source": [
    "from functools import wraps\n",
    "\n",
    "def my_logger(orig_func):\n",
    "    \n",
    "    import logging\n",
    "    logging.basicConfig(filename='{}.log'.format(orig_func.__name__),level=logging.INFO)\n",
    "    \n",
    "    @wraps(orig_func)\n",
    "    def wrapper(*args, **kwargs):\n",
    "        logging.info('Ran with args: {}, and kwargs: {}'.format(args, kwargs))\n",
    "        return orig_func(*args, **kwargs)\n",
    "    \n",
    "    return wrapper\n",
    "\n",
    "def my_timer(orig_func):\n",
    "    \n",
    "    import time\n",
    "    \n",
    "    @wraps(orig_func)\n",
    "    def wrapper(*args, **kwargs):\n",
    "        t1 = time.time()\n",
    "        result = orig_func(*args, **kwargs)\n",
    "        t2 = time.time() - t1\n",
    "        print('{} ran in: {} sec'.format(orig_func.__name__, t2))\n",
    "        return result\n",
    "    \n",
    "    return wrapper\n",
    "\n",
    "import time \n",
    "\n",
    "@my_logger\n",
    "@my_timer\n",
    "def display_info(name, age):\n",
    "    time.sleep(1)\n",
    "    print('display_info ran with arguments ({}, {})'.format(name, age))\n",
    "    \n",
    "# Now we are getting display_info - function which is correct; \n",
    "# because we need to pass display_info to my_logger only\n",
    "\n",
    "display_info = my_timer(display_info)\n",
    "print(display_info.__name__)\n",
    "display_into = my_logger(my_timer(display_info))\n",
    "print(display_info.__name__)\n",
    "display_info('Tom',22)"
   ]
  }
 ],
 "metadata": {
  "kernelspec": {
   "display_name": "Python 3",
   "language": "python",
   "name": "python3"
  },
  "language_info": {
   "codemirror_mode": {
    "name": "ipython",
    "version": 3
   },
   "file_extension": ".py",
   "mimetype": "text/x-python",
   "name": "python",
   "nbconvert_exporter": "python",
   "pygments_lexer": "ipython3",
   "version": "3.6.9"
  }
 },
 "nbformat": 4,
 "nbformat_minor": 2
}
