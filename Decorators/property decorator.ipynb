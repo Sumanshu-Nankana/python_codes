{
 "cells": [
  {
   "cell_type": "raw",
   "metadata": {},
   "source": [
    "Property decorator allow the getter, setter, deleter functionality"
   ]
  },
  {
   "cell_type": "code",
   "execution_count": 1,
   "metadata": {},
   "outputs": [
    {
     "name": "stdout",
     "output_type": "stream",
     "text": [
      "Sumanshu\n",
      "Sumanshu.Nankana@email.com\n",
      "Sumanshu Nankana\n"
     ]
    }
   ],
   "source": [
    "class Employee:\n",
    "    \n",
    "    def __init__(self, first, last):\n",
    "        self.first = first\n",
    "        self.last = last\n",
    "        self.email = first + '.' + last + '@email.com'\n",
    "    \n",
    "    def fullname(self):\n",
    "        return '{} {}'.format(self.first, self.last)\n",
    "\n",
    "emp_1 = Employee('Sumanshu', 'Nankana')\n",
    "print(emp_1.first)\n",
    "print(emp_1.email)\n",
    "print(emp_1.fullname())"
   ]
  },
  {
   "cell_type": "raw",
   "metadata": {},
   "source": [
    "In above example - our email, depends on our first name and last name.\n",
    "Now, let's change the first name - to check if email automatic getts changed or not"
   ]
  },
  {
   "cell_type": "code",
   "execution_count": 2,
   "metadata": {},
   "outputs": [
    {
     "name": "stdout",
     "output_type": "stream",
     "text": [
      "Sumanshu1\n",
      "Sumanshu.Nankana@email.com\n",
      "Sumanshu1 Nankana\n"
     ]
    }
   ],
   "source": [
    "class Employee:\n",
    "    \n",
    "    def __init__(self, first, last):\n",
    "        self.first = first\n",
    "        self.last = last\n",
    "        self.email = first + '.' + last + '@email.com'\n",
    "    \n",
    "    def fullname(self):\n",
    "        return '{} {}'.format(self.first, self.last)\n",
    "\n",
    "emp_1 = Employee('Sumanshu', 'Nankana')\n",
    "emp_1.first = 'Sumanshu1'\n",
    "print(emp_1.first)\n",
    "print(emp_1.email)\n",
    "print(emp_1.fullname())"
   ]
  },
  {
   "cell_type": "raw",
   "metadata": {},
   "source": [
    "We could notice, our email not change automatic - even though our email depends on first name and last name\n",
    "Email still have old first name.\n",
    "\n",
    "Fullname - does not have this proble, Because everytime we grab the fullname - it picks the current first name\n",
    "\n",
    "We don't want to change the email, everytime we change the first name.\n",
    "We want email should automatically get updated when either the first or last name change\n",
    "\n",
    "1 way is - create the email method like fullname. But problem with that it will break the code. and everywhere in the code; we need to change the 'email attribute to email method. (like in line == print(emp_1.email()))\n",
    "\n",
    "Like Below - \n",
    "\n",
    "This solves our problem, But it also means - anyone using our class - has to change their code as well.\n",
    "So this is does not we want."
   ]
  },
  {
   "cell_type": "code",
   "execution_count": 3,
   "metadata": {},
   "outputs": [
    {
     "name": "stdout",
     "output_type": "stream",
     "text": [
      "Sumanshu1\n",
      "Sumanshu1.Nankana@email.com\n",
      "Sumanshu1 Nankana\n"
     ]
    }
   ],
   "source": [
    "class Employee:\n",
    "    \n",
    "    def __init__(self, first, last):\n",
    "        self.first = first\n",
    "        self.last = last\n",
    "    \n",
    "    def email(self):\n",
    "        return '{}.{}@email.com'.format(self.first, self.last)\n",
    "    \n",
    "    def fullname(self):\n",
    "        return '{} {}'.format(self.first, self.last)\n",
    "\n",
    "emp_1 = Employee('Sumanshu', 'Nankana')\n",
    "emp_1.first = 'Sumanshu1'\n",
    "print(emp_1.first)\n",
    "print(emp_1.email())\n",
    "print(emp_1.fullname())"
   ]
  },
  {
   "cell_type": "raw",
   "metadata": {},
   "source": [
    "In another language like Java - People fix this problem using getter and setter method\n",
    "But in Python; we have the ability to do this using property decorator.\n",
    "\n",
    "In order to continue accessing email ; like an attribute  - just add a property decorator above method.\n",
    "\n",
    "and No need to change anywhere else i.e. we are still accessing email as an attribute  print(emp_1.email)\n",
    "\n",
    "and our code works and it picks the latest first name.\n",
    "\n",
    "So, we define the email as a method; but we are able to access as an attribute - just by adding property decorator"
   ]
  },
  {
   "cell_type": "code",
   "execution_count": 6,
   "metadata": {},
   "outputs": [
    {
     "name": "stdout",
     "output_type": "stream",
     "text": [
      "Sumanshu1\n",
      "Sumanshu1.Nankana@email.com\n",
      "Sumanshu1 Nankana\n"
     ]
    }
   ],
   "source": [
    "class Employee:\n",
    "    \n",
    "    def __init__(self, first, last):\n",
    "        self.first = first\n",
    "        self.last = last\n",
    "    \n",
    "    @property\n",
    "    def email(self):\n",
    "        return '{}.{}@email.com'.format(self.first, self.last)\n",
    "    \n",
    "    def fullname(self):\n",
    "        return '{} {}'.format(self.first, self.last)\n",
    "\n",
    "emp_1 = Employee('Sumanshu', 'Nankana')\n",
    "emp_1.first = 'Sumanshu1'\n",
    "print(emp_1.first)\n",
    "print(emp_1.email)\n",
    "print(emp_1.fullname())"
   ]
  },
  {
   "cell_type": "raw",
   "metadata": {},
   "source": [
    "We can add the property decorator to full name as well"
   ]
  },
  {
   "cell_type": "code",
   "execution_count": 7,
   "metadata": {},
   "outputs": [
    {
     "name": "stdout",
     "output_type": "stream",
     "text": [
      "Sumanshu1\n",
      "Sumanshu1.Nankana@email.com\n",
      "Sumanshu1 Nankana\n"
     ]
    }
   ],
   "source": [
    "class Employee:\n",
    "    \n",
    "    def __init__(self, first, last):\n",
    "        self.first = first\n",
    "        self.last = last\n",
    "    \n",
    "    @property\n",
    "    def email(self):\n",
    "        return '{}.{}@email.com'.format(self.first, self.last)\n",
    "    \n",
    "    @property\n",
    "    def fullname(self):\n",
    "        return '{} {}'.format(self.first, self.last)\n",
    "\n",
    "emp_1 = Employee('Sumanshu', 'Nankana')\n",
    "emp_1.first = 'Sumanshu1'\n",
    "print(emp_1.first)\n",
    "print(emp_1.email)\n",
    "print(emp_1.fullname)"
   ]
  },
  {
   "cell_type": "raw",
   "metadata": {},
   "source": [
    "But, again here is one problem, If someone wants to change the fullname and also wants first name and last name changes automatically example - But it not changes."
   ]
  },
  {
   "cell_type": "code",
   "execution_count": 17,
   "metadata": {},
   "outputs": [
    {
     "name": "stdout",
     "output_type": "stream",
     "text": [
      "Sumanshu1\n",
      "Sumanshu1.Nankana@email.com\n",
      "Sumanshu1 Nankana\n"
     ]
    }
   ],
   "source": [
    "class Employee:\n",
    "    \n",
    "    def __init__(self, first, last):\n",
    "        self.first = first\n",
    "        self.last = last\n",
    "    \n",
    "    @property\n",
    "    def email(self):\n",
    "        return '{}.{}@email.com'.format(self.first, self.last)\n",
    "    \n",
    "    @property\n",
    "    def fullname(self):\n",
    "        return '{} {}'.format(self.first, self.last)\n",
    "\n",
    "emp_1 = Employee('Sumanshu', 'Nankana')\n",
    "\n",
    "emp_1.first = 'Sumanshu1'\n",
    "\n",
    "emp1_fullname = 'Ashish  Nankana'\n",
    "\n",
    "print(emp_1.first)\n",
    "print(emp_1.email)\n",
    "print(emp_1.fullname)"
   ]
  },
  {
   "cell_type": "raw",
   "metadata": {},
   "source": [
    "So, to solve this problem, we have another decorator and that could be the name of the property like fullname\n",
    "and then setter\n",
    "\n",
    "NOT SURE WHY IT\"S NOT WORKING FOR ME - EVEN I TRIED USING NEW CLASS METHOD (i.e. inherit from OBJECT)"
   ]
  },
  {
   "cell_type": "code",
   "execution_count": 20,
   "metadata": {},
   "outputs": [
    {
     "name": "stdout",
     "output_type": "stream",
     "text": [
      "Sumanshu\n",
      "Sumanshu.Nankana@email.com\n",
      "Sumanshu Nankana\n"
     ]
    }
   ],
   "source": [
    "class Employee(object):\n",
    "    \n",
    "    def __init__(self, first, last):\n",
    "        self.first = first\n",
    "        self.last = last\n",
    "    \n",
    "    @property\n",
    "    def email(self):\n",
    "        return '{}.{}@email.com'.format(self.first, self.last)\n",
    "    \n",
    "    @property\n",
    "    def fullname(self):\n",
    "        return '{} {}'.format(self.first, self.last)\n",
    "    \n",
    "    @fullname.setter\n",
    "    def fullname(self, name):\n",
    "        first, last = name.split(' ')\n",
    "        self.first = first\n",
    "        self.last = last    \n",
    "\n",
    "emp_1 = Employee('Sumanshu', 'Nankana')\n",
    "\n",
    "emp1_fullname = 'Ashish Kumar'\n",
    "\n",
    "print(emp_1.first)\n",
    "print(emp_1.email)\n",
    "print(emp_1.fullname)"
   ]
  },
  {
   "cell_type": "raw",
   "metadata": {},
   "source": [
    "We can also use the deleter instead of setter"
   ]
  },
  {
   "cell_type": "code",
   "execution_count": 25,
   "metadata": {},
   "outputs": [
    {
     "name": "stdout",
     "output_type": "stream",
     "text": [
      "Sumanshu\n",
      "Sumanshu.Nankana@email.com\n",
      "Sumanshu Nankana\n",
      "\n",
      "Delete Name\n",
      "None\n",
      "None.None@email.com\n",
      "None None\n"
     ]
    }
   ],
   "source": [
    "class Employee(object):\n",
    "    \n",
    "    def __init__(self, first, last):\n",
    "        self.first = first\n",
    "        self.last = last\n",
    "    \n",
    "    @property\n",
    "    def email(self):\n",
    "        return '{}.{}@email.com'.format(self.first, self.last)\n",
    "    \n",
    "    @property\n",
    "    def fullname(self):\n",
    "        return '{} {}'.format(self.first, self.last)\n",
    "    \n",
    "    @fullname.setter\n",
    "    def fullname(self, name):\n",
    "        first, last = name.split(' ')\n",
    "        self.first = first\n",
    "        self.last = last    \n",
    "        \n",
    "    @fullname.deleter\n",
    "    def fullname(self):\n",
    "        print('Delete Name')\n",
    "        self.first = None\n",
    "        self.last = None\n",
    "\n",
    "emp_1 = Employee('Sumanshu', 'Nankana')\n",
    "\n",
    "emp1_fullname = 'Ashish Kumar'\n",
    "\n",
    "print(emp_1.first)\n",
    "print(emp_1.email)\n",
    "print(emp_1.fullname)\n",
    "\n",
    "print()\n",
    "\n",
    "del emp_1.fullname\n",
    "print(emp_1.first)\n",
    "print(emp_1.email)\n",
    "print(emp_1.fullname)"
   ]
  },
  {
   "cell_type": "code",
   "execution_count": null,
   "metadata": {},
   "outputs": [],
   "source": []
  }
 ],
 "metadata": {
  "kernelspec": {
   "display_name": "Python 3",
   "language": "python",
   "name": "python3"
  },
  "language_info": {
   "codemirror_mode": {
    "name": "ipython",
    "version": 3
   },
   "file_extension": ".py",
   "mimetype": "text/x-python",
   "name": "python",
   "nbconvert_exporter": "python",
   "pygments_lexer": "ipython3",
   "version": "3.6.9"
  }
 },
 "nbformat": 4,
 "nbformat_minor": 2
}
