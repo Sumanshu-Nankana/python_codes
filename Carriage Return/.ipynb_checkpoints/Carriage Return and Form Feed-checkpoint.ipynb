{
 "cells": [
  {
   "cell_type": "markdown",
   "metadata": {},
   "source": [
    "<h2> Without Carriage Return </h2>"
   ]
  },
  {
   "cell_type": "code",
   "execution_count": 1,
   "metadata": {},
   "outputs": [
    {
     "name": "stdout",
     "output_type": "stream",
     "text": [
      "Select Seconds:11\n",
      "11\n",
      "10\n",
      "9\n",
      "8\n",
      "7\n",
      "6\n",
      "5\n",
      "4\n",
      "3\n",
      "2\n",
      "1\n",
      "0\n"
     ]
    }
   ],
   "source": [
    "from time import sleep\n",
    "sec = int(input(\"Select Seconds:\"))\n",
    "for t in range(sec,-1,-1):\n",
    "    print(t)\n",
    "    sleep(1)"
   ]
  },
  {
   "cell_type": "markdown",
   "metadata": {},
   "source": [
    "<h2> With Carriage Return </h2>"
   ]
  },
  {
   "cell_type": "markdown",
   "metadata": {},
   "source": [
    "\\r \tASCII Carriage Return (CR)"
   ]
  },
  {
   "cell_type": "code",
   "execution_count": 3,
   "metadata": {},
   "outputs": [
    {
     "name": "stdout",
     "output_type": "stream",
     "text": [
      "Select Seconds:10\n",
      "00\r"
     ]
    }
   ],
   "source": [
    "from time import sleep\n",
    "sec = int(input(\"Select Seconds:\"))\n",
    "for t in range(sec,-1,-1):\n",
    "    print(t,end='\\r')\n",
    "    sleep(1)"
   ]
  },
  {
   "cell_type": "markdown",
   "metadata": {},
   "source": [
    "<h2> Form Feed </h2>"
   ]
  },
  {
   "cell_type": "markdown",
   "metadata": {},
   "source": [
    "\\f \tASCII Formfeed (FF)"
   ]
  },
  {
   "cell_type": "code",
   "execution_count": 5,
   "metadata": {},
   "outputs": [
    {
     "name": "stdout",
     "output_type": "stream",
     "text": [
      "Select Seconds:10\n",
      "10\f",
      "9\f",
      "8\f",
      "7\f",
      "6\f",
      "5\f",
      "4\f",
      "3\f",
      "2\f",
      "1\f",
      "0\f"
     ]
    }
   ],
   "source": [
    "from time import sleep\n",
    "sec = int(input(\"Select Seconds:\"))\n",
    "for t in range(sec,-1,-1):\n",
    "    print(t,end='\\f')\n",
    "    sleep(1)"
   ]
  },
  {
   "cell_type": "markdown",
   "metadata": {},
   "source": [
    "<h2> Both Form Feed and Carriage Return </h2>"
   ]
  },
  {
   "cell_type": "code",
   "execution_count": 7,
   "metadata": {},
   "outputs": [
    {
     "name": "stdout",
     "output_type": "stream",
     "text": [
      "Select Seconds:10\n",
      "0\f",
      "\f",
      "\r"
     ]
    }
   ],
   "source": [
    "from time import sleep\n",
    "sec = int(input(\"Select Seconds:\"))\n",
    "for t in range(sec,-1,-1):\n",
    "    print(t,end='\\f\\r')\n",
    "    sleep(1)"
   ]
  }
 ],
 "metadata": {
  "kernelspec": {
   "display_name": "Python 3",
   "language": "python",
   "name": "python3"
  },
  "language_info": {
   "codemirror_mode": {
    "name": "ipython",
    "version": 3
   },
   "file_extension": ".py",
   "mimetype": "text/x-python",
   "name": "python",
   "nbconvert_exporter": "python",
   "pygments_lexer": "ipython3",
   "version": "3.6.9"
  }
 },
 "nbformat": 4,
 "nbformat_minor": 2
}
