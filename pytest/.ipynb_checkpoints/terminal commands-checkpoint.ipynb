{
 "cells": [
  {
   "cell_type": "code",
   "execution_count": 3,
   "metadata": {},
   "outputs": [
    {
     "name": "stdout",
     "output_type": "stream",
     "text": [
      "\u001b[1m============================= test session starts ==============================\u001b[0m\n",
      "platform linux2 -- Python 2.7.17, pytest-3.3.2, py-1.5.2, pluggy-0.6.0\n",
      "rootdir: /home/sumanshu/Desktop/Python and ML - Self Learning/Python/pytest, inifile:\n",
      "collected 2 items                                                              \u001b[0m\u001b[1m\n",
      "\n",
      "test_pytest1.py ..\u001b[36m                                                       [100%]\u001b[0m\n",
      "\n",
      "\u001b[32m\u001b[1m=========================== 2 passed in 0.10 seconds ===========================\u001b[0m\n"
     ]
    }
   ],
   "source": [
    "!pytest test_pytest1.py"
   ]
  },
  {
   "cell_type": "code",
   "execution_count": 5,
   "metadata": {},
   "outputs": [
    {
     "name": "stdout",
     "output_type": "stream",
     "text": [
      "\u001b[1m============================= test session starts ==============================\u001b[0m\r\n",
      "platform linux2 -- Python 2.7.17, pytest-3.3.2, py-1.5.2, pluggy-0.6.0\r\n",
      "rootdir: /home/sumanshu/Desktop/Python and ML - Self Learning/Python/pytest, inifile:\r\n",
      "\u001b[1m\r",
      "collecting 0 items                                                             \u001b[0m\u001b[1m\r",
      "collecting 2 items                                                             \u001b[0m\u001b[1m\r",
      "collected 2 items                                                              \u001b[0m\r\n",
      "\r\n",
      "test_pytest1a.py F.\u001b[36m                                                      [100%]\u001b[0m\r\n",
      "\r\n",
      "=================================== FAILURES ===================================\r\n",
      "\u001b[1m\u001b[31m___________________________________ test_add ___________________________________\u001b[0m\r\n",
      "\r\n",
      "\u001b[1m    def test_add():\u001b[0m\r\n",
      "\u001b[1m        assert pytest1.add(7, 3) == 10\u001b[0m\r\n",
      "\u001b[1m        assert pytest1.add(7) == 9\u001b[0m\r\n",
      "\u001b[1m>       assert pytest1.add(5) == 9\u001b[0m\r\n",
      "\u001b[1m\u001b[31mE       assert 7 == 9\u001b[0m\r\n",
      "\u001b[1m\u001b[31mE        +  where 7 = <function add at 0x7f1b478fe350>(5)\u001b[0m\r\n",
      "\u001b[1m\u001b[31mE        +    where <function add at 0x7f1b478fe350> = pytest1.add\u001b[0m\r\n",
      "\r\n",
      "\u001b[1m\u001b[31mtest_pytest1a.py\u001b[0m:11: AssertionError\r\n",
      "\u001b[1m\u001b[31m====================== 1 failed, 1 passed in 0.03 seconds ======================\u001b[0m\r\n"
     ]
    }
   ],
   "source": [
    "!pytest test_pytest1a.py"
   ]
  },
  {
   "cell_type": "code",
   "execution_count": 7,
   "metadata": {},
   "outputs": [
    {
     "name": "stdout",
     "output_type": "stream",
     "text": [
      "\u001b[1m============================= test session starts ==============================\u001b[0m\n",
      "platform linux2 -- Python 2.7.17, pytest-3.3.2, py-1.5.2, pluggy-0.6.0 -- /usr/bin/python2\n",
      "cachedir: .cache\n",
      "rootdir: /home/sumanshu/Desktop/Python and ML - Self Learning/Python/pytest, inifile:\n",
      "collected 2 items                                                              \u001b[0m\u001b[1m\n",
      "\n",
      "test_pytest1.py::test_add \u001b[32mPASSED\u001b[0m\u001b[36m                                         [ 50%]\u001b[0m\n",
      "test_pytest1.py::test_product \u001b[32mPASSED\u001b[0m\u001b[36m                                     [100%]\u001b[0m\n",
      "\n",
      "\u001b[32m\u001b[1m=========================== 2 passed in 0.01 seconds ===========================\u001b[0m\n"
     ]
    }
   ],
   "source": [
    "# we can also give flag -v (verbose)\n",
    "# it give us information in detail i.e. which test passed and which tests failed\n",
    "!pytest test_pytest1.py -v"
   ]
  },
  {
   "cell_type": "code",
   "execution_count": 9,
   "metadata": {},
   "outputs": [
    {
     "name": "stdout",
     "output_type": "stream",
     "text": [
      "\u001b[1m============================= test session starts ==============================\u001b[0m\n",
      "platform linux2 -- Python 2.7.17, pytest-3.3.2, py-1.5.2, pluggy-0.6.0 -- /usr/bin/python2\n",
      "cachedir: .cache\n",
      "rootdir: /home/sumanshu/Desktop/Python and ML - Self Learning/Python/pytest, inifile:\n",
      "collected 2 items                                                              \u001b[0m\u001b[1m\n",
      "\n",
      "test_pytest1a.py::test_add \u001b[31mFAILED\u001b[0m\u001b[36m                                        [ 50%]\u001b[0m\n",
      "test_pytest1a.py::test_product \u001b[32mPASSED\u001b[0m\u001b[36m                                    [100%]\u001b[0m\n",
      "\n",
      "=================================== FAILURES ===================================\n",
      "\u001b[1m\u001b[31m___________________________________ test_add ___________________________________\u001b[0m\n",
      "\n",
      "\u001b[1m    def test_add():\u001b[0m\n",
      "\u001b[1m        assert pytest1.add(7, 3) == 10\u001b[0m\n",
      "\u001b[1m        assert pytest1.add(7) == 9\u001b[0m\n",
      "\u001b[1m>       assert pytest1.add(5) == 9\u001b[0m\n",
      "\u001b[1m\u001b[31mE       assert 7 == 9\u001b[0m\n",
      "\u001b[1m\u001b[31mE        +  where 7 = <function add at 0x7f5b8159c3d0>(5)\u001b[0m\n",
      "\u001b[1m\u001b[31mE        +    where <function add at 0x7f5b8159c3d0> = pytest1.add\u001b[0m\n",
      "\n",
      "\u001b[1m\u001b[31mtest_pytest1a.py\u001b[0m:11: AssertionError\n",
      "\u001b[1m\u001b[31m====================== 1 failed, 1 passed in 0.04 seconds ======================\u001b[0m\n"
     ]
    }
   ],
   "source": [
    "!pytest test_pytest1a.py -v"
   ]
  },
  {
   "cell_type": "code",
   "execution_count": 10,
   "metadata": {},
   "outputs": [
    {
     "name": "stdout",
     "output_type": "stream",
     "text": [
      "\u001b[1m============================= test session starts ==============================\u001b[0m\n",
      "platform linux2 -- Python 2.7.17, pytest-3.3.2, py-1.5.2, pluggy-0.6.0\n",
      "rootdir: /home/sumanshu/Desktop/Python and ML - Self Learning/Python/pytest, inifile:\n",
      "collected 4 items                                                              \u001b[0m\u001b[1m\n",
      "\n",
      "test_pytest1.py ..\u001b[36m                                                       [ 50%]\u001b[0m\n",
      "test_pytest1a.py F.\u001b[36m                                                      [100%]\u001b[0m\n",
      "\n",
      "=================================== FAILURES ===================================\n",
      "\u001b[1m\u001b[31m___________________________________ test_add ___________________________________\u001b[0m\n",
      "\n",
      "\u001b[1m    def test_add():\u001b[0m\n",
      "\u001b[1m        assert pytest1.add(7, 3) == 10\u001b[0m\n",
      "\u001b[1m        assert pytest1.add(7) == 9\u001b[0m\n",
      "\u001b[1m>       assert pytest1.add(5) == 9\u001b[0m\n",
      "\u001b[1m\u001b[31mE       assert 7 == 9\u001b[0m\n",
      "\u001b[1m\u001b[31mE        +  where 7 = <function add at 0x7fdef1a94050>(5)\u001b[0m\n",
      "\u001b[1m\u001b[31mE        +    where <function add at 0x7fdef1a94050> = pytest1.add\u001b[0m\n",
      "\n",
      "\u001b[1m\u001b[31mtest_pytest1a.py\u001b[0m:11: AssertionError\n",
      "\u001b[1m\u001b[31m====================== 1 failed, 3 passed in 0.09 seconds ======================\u001b[0m\n"
     ]
    }
   ],
   "source": [
    "# we can also run our test using below command\n",
    "# It will run all files starting with test_  (placed in that folder)\n",
    "!py.test"
   ]
  },
  {
   "cell_type": "code",
   "execution_count": 11,
   "metadata": {},
   "outputs": [
    {
     "name": "stdout",
     "output_type": "stream",
     "text": [
      "\u001b[1m============================= test session starts ==============================\u001b[0m\n",
      "platform linux2 -- Python 2.7.17, pytest-3.3.2, py-1.5.2, pluggy-0.6.0 -- /usr/bin/python2\n",
      "cachedir: .cache\n",
      "rootdir: /home/sumanshu/Desktop/Python and ML - Self Learning/Python/pytest, inifile:\n",
      "collected 4 items                                                              \u001b[0m\u001b[1m\n",
      "\n",
      "test_pytest1.py::test_add \u001b[32mPASSED\u001b[0m\u001b[36m                                         [ 25%]\u001b[0m\n",
      "test_pytest1.py::test_product \u001b[32mPASSED\u001b[0m\u001b[36m                                     [ 50%]\u001b[0m\n",
      "test_pytest1a.py::test_add \u001b[31mFAILED\u001b[0m\u001b[36m                                        [ 75%]\u001b[0m\n",
      "test_pytest1a.py::test_product \u001b[32mPASSED\u001b[0m\u001b[36m                                    [100%]\u001b[0m\n",
      "\n",
      "=================================== FAILURES ===================================\n",
      "\u001b[1m\u001b[31m___________________________________ test_add ___________________________________\u001b[0m\n",
      "\n",
      "\u001b[1m    def test_add():\u001b[0m\n",
      "\u001b[1m        assert pytest1.add(7, 3) == 10\u001b[0m\n",
      "\u001b[1m        assert pytest1.add(7) == 9\u001b[0m\n",
      "\u001b[1m>       assert pytest1.add(5) == 9\u001b[0m\n",
      "\u001b[1m\u001b[31mE       assert 7 == 9\u001b[0m\n",
      "\u001b[1m\u001b[31mE        +  where 7 = <function add at 0x7f3b56ddb0d0>(5)\u001b[0m\n",
      "\u001b[1m\u001b[31mE        +    where <function add at 0x7f3b56ddb0d0> = pytest1.add\u001b[0m\n",
      "\n",
      "\u001b[1m\u001b[31mtest_pytest1a.py\u001b[0m:11: AssertionError\n",
      "\u001b[1m\u001b[31m====================== 1 failed, 3 passed in 0.04 seconds ======================\u001b[0m\n"
     ]
    }
   ],
   "source": [
    "!py.test -v"
   ]
  },
  {
   "cell_type": "code",
   "execution_count": 12,
   "metadata": {},
   "outputs": [
    {
     "name": "stdout",
     "output_type": "stream",
     "text": [
      "\u001b[1m============================= test session starts ==============================\u001b[0m\n",
      "platform linux2 -- Python 2.7.17, pytest-3.3.2, py-1.5.2, pluggy-0.6.0\n",
      "rootdir: /home/sumanshu/Desktop/Python and ML - Self Learning/Python/pytest, inifile:\n",
      "collected 1 item                                                               \u001b[0m\u001b[1m\n",
      "\n",
      "test_pytest1b.py .\u001b[36m                                                       [100%]\u001b[0m\n",
      "\n",
      "\u001b[32m\u001b[1m=========================== 1 passed in 0.05 seconds ===========================\u001b[0m\n"
     ]
    }
   ],
   "source": [
    "!pytest test_pytest1b.py"
   ]
  },
  {
   "cell_type": "code",
   "execution_count": 13,
   "metadata": {},
   "outputs": [
    {
     "name": "stdout",
     "output_type": "stream",
     "text": [
      "\u001b[1m============================= test session starts ==============================\u001b[0m\n",
      "platform linux2 -- Python 2.7.17, pytest-3.3.2, py-1.5.2, pluggy-0.6.0 -- /usr/bin/python2\n",
      "cachedir: .cache\n",
      "rootdir: /home/sumanshu/Desktop/Python and ML - Self Learning/Python/pytest, inifile:\n",
      "collected 1 item                                                               \u001b[0m\u001b[1m\n",
      "\n",
      "test_pytest1b.py::test_product \u001b[32mPASSED\u001b[0m\u001b[36m                                    [100%]\u001b[0m\n",
      "\n",
      "\u001b[32m\u001b[1m=========================== 1 passed in 0.01 seconds ===========================\u001b[0m\n"
     ]
    }
   ],
   "source": [
    "!pytest test_pytest1b.py -v"
   ]
  },
  {
   "cell_type": "code",
   "execution_count": 21,
   "metadata": {},
   "outputs": [
    {
     "name": "stdout",
     "output_type": "stream",
     "text": [
      "\u001b[1m============================= test session starts ==============================\u001b[0m\n",
      "platform linux2 -- Python 2.7.17, pytest-3.3.2, py-1.5.2, pluggy-0.6.0 -- /usr/bin/python2\n",
      "cachedir: .cache\n",
      "rootdir: /home/sumanshu/Desktop/Python and ML - Self Learning/Python/pytest, inifile:\n",
      "collected 4 items                                                              \u001b[0m\u001b[1m\n",
      "\n",
      "test_pytest1c.py::test_add \u001b[32mPASSED\u001b[0m\u001b[36m                                        [ 25%]\u001b[0m\n",
      "test_pytest1c.py::test_product \u001b[32mPASSED\u001b[0m\u001b[36m                                    [ 50%]\u001b[0m\n",
      "test_pytest1c.py::test_add_strings \u001b[32mPASSED\u001b[0m\u001b[36m                                [ 75%]\u001b[0m\n",
      "test_pytest1c.py::test_product_strings \u001b[32mPASSED\u001b[0m\u001b[36m                            [100%]\u001b[0m\n",
      "\n",
      "\u001b[32m\u001b[1m=========================== 4 passed in 0.03 seconds ===========================\u001b[0m\n"
     ]
    }
   ],
   "source": [
    "!pytest test_pytest1c.py -v"
   ]
  },
  {
   "cell_type": "code",
   "execution_count": 23,
   "metadata": {},
   "outputs": [
    {
     "name": "stdout",
     "output_type": "stream",
     "text": [
      "\u001b[1m============================= test session starts ==============================\u001b[0m\r\n",
      "platform linux2 -- Python 2.7.17, pytest-3.3.2, py-1.5.2, pluggy-0.6.0 -- /usr/bin/python2\r\n",
      "cachedir: .cache\r\n",
      "rootdir: /home/sumanshu/Desktop/Python and ML - Self Learning/Python/pytest, inifile:\r\n",
      "\u001b[1m\r",
      "collecting 1 item                                                              \u001b[0m\u001b[1m\r",
      "collected 1 item                                                               \u001b[0m\r\n",
      "\r\n",
      "test_pytest1c.py::test_add \u001b[32mPASSED\u001b[0m\u001b[36m                                        [100%]\u001b[0m\r\n",
      "\r\n",
      "\u001b[32m\u001b[1m=========================== 1 passed in 0.01 seconds ===========================\u001b[0m\r\n"
     ]
    }
   ],
   "source": [
    "# if we want to test only few test from test file then run below command\n",
    "# and we can see only test_add function ran\n",
    "!pytest test_pytest1c.py::test_add -v"
   ]
  },
  {
   "cell_type": "code",
   "execution_count": 24,
   "metadata": {},
   "outputs": [
    {
     "name": "stdout",
     "output_type": "stream",
     "text": [
      "\u001b[1m============================= test session starts ==============================\u001b[0m\r\n",
      "platform linux2 -- Python 2.7.17, pytest-3.3.2, py-1.5.2, pluggy-0.6.0 -- /usr/bin/python2\r\n",
      "cachedir: .cache\r\n",
      "rootdir: /home/sumanshu/Desktop/Python and ML - Self Learning/Python/pytest, inifile:\r\n",
      "\u001b[1m\r",
      "collecting 0 items                                                             \u001b[0m\u001b[1m\r",
      "collecting 4 items                                                             \u001b[0m\u001b[1m\r",
      "collected 4 items                                                              \u001b[0m\r\n",
      "\r\n",
      "test_pytest1c.py::test_add \u001b[32mPASSED\u001b[0m\u001b[36m                                        [ 50%]\u001b[0m\r\n",
      "test_pytest1c.py::test_add_strings \u001b[32mPASSED\u001b[0m\u001b[36m                                [100%]\u001b[0m\r\n",
      "\r\n",
      "\u001b[1m============================== 2 tests deselected ==============================\u001b[0m\r\n",
      "\u001b[32m\u001b[1m==================== 2 passed, 2 deselected in 0.01 seconds ====================\u001b[0m\r\n"
     ]
    }
   ],
   "source": [
    "# if we want to run those testes which matches some expression\n",
    "# lets suppose we only want to run those functions which has 'add'\n",
    "# then we can use below option\n",
    "!pytest -v -k \"add\" test_pytest1c.py"
   ]
  },
  {
   "cell_type": "code",
   "execution_count": 25,
   "metadata": {},
   "outputs": [
    {
     "name": "stdout",
     "output_type": "stream",
     "text": [
      "\u001b[1m============================= test session starts ==============================\u001b[0m\r\n",
      "platform linux2 -- Python 2.7.17, pytest-3.3.2, py-1.5.2, pluggy-0.6.0 -- /usr/bin/python2\r\n",
      "cachedir: .cache\r\n",
      "rootdir: /home/sumanshu/Desktop/Python and ML - Self Learning/Python/pytest, inifile:\r\n",
      "\u001b[1m\r",
      "collecting 0 items                                                             \u001b[0m\u001b[1m\r",
      "collecting 4 items                                                             \u001b[0m\u001b[1m\r",
      "collected 4 items                                                              \u001b[0m\r\n",
      "\r\n",
      "test_pytest1c.py::test_add \u001b[32mPASSED\u001b[0m\u001b[36m                                        [ 33%]\u001b[0m\r\n",
      "test_pytest1c.py::test_add_strings \u001b[32mPASSED\u001b[0m\u001b[36m                                [ 66%]\u001b[0m\r\n",
      "test_pytest1c.py::test_product_strings \u001b[32mPASSED\u001b[0m\u001b[36m                            [100%]\u001b[0m\r\n",
      "\r\n",
      "\u001b[1m============================== 1 tests deselected ==============================\u001b[0m\r\n",
      "\u001b[32m\u001b[1m==================== 3 passed, 1 deselected in 0.01 seconds ====================\u001b[0m\r\n"
     ]
    }
   ],
   "source": [
    "# we can also use combination\n",
    "# we want to run those tests which contains either 'add' or 'string' keyword\n",
    "!pytest -v -k \"add or string\" test_pytest1c.py"
   ]
  },
  {
   "cell_type": "code",
   "execution_count": 26,
   "metadata": {},
   "outputs": [
    {
     "name": "stdout",
     "output_type": "stream",
     "text": [
      "\u001b[1m============================= test session starts ==============================\u001b[0m\r\n",
      "platform linux2 -- Python 2.7.17, pytest-3.3.2, py-1.5.2, pluggy-0.6.0 -- /usr/bin/python2\r\n",
      "cachedir: .cache\r\n",
      "rootdir: /home/sumanshu/Desktop/Python and ML - Self Learning/Python/pytest, inifile:\r\n",
      "\u001b[1m\r",
      "collecting 0 items                                                             \u001b[0m\u001b[1m\r",
      "collecting 4 items                                                             \u001b[0m\u001b[1m\r",
      "collected 4 items                                                              \u001b[0m\r\n",
      "\r\n",
      "test_pytest1c.py::test_add_strings \u001b[32mPASSED\u001b[0m\u001b[36m                                [100%]\u001b[0m\r\n",
      "\r\n",
      "\u001b[1m============================== 3 tests deselected ==============================\u001b[0m\r\n",
      "\u001b[32m\u001b[1m==================== 1 passed, 3 deselected in 0.01 seconds ====================\u001b[0m\r\n"
     ]
    }
   ],
   "source": [
    "# we want to run only those tests which conatins both 'add' 'string' keywords\n",
    "!pytest -v -k \"add and string\" test_pytest1c.py"
   ]
  },
  {
   "cell_type": "code",
   "execution_count": 27,
   "metadata": {},
   "outputs": [
    {
     "name": "stdout",
     "output_type": "stream",
     "text": [
      "\u001b[1m============================= test session starts ==============================\u001b[0m\r\n",
      "platform linux2 -- Python 2.7.17, pytest-3.3.2, py-1.5.2, pluggy-0.6.0 -- /usr/bin/python2\r\n",
      "cachedir: .cache\r\n",
      "rootdir: /home/sumanshu/Desktop/Python and ML - Self Learning/Python/pytest, inifile:\r\n",
      "\u001b[1m\r",
      "collecting 0 items                                                             \u001b[0m\u001b[1m\r",
      "collecting 4 items                                                             \u001b[0m\u001b[1m\r",
      "collected 4 items                                                              \u001b[0m\r\n",
      "\r\n",
      "test_pytest1d.py::test_add \u001b[32mPASSED\u001b[0m\u001b[36m                                        [ 50%]\u001b[0m\r\n",
      "test_pytest1d.py::test_product \u001b[32mPASSED\u001b[0m\u001b[36m                                    [100%]\u001b[0m\r\n",
      "\r\n",
      "\u001b[1m============================== 2 tests deselected ==============================\u001b[0m\r\n",
      "\u001b[32m\u001b[1m==================== 2 passed, 2 deselected in 0.02 seconds ====================\u001b[0m\r\n"
     ]
    }
   ],
   "source": [
    "# we can execute the tests on basis of marker\n",
    "# So, we could see only those test cases executed which has mark - number\n",
    "!pytest -v -m number test_pytest1d.py"
   ]
  },
  {
   "cell_type": "code",
   "execution_count": 28,
   "metadata": {},
   "outputs": [
    {
     "name": "stdout",
     "output_type": "stream",
     "text": [
      "\u001b[1m============================= test session starts ==============================\u001b[0m\r\n",
      "platform linux2 -- Python 2.7.17, pytest-3.3.2, py-1.5.2, pluggy-0.6.0 -- /usr/bin/python2\r\n",
      "cachedir: .cache\r\n",
      "rootdir: /home/sumanshu/Desktop/Python and ML - Self Learning/Python/pytest, inifile:\r\n",
      "\u001b[1m\r",
      "collecting 0 items                                                             \u001b[0m\u001b[1m\r",
      "collecting 4 items                                                             \u001b[0m\u001b[1m\r",
      "collected 4 items                                                              \u001b[0m\r\n",
      "\r\n",
      "test_pytest1d.py::test_add_strings \u001b[32mPASSED\u001b[0m\u001b[36m                                [ 50%]\u001b[0m\r\n",
      "test_pytest1d.py::test_product_strings \u001b[32mPASSED\u001b[0m\u001b[36m                            [100%]\u001b[0m\r\n",
      "\r\n",
      "\u001b[1m============================== 2 tests deselected ==============================\u001b[0m\r\n",
      "\u001b[32m\u001b[1m==================== 2 passed, 2 deselected in 0.01 seconds ====================\u001b[0m\r\n"
     ]
    }
   ],
   "source": [
    "# Now, we could see only those test cases executed which has mark - strings\n",
    "!pytest -v -m strings test_pytest1d.py"
   ]
  },
  {
   "cell_type": "code",
   "execution_count": 32,
   "metadata": {},
   "outputs": [
    {
     "name": "stdout",
     "output_type": "stream",
     "text": [
      "\u001b[1m============================= test session starts ==============================\u001b[0m\n",
      "platform linux2 -- Python 2.7.17, pytest-3.3.2, py-1.5.2, pluggy-0.6.0 -- /usr/bin/python2\n",
      "cachedir: .cache\n",
      "rootdir: /home/sumanshu/Desktop/Python and ML - Self Learning/Python/pytest, inifile:\n",
      "collected 4 items                                                              \u001b[0m\u001b[1m\n",
      "\n",
      "test_pytest1e.py::test_add \u001b[32mPASSED\u001b[0m\u001b[36m                                        [ 25%]\u001b[0m\n",
      "test_pytest1e.py::test_product \u001b[31mFAILED\u001b[0m\u001b[36m                                    [ 50%]\u001b[0m\n",
      "\n",
      "=================================== FAILURES ===================================\n",
      "\u001b[1m\u001b[31m_________________________________ test_product _________________________________\u001b[0m\n",
      "\n",
      "\u001b[1m    @pytest.mark.number\u001b[0m\n",
      "\u001b[1m    def test_product():\u001b[0m\n",
      "\u001b[1m        assert pytest1.product(5, 3) == 15\u001b[0m\n",
      "\u001b[1m>       assert pytest1.product(7) == 13\u001b[0m\n",
      "\u001b[1m\u001b[31mE       assert 14 == 13\u001b[0m\n",
      "\u001b[1m\u001b[31mE        +  where 14 = <function product at 0x7f140cbbb150>(7)\u001b[0m\n",
      "\u001b[1m\u001b[31mE        +    where <function product at 0x7f140cbbb150> = pytest1.product\u001b[0m\n",
      "\n",
      "\u001b[1m\u001b[31mtest_pytest1e.py\u001b[0m:18: AssertionError\n",
      "\u001b[1m\u001b[31m====================== 1 failed, 1 passed in 0.07 seconds ======================\u001b[0m\n"
     ]
    }
   ],
   "source": [
    "# if we want that if any test fail, pytest stop the execution of further tests\n",
    "# then we can use -x option\n",
    "# So we could see 2nd test failed and it stopped its execution\n",
    "!pytest test_pytest1e.py -v -x"
   ]
  },
  {
   "cell_type": "code",
   "execution_count": 34,
   "metadata": {},
   "outputs": [
    {
     "name": "stdout",
     "output_type": "stream",
     "text": [
      "\u001b[1m============================= test session starts ==============================\u001b[0m\r\n",
      "platform linux2 -- Python 2.7.17, pytest-3.3.2, py-1.5.2, pluggy-0.6.0 -- /usr/bin/python2\r\n",
      "cachedir: .cache\r\n",
      "rootdir: /home/sumanshu/Desktop/Python and ML - Self Learning/Python/pytest, inifile:\r\n",
      "\u001b[1m\r",
      "collecting 0 items                                                             \u001b[0m\u001b[1m\r",
      "collecting 4 items                                                             \u001b[0m\u001b[1m\r",
      "collected 4 items                                                              \u001b[0m\r\n",
      "\r\n",
      "test_pytest1e.py::test_add \u001b[32mPASSED\u001b[0m\u001b[36m                                        [ 25%]\u001b[0m\r\n",
      "test_pytest1e.py::test_product \u001b[31mFAILED\u001b[0m\u001b[36m                                    [ 50%]\u001b[0m\r\n",
      "\r\n",
      "\u001b[1m\u001b[31m====================== 1 failed, 1 passed in 0.03 seconds ======================\u001b[0m\r\n"
     ]
    }
   ],
   "source": [
    "# if we don't want above trace then we can set --tb=no\n",
    "!pytest test_pytest1e.py -v -x --tb=no"
   ]
  },
  {
   "cell_type": "code",
   "execution_count": 36,
   "metadata": {},
   "outputs": [
    {
     "name": "stdout",
     "output_type": "stream",
     "text": [
      "\u001b[1m============================= test session starts ==============================\u001b[0m\n",
      "platform linux2 -- Python 2.7.17, pytest-3.3.2, py-1.5.2, pluggy-0.6.0 -- /usr/bin/python2\n",
      "cachedir: .cache\n",
      "rootdir: /home/sumanshu/Desktop/Python and ML - Self Learning/Python/pytest, inifile:\n",
      "collected 4 items                                                              \u001b[0m\u001b[1m\n",
      "\n",
      "test_pytest1e.py::test_add \u001b[32mPASSED\u001b[0m\u001b[36m                                        [ 25%]\u001b[0m\n",
      "test_pytest1e.py::test_product \u001b[31mFAILED\u001b[0m\u001b[36m                                    [ 50%]\u001b[0m\n",
      "test_pytest1e.py::test_add_strings \u001b[32mPASSED\u001b[0m\u001b[36m                                [ 75%]\u001b[0m\n",
      "test_pytest1e.py::test_product_strings \u001b[32mPASSED\u001b[0m\u001b[36m                            [100%]\u001b[0m\n",
      "\n",
      "\u001b[1m\u001b[31m====================== 1 failed, 3 passed in 0.03 seconds ======================\u001b[0m\n"
     ]
    }
   ],
   "source": [
    "# If we want that - if number of failures increased to any partcular count \n",
    "# only then excution stops\n",
    "# Here we set maxfail=2 - so, as there only 1 failure; thus it not stop further executions\n",
    "!pytest test_pytest1e.py -v --maxfail=2 --tb=no"
   ]
  },
  {
   "cell_type": "code",
   "execution_count": 39,
   "metadata": {},
   "outputs": [
    {
     "name": "stdout",
     "output_type": "stream",
     "text": [
      "\u001b[1m============================= test session starts ==============================\u001b[0m\r\n",
      "platform linux2 -- Python 2.7.17, pytest-3.3.2, py-1.5.2, pluggy-0.6.0 -- /usr/bin/python2\r\n",
      "cachedir: .cache\r\n",
      "rootdir: /home/sumanshu/Desktop/Python and ML - Self Learning/Python/pytest, inifile:\r\n",
      "\u001b[1m\r",
      "collecting 0 items                                                             \u001b[0m\u001b[1m\r",
      "collecting 4 items                                                             \u001b[0m\u001b[1m\r",
      "collected 4 items                                                              \u001b[0m\r\n",
      "\r\n",
      "test_pytest1f.py::test_add \u001b[33mSKIPPED\u001b[0m\u001b[36m                                       [ 25%]\u001b[0m\r\n",
      "test_pytest1f.py::test_product \u001b[32mPASSED\u001b[0m\u001b[36m                                    [ 50%]\u001b[0m\r\n",
      "test_pytest1f.py::test_add_strings \u001b[32mPASSED\u001b[0m\u001b[36m                                [ 75%]\u001b[0m\r\n",
      "test_pytest1f.py::test_product_strings \u001b[32mPASSED\u001b[0m\u001b[36m                            [100%]\u001b[0m\r\n",
      "\r\n",
      "\u001b[32m\u001b[1m===================== 3 passed, 1 skipped in 0.02 seconds ======================\u001b[0m\r\n"
     ]
    }
   ],
   "source": [
    "# so we could see as we skipped add() - Now it not executed that particular test\n",
    "!pytest test_pytest1f.py -v"
   ]
  },
  {
   "cell_type": "code",
   "execution_count": 45,
   "metadata": {},
   "outputs": [
    {
     "data": {
      "text/plain": [
       "sys.version_info(major=3, minor=6, micro=9, releaselevel='final', serial=0)"
      ]
     },
     "execution_count": 45,
     "metadata": {},
     "output_type": "execute_result"
    }
   ],
   "source": [
    "import sys\n",
    "sys.version_info"
   ]
  },
  {
   "cell_type": "code",
   "execution_count": 44,
   "metadata": {},
   "outputs": [
    {
     "name": "stdout",
     "output_type": "stream",
     "text": [
      "\u001b[1m============================= test session starts ==============================\u001b[0m\n",
      "platform linux2 -- Python 2.7.17, pytest-3.3.2, py-1.5.2, pluggy-0.6.0 -- /usr/bin/python2\n",
      "cachedir: .cache\n",
      "rootdir: /home/sumanshu/Desktop/Python and ML - Self Learning/Python/pytest, inifile:\n",
      "collected 4 items                                                              \u001b[0m\u001b[1m\n",
      "\n",
      "test_pytest1g.py::test_add \u001b[33mSKIPPED\u001b[0m\u001b[36m                                       [ 25%]\u001b[0m\n",
      "test_pytest1g.py::test_product \u001b[32mPASSED\u001b[0m\u001b[36m                                    [ 50%]\u001b[0m\n",
      "test_pytest1g.py::test_add_strings \u001b[32mPASSED\u001b[0m\u001b[36m                                [ 75%]\u001b[0m\n",
      "test_pytest1g.py::test_product_strings \u001b[32mPASSED\u001b[0m\u001b[36m                            [100%]\u001b[0m\n",
      "\n",
      "\u001b[32m\u001b[1m===================== 3 passed, 1 skipped in 0.02 seconds ======================\u001b[0m\n"
     ]
    }
   ],
   "source": [
    "# as we are using python 2.7 So first test case skipped\n",
    "!pytest test_pytest1g.py -v"
   ]
  },
  {
   "cell_type": "code",
   "execution_count": 48,
   "metadata": {},
   "outputs": [
    {
     "name": "stdout",
     "output_type": "stream",
     "text": [
      "\u001b[1m============================= test session starts ==============================\u001b[0m\n",
      "platform linux2 -- Python 2.7.17, pytest-3.3.2, py-1.5.2, pluggy-0.6.0 -- /usr/bin/python2\n",
      "cachedir: .cache\n",
      "rootdir: /home/sumanshu/Desktop/Python and ML - Self Learning/Python/pytest, inifile:\n",
      "collected 4 items                                                              \u001b[0m\u001b[1m\n",
      "\n",
      "test_pytest1h.py::test_add (10, ' Print Statement Executed')\n",
      "\u001b[32mPASSED\u001b[0m\u001b[36m                                        [ 25%]\u001b[0m\n",
      "test_pytest1h.py::test_product \u001b[32mPASSED\u001b[0m\u001b[36m                                    [ 50%]\u001b[0m\n",
      "test_pytest1h.py::test_add_strings \u001b[32mPASSED\u001b[0m\u001b[36m                                [ 75%]\u001b[0m\n",
      "test_pytest1h.py::test_product_strings \u001b[32mPASSED\u001b[0m\u001b[36m                            [100%]\u001b[0m\n",
      "\n",
      "\u001b[32m\u001b[1m=========================== 4 passed in 0.02 seconds ===========================\u001b[0m\n"
     ]
    }
   ],
   "source": [
    "# So for first test case output is as well printing\n",
    "!pytest -v -s test_pytest1h.py"
   ]
  },
  {
   "cell_type": "code",
   "execution_count": 49,
   "metadata": {},
   "outputs": [
    {
     "name": "stdout",
     "output_type": "stream",
     "text": [
      "\u001b[1m============================= test session starts ==============================\u001b[0m\n",
      "platform linux2 -- Python 2.7.17, pytest-3.3.2, py-1.5.2, pluggy-0.6.0 -- /usr/bin/python2\n",
      "cachedir: .cache\n",
      "rootdir: /home/sumanshu/Desktop/Python and ML - Self Learning/Python/pytest, inifile:\n",
      "collected 4 items                                                              \u001b[0m\u001b[1m\n",
      "\n",
      "test_pytest1h.py::test_add (10, ' Print Statement Executed')\n",
      "\u001b[32mPASSED\u001b[0m\u001b[36m                                        [ 25%]\u001b[0m\n",
      "test_pytest1h.py::test_product \u001b[32mPASSED\u001b[0m\u001b[36m                                    [ 50%]\u001b[0m\n",
      "test_pytest1h.py::test_add_strings \u001b[32mPASSED\u001b[0m\u001b[36m                                [ 75%]\u001b[0m\n",
      "test_pytest1h.py::test_product_strings \u001b[32mPASSED\u001b[0m\u001b[36m                            [100%]\u001b[0m\n",
      "\n",
      "\u001b[32m\u001b[1m=========================== 4 passed in 0.01 seconds ===========================\u001b[0m\n"
     ]
    }
   ],
   "source": [
    "# instead of -s ; we can also use --capture=no\n",
    "!pytest -v --capture=no test_pytest1h.py"
   ]
  },
  {
   "cell_type": "code",
   "execution_count": 51,
   "metadata": {},
   "outputs": [
    {
     "name": "stdout",
     "output_type": "stream",
     "text": [
      "....\u001b[36m                                                                     [100%]\u001b[0m\r\n",
      "\u001b[32m\u001b[1m4 passed in 0.01 seconds\u001b[0m\r\n"
     ]
    }
   ],
   "source": [
    "# if we use the -q option (which is for quite)\n",
    "# then no informaion is get printed; only last line printed how many test cases passed in how many seconds.\n",
    "!pytest test_pytest1h.py -q"
   ]
  },
  {
   "cell_type": "code",
   "execution_count": 53,
   "metadata": {},
   "outputs": [
    {
     "name": "stdout",
     "output_type": "stream",
     "text": [
      "\u001b[1m============================= test session starts ==============================\u001b[0m\r\n",
      "platform linux2 -- Python 2.7.17, pytest-3.3.2, py-1.5.2, pluggy-0.6.0 -- /usr/bin/python2\r\n",
      "cachedir: .cache\r\n",
      "rootdir: /home/sumanshu/Desktop/Python and ML - Self Learning/Python/pytest, inifile:\r\n",
      "\u001b[1m\r",
      "collecting 0 items                                                             \u001b[0m\u001b[1m\r",
      "collecting 3 items                                                             \u001b[0m\u001b[1m\r",
      "collected 3 items                                                              \u001b[0m\r\n",
      "\r\n",
      "test_pytest2.py::test_add[7-3-10] \u001b[32mPASSED\u001b[0m\u001b[36m                                 [ 33%]\u001b[0m\r\n",
      "test_pytest2.py::test_add[Hello- World-Hello World] \u001b[32mPASSED\u001b[0m\u001b[36m               [ 66%]\u001b[0m\r\n",
      "test_pytest2.py::test_add[10.5-25.5-36] \u001b[32mPASSED\u001b[0m\u001b[36m                           [100%]\u001b[0m\r\n",
      "\r\n",
      "\u001b[32m\u001b[1m=========================== 3 passed in 0.01 seconds ===========================\u001b[0m\r\n"
     ]
    }
   ],
   "source": [
    "# run the code which has parametrization\n",
    "# we could see all values passed and automatically pick from list (iterable)\n",
    "!pytest -v test_pytest2.py"
   ]
  },
  {
   "cell_type": "code",
   "execution_count": 65,
   "metadata": {},
   "outputs": [
    {
     "name": "stdout",
     "output_type": "stream",
     "text": [
      "\u001b[1m============================= test session starts ==============================\u001b[0m\r\n",
      "platform linux2 -- Python 2.7.17, pytest-3.3.2, py-1.5.2, pluggy-0.6.0 -- /usr/bin/python2\r\n",
      "cachedir: .cache\r\n",
      "rootdir: /home/sumanshu/Desktop/Python and ML - Self Learning/Python/pytest, inifile:\r\n",
      "\u001b[1m\r",
      "collecting 0 items                                                             \u001b[0m\u001b[1m\r",
      "collecting 2 items                                                             \u001b[0m\u001b[1m\r",
      "collected 2 items                                                              \u001b[0m\r\n",
      "\r\n",
      "test_pytest3.py::test_scott_data {u'students': [{u'result': u'pass', u'id': 1, u'name': u'Scott'}, {u'result': u'fail', u'id': 2, u'name': u'Mark'}]}\r\n",
      "\u001b[32mPASSED\u001b[0m\u001b[36m                                  [ 50%]\u001b[0m\r\n",
      "test_pytest3.py::test_mark_data {u'students': [{u'result': u'pass', u'id': 1, u'name': u'Scott'}, {u'result': u'fail', u'id': 2, u'name': u'Mark'}]}\r\n",
      "\u001b[32mPASSED\u001b[0m\u001b[36m                                   [100%]\u001b[0m\r\n",
      "\r\n",
      "\u001b[32m\u001b[1m=========================== 2 passed in 0.01 seconds ===========================\u001b[0m\r\n"
     ]
    }
   ],
   "source": [
    "!pytest -v -s test_pytest3.py"
   ]
  }
 ],
 "metadata": {
  "kernelspec": {
   "display_name": "Python 3",
   "language": "python",
   "name": "python3"
  },
  "language_info": {
   "codemirror_mode": {
    "name": "ipython",
    "version": 3
   },
   "file_extension": ".py",
   "mimetype": "text/x-python",
   "name": "python",
   "nbconvert_exporter": "python",
   "pygments_lexer": "ipython3",
   "version": "3.6.9"
  }
 },
 "nbformat": 4,
 "nbformat_minor": 2
}
