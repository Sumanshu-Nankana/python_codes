{
 "cells": [
  {
   "cell_type": "code",
   "execution_count": 3,
   "metadata": {},
   "outputs": [
    {
     "name": "stdout",
     "output_type": "stream",
     "text": [
      "Student Details: sumanshu, 32, 25\n"
     ]
    }
   ],
   "source": [
    "def function1(name, age, roll_no):\n",
    "    print(f'Student Details: {name}, {age}, {roll_no}')\n",
    "\n",
    "if __name__ == \"__main__\":\n",
    "    function1('sumanshu',32,25)"
   ]
  },
  {
   "cell_type": "code",
   "execution_count": 9,
   "metadata": {},
   "outputs": [
    {
     "name": "stdout",
     "output_type": "stream",
     "text": [
      "Student Details: sumanshu, 32, 25\n"
     ]
    }
   ],
   "source": [
    "def function1(*args):\n",
    "    print(f'Student Details: {args[0]}, {args[1]}, {args[2]}')\n",
    "\n",
    "if __name__ == \"__main__\":\n",
    "    function1('sumanshu',32,25)"
   ]
  },
  {
   "cell_type": "raw",
   "metadata": {},
   "source": [
    "But, if we pass only two parameters - Then it will fail"
   ]
  },
  {
   "cell_type": "code",
   "execution_count": 4,
   "metadata": {},
   "outputs": [
    {
     "ename": "TypeError",
     "evalue": "function1() missing 1 required positional argument: 'roll_no'",
     "output_type": "error",
     "traceback": [
      "\u001b[0;31m---------------------------------------------------------------------------\u001b[0m",
      "\u001b[0;31mTypeError\u001b[0m                                 Traceback (most recent call last)",
      "\u001b[0;32m<ipython-input-4-566e1457c722>\u001b[0m in \u001b[0;36m<module>\u001b[0;34m\u001b[0m\n\u001b[1;32m      3\u001b[0m \u001b[0;34m\u001b[0m\u001b[0m\n\u001b[1;32m      4\u001b[0m \u001b[0;32mif\u001b[0m \u001b[0m__name__\u001b[0m \u001b[0;34m==\u001b[0m \u001b[0;34m\"__main__\"\u001b[0m\u001b[0;34m:\u001b[0m\u001b[0;34m\u001b[0m\u001b[0;34m\u001b[0m\u001b[0m\n\u001b[0;32m----> 5\u001b[0;31m     \u001b[0mfunction1\u001b[0m\u001b[0;34m(\u001b[0m\u001b[0;34m'sumanshu'\u001b[0m\u001b[0;34m,\u001b[0m\u001b[0;36m32\u001b[0m\u001b[0;34m)\u001b[0m\u001b[0;34m\u001b[0m\u001b[0;34m\u001b[0m\u001b[0m\n\u001b[0m",
      "\u001b[0;31mTypeError\u001b[0m: function1() missing 1 required positional argument: 'roll_no'"
     ]
    }
   ],
   "source": [
    "def function1(name, age, roll_no):\n",
    "    print(f'Student Details: {name}, {age}, {roll_no}')\n",
    "\n",
    "if __name__ == \"__main__\":\n",
    "    function1('sumanshu',32)"
   ]
  },
  {
   "cell_type": "raw",
   "metadata": {},
   "source": [
    "So, we can fix this issue using *args - It will accept in tuple"
   ]
  },
  {
   "cell_type": "code",
   "execution_count": 8,
   "metadata": {},
   "outputs": [
    {
     "name": "stdout",
     "output_type": "stream",
     "text": [
      "<class 'tuple'>\n",
      "sumanshu\n",
      "32\n"
     ]
    }
   ],
   "source": [
    "def function1(*args):\n",
    "    print(type(args))\n",
    "    for arg in args:\n",
    "        print(arg)\n",
    "\n",
    "if __name__ == \"__main__\":\n",
    "    function1('sumanshu',32)"
   ]
  },
  {
   "cell_type": "raw",
   "metadata": {},
   "source": [
    "*args - is a method to accept variable number of arguments"
   ]
  },
  {
   "cell_type": "code",
   "execution_count": 13,
   "metadata": {},
   "outputs": [
    {
     "name": "stdout",
     "output_type": "stream",
     "text": [
      "sumanshu 25\n",
      "<class 'tuple'>\n",
      "sumanshu\n",
      "25\n"
     ]
    }
   ],
   "source": [
    "def function1(*args):\n",
    "    print(type(args))\n",
    "    for arg in args:\n",
    "        print(arg)\n",
    "\n",
    "if __name__ == \"__main__\":\n",
    "    lis =  ['sumanshu',25]\n",
    "    print(*lis)\n",
    "    function1(*lis)"
   ]
  },
  {
   "cell_type": "raw",
   "metadata": {},
   "source": [
    "We can use any name instead of *args - but generally python community use *args"
   ]
  },
  {
   "cell_type": "raw",
   "metadata": {},
   "source": [
    "**kwargs --> accept in form of dictionary"
   ]
  },
  {
   "cell_type": "code",
   "execution_count": 20,
   "metadata": {},
   "outputs": [
    {
     "name": "stdout",
     "output_type": "stream",
     "text": [
      "English Maths Physics\n",
      "<class 'dict'>\n",
      "English 100\n",
      "Maths 80\n",
      "Physics 70\n"
     ]
    }
   ],
   "source": [
    "def function1(**kwargs):\n",
    "    print(type(kwargs))\n",
    "    for arg in kwargs:\n",
    "        print(arg, kwargs[arg])\n",
    "\n",
    "if __name__ == \"__main__\":\n",
    "    marks = {\"English\":100,\"Maths\":80,\"Physics\":70}\n",
    "    print(*marks)\n",
    "    function1(**marks)"
   ]
  },
  {
   "cell_type": "code",
   "execution_count": 21,
   "metadata": {},
   "outputs": [
    {
     "name": "stdout",
     "output_type": "stream",
     "text": [
      "English Maths Physics\n",
      "English 100\n",
      "Maths 80\n",
      "Physics 70\n"
     ]
    }
   ],
   "source": [
    "def function1(**kwargs):\n",
    "    for key,value in kwargs.items():\n",
    "        print(key, value)\n",
    "\n",
    "if __name__ == \"__main__\":\n",
    "    marks = {\"English\":100,\"Maths\":80,\"Physics\":70}\n",
    "    print(*marks)\n",
    "    function1(**marks)"
   ]
  },
  {
   "cell_type": "raw",
   "metadata": {},
   "source": [
    "We can use *args and **kwargs together as well"
   ]
  },
  {
   "cell_type": "code",
   "execution_count": 24,
   "metadata": {},
   "outputs": [
    {
     "name": "stdout",
     "output_type": "stream",
     "text": [
      "normal arg\n",
      "sumanshu\n",
      "25\n",
      "English 100\n",
      "Maths 80\n",
      "Physics 70\n"
     ]
    }
   ],
   "source": [
    "def function1(normal, *args,**kwargs):\n",
    "    \n",
    "    print((normal))\n",
    "    \n",
    "    for i in args:\n",
    "        print(i)\n",
    "        \n",
    "    for key,value in kwargs.items():\n",
    "        print(key, value)\n",
    "\n",
    "if __name__ == \"__main__\":\n",
    "    lis =  ['sumanshu',25]\n",
    "    marks = {\"English\":100,\"Maths\":80,\"Physics\":70}\n",
    "    function1('normal arg',*lis,**marks)"
   ]
  }
 ],
 "metadata": {
  "kernelspec": {
   "display_name": "Python 3",
   "language": "python",
   "name": "python3"
  },
  "language_info": {
   "codemirror_mode": {
    "name": "ipython",
    "version": 3
   },
   "file_extension": ".py",
   "mimetype": "text/x-python",
   "name": "python",
   "nbconvert_exporter": "python",
   "pygments_lexer": "ipython3",
   "version": "3.6.9"
  }
 },
 "nbformat": 4,
 "nbformat_minor": 2
}
