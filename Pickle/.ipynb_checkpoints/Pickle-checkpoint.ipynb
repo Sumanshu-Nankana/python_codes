{
 "cells": [
  {
   "cell_type": "raw",
   "metadata": {},
   "source": [
    "The pickle module implements binary protocols for serializing and de-serializing a Python object structure. \n",
    "\n",
    "“Pickling” is the process whereby a Python object hierarchy is converted into a byte stream.\n",
    "\n",
    "“unpickling” is the inverse operation, whereby a byte stream (from a binary file or bytes-like object) is converted back into an object hierarchy. \n",
    "\n",
    "Pickling (and unpickling) is alternatively known as “serialization”, “marshalling,” 1 or “flattening”; however, to avoid confusion, the terms used here are “pickling” and “unpickling”.\n",
    "\n",
    "Warning\n",
    "\n",
    "The pickle module is not secure. Only unpickle data you trust.\n",
    "\n",
    "\n",
    "Pickle converts - Python Objects(Variable, Lists, dictinary, class , machine learning classifier (which we train after many hours),large dataset,JSON etc) into Binary stream.\n",
    "\n",
    "The output binary file extensions are (.p - pickle or .pickle)"
   ]
  },
  {
   "cell_type": "code",
   "execution_count": 4,
   "metadata": {},
   "outputs": [],
   "source": [
    "# Pickling the Object #\n",
    "# We will use the dump() method #\n",
    "# and while writing mode should be 'wb' - byte"
   ]
  },
  {
   "cell_type": "code",
   "execution_count": 3,
   "metadata": {},
   "outputs": [],
   "source": [
    "import pickle\n",
    "\n",
    "example_dict = {1:'one',2:'two',3:'three',4:'four',5:'five',6:'six'}\n",
    "\n",
    "with open('dict.pickle','wb') as file:\n",
    "    pickle.dump(example_dict,file)"
   ]
  },
  {
   "cell_type": "code",
   "execution_count": 5,
   "metadata": {},
   "outputs": [],
   "source": [
    "# Unpickle #\n",
    "# How to read pickle file #\n",
    "# We will use the load() method #\n",
    "# while reading, mode should be 'rb'"
   ]
  },
  {
   "cell_type": "code",
   "execution_count": 9,
   "metadata": {},
   "outputs": [
    {
     "name": "stdout",
     "output_type": "stream",
     "text": [
      "{1: 'one', 2: 'two', 3: 'three', 4: 'four', 5: 'five', 6: 'six'}\n"
     ]
    }
   ],
   "source": [
    "with open('dict.pickle','rb') as file:\n",
    "    dict1 = pickle.load(file)\n",
    "\n",
    "print(dict1)"
   ]
  }
 ],
 "metadata": {
  "kernelspec": {
   "display_name": "Python 3",
   "language": "python",
   "name": "python3"
  },
  "language_info": {
   "codemirror_mode": {
    "name": "ipython",
    "version": 3
   },
   "file_extension": ".py",
   "mimetype": "text/x-python",
   "name": "python",
   "nbconvert_exporter": "python",
   "pygments_lexer": "ipython3",
   "version": "3.6.9"
  }
 },
 "nbformat": 4,
 "nbformat_minor": 2
}
