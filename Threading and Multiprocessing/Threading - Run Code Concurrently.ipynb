{
 "cells": [
  {
   "cell_type": "markdown",
   "metadata": {},
   "source": [
    "<h4> Why we want to use Threading </h4>"
   ]
  },
  {
   "cell_type": "raw",
   "metadata": {},
   "source": [
    "Basically, we use Threading - when we speed up the programme.\n",
    "The speed up comes when running tasks concurrently."
   ]
  },
  {
   "cell_type": "code",
   "execution_count": 1,
   "metadata": {},
   "outputs": [
    {
     "name": "stdout",
     "output_type": "stream",
     "text": [
      "Sleeping 1 second...\n",
      "Done Sleeping...\n",
      "Finished in 1.0 second(s)\n"
     ]
    }
   ],
   "source": [
    "import time\n",
    "\n",
    "# perf_counter() function always returns the float value of time in seconds\n",
    "start = time.perf_counter()\n",
    "\n",
    "def do_something():\n",
    "    print(\"Sleeping 1 second...\")\n",
    "    time.sleep(1)\n",
    "    print(\"Done Sleeping...\")\n",
    "    \n",
    "do_something()\n",
    "\n",
    "finish = time.perf_counter()\n",
    "\n",
    "print(f\"Finished in {round(finish-start,2)} second(s)\")"
   ]
  },
  {
   "cell_type": "raw",
   "metadata": {},
   "source": [
    "Now Let's run same code 2 times. So programme will take 2 seconds"
   ]
  },
  {
   "cell_type": "code",
   "execution_count": 2,
   "metadata": {},
   "outputs": [
    {
     "name": "stdout",
     "output_type": "stream",
     "text": [
      "Sleeping 1 second...\n",
      "Done Sleeping...\n",
      "Sleeping 1 second...\n",
      "Done Sleeping...\n",
      "Finished in 2.01 second(s)\n"
     ]
    }
   ],
   "source": [
    "import time\n",
    "\n",
    "# perf_counter() function always returns the float value of time in seconds\n",
    "start = time.perf_counter()\n",
    "\n",
    "def do_something():\n",
    "    print(\"Sleeping 1 second...\")\n",
    "    time.sleep(1)\n",
    "    print(\"Done Sleeping...\")\n",
    "    \n",
    "do_something()\n",
    "do_something()\n",
    "\n",
    "finish = time.perf_counter()\n",
    "\n",
    "print(f\"Finished in {round(finish-start,2)} second(s)\")"
   ]
  },
  {
   "cell_type": "raw",
   "metadata": {},
   "source": [
    "Right Now - Our Scripts looks like -\n",
    "\n",
    "func()---1 Second----func2()-----1 Second------ Done\n",
    "\n",
    "But when function is sleeping, it's doing nothing on CPU.\n",
    "\n",
    "So Code is running synchronously"
   ]
  },
  {
   "cell_type": "markdown",
   "metadata": {},
   "source": [
    "<h4> Now, we will run the same code using Threading </h4>"
   ]
  },
  {
   "cell_type": "raw",
   "metadata": {},
   "source": [
    "Our code will looks like as \n",
    "\n",
    "\n",
    "func()---1 Second----\n",
    "        func2()----1Second--- Done\n",
    "        \n",
    "So, when our code is waiting, or thread is waiting\n",
    "our code move to another function and starts it\n",
    "\n",
    "These are just overlapped - But we not ran both the functions at same time. It's just giving us an illusion\n",
    "that we ran the code same time."
   ]
  },
  {
   "cell_type": "raw",
   "metadata": {},
   "source": [
    "Threading is standard module come with Python. So No need to install anything externally"
   ]
  },
  {
   "cell_type": "code",
   "execution_count": 6,
   "metadata": {},
   "outputs": [
    {
     "name": "stdout",
     "output_type": "stream",
     "text": [
      "Finished in 0.0 second(s)\n"
     ]
    }
   ],
   "source": [
    "import threading\n",
    "import time\n",
    "\n",
    "start = time.perf_counter()\n",
    "\n",
    "def do_something():\n",
    "    print(\"Sleeping 1 second...\")\n",
    "    time.sleep(1)\n",
    "    print(\"Done Sleeping...\")\n",
    "    \n",
    "t1 = threading.Thread(target=do_something)   # here we just need to give function name, not with () \n",
    "t2 = threading.Thread(target=do_something)   #  because we don't want to call/execute the function\n",
    "\n",
    "finish = time.perf_counter()\n",
    "\n",
    "print(f\"Finished in {round(finish-start,2)} second(s)\")"
   ]
  },
  {
   "cell_type": "raw",
   "metadata": {},
   "source": [
    "Above code finishes in 0.0 seconds - because we only declare the threads, but not run the threads"
   ]
  },
  {
   "cell_type": "code",
   "execution_count": 7,
   "metadata": {},
   "outputs": [
    {
     "name": "stdout",
     "output_type": "stream",
     "text": [
      "Sleeping 1 second...\n",
      "Sleeping 1 second...\n",
      "Finished in 0.0 second(s)\n",
      "Done Sleeping...\n",
      "Done Sleeping...\n"
     ]
    }
   ],
   "source": [
    "import threading\n",
    "import time\n",
    "\n",
    "start = time.perf_counter()\n",
    "\n",
    "def do_something():\n",
    "    print(\"Sleeping 1 second...\")\n",
    "    time.sleep(1)\n",
    "    print(\"Done Sleeping...\")\n",
    "    \n",
    "t1 = threading.Thread(target=do_something)   # here we just need to give function name, not with () \n",
    "t2 = threading.Thread(target=do_something)   #  because we don't want to call/execute the function\n",
    "\n",
    "t1.start()\n",
    "t2.start()\n",
    "\n",
    "finish = time.perf_counter()\n",
    "\n",
    "print(f\"Finished in {round(finish-start,2)} second(s)\")"
   ]
  },
  {
   "cell_type": "raw",
   "metadata": {},
   "source": [
    "But above function is not doing thing - what we expected\n",
    "We want to thread first complete and then print command display which shows timinigs (finish-start)\n",
    "in reality our code runs for seconds, but it shows finished in 0.0 seconds\n",
    "\n",
    "So to get that sorted - we need to use join() methods which make sure that both thread should complete first\n",
    "before moving to calculate finish time"
   ]
  },
  {
   "cell_type": "code",
   "execution_count": 8,
   "metadata": {},
   "outputs": [
    {
     "name": "stdout",
     "output_type": "stream",
     "text": [
      "Sleeping 1 second...\n",
      "Sleeping 1 second...\n",
      "Done Sleeping...\n",
      "Done Sleeping...\n",
      "Finished in 1.01 second(s)\n"
     ]
    }
   ],
   "source": [
    "import threading\n",
    "import time\n",
    "\n",
    "start = time.perf_counter()\n",
    "\n",
    "def do_something():\n",
    "    print(\"Sleeping 1 second...\")\n",
    "    time.sleep(1)\n",
    "    print(\"Done Sleeping...\")\n",
    "    \n",
    "t1 = threading.Thread(target=do_something)   \n",
    "t2 = threading.Thread(target=do_something)   \n",
    "\n",
    "t1.start()\n",
    "t2.start()\n",
    "\n",
    "t1.join()\n",
    "t2.join()\n",
    "\n",
    "finish = time.perf_counter()\n",
    "\n",
    "print(f\"Finished in {round(finish-start,2)} second(s)\")"
   ]
  },
  {
   "cell_type": "raw",
   "metadata": {},
   "source": [
    "So, we notice that , our programm finished in 1.01 seconds\n",
    "and same code without threading - completed in 2.01 seconds\n",
    "so with threading - we speed up our code\n",
    "\n",
    "Let's see another example - in which we want to run 10 threads"
   ]
  },
  {
   "cell_type": "code",
   "execution_count": 9,
   "metadata": {},
   "outputs": [
    {
     "name": "stdout",
     "output_type": "stream",
     "text": [
      "Sleeping 1 second...\n",
      "Sleeping 1 second...\n",
      "Sleeping 1 second...Sleeping 1 second...\n",
      "Sleeping 1 second...\n",
      "\n",
      "Sleeping 1 second...\n",
      "Sleeping 1 second...Sleeping 1 second...\n",
      "Sleeping 1 second...\n",
      "\n",
      "Sleeping 1 second...\n",
      "Done Sleeping...\n",
      "Done Sleeping...\n",
      "Done Sleeping...Done Sleeping...\n",
      "\n",
      "Done Sleeping...Done Sleeping...\n",
      "\n",
      "Done Sleeping...Done Sleeping...\n",
      "\n",
      "Done Sleeping...\n",
      "Done Sleeping...\n",
      "Finished in 1.03 second(s)\n"
     ]
    }
   ],
   "source": [
    "import threading\n",
    "import time\n",
    "\n",
    "start = time.perf_counter()\n",
    "\n",
    "def do_something():\n",
    "    print(\"Sleeping 1 second...\")\n",
    "    time.sleep(1)\n",
    "    print(\"Done Sleeping...\")\n",
    "    \n",
    "threads = []\n",
    "# here we use underscore as a variable - because we are not using in our code\n",
    "for _ in range(10):\n",
    "    t = threading.Thread(target=do_something)\n",
    "    t.start()\n",
    "    threads.append(t)\n",
    "\n",
    "for thread in threads:\n",
    "    thread.join()\n",
    "    \n",
    "\n",
    "finish = time.perf_counter()\n",
    "\n",
    "print(f\"Finished in {round(finish-start,2)} second(s)\")"
   ]
  },
  {
   "cell_type": "raw",
   "metadata": {},
   "source": [
    "So, we could see Normally above code takes 10 seconds..But due to Threads, our code takes just 1.03 seconds"
   ]
  },
  {
   "cell_type": "markdown",
   "metadata": {},
   "source": [
    "<h4> Pass an Argument in a Function </h4>"
   ]
  },
  {
   "cell_type": "code",
   "execution_count": 10,
   "metadata": {},
   "outputs": [
    {
     "name": "stdout",
     "output_type": "stream",
     "text": [
      "Sleeping 1.5 second(s)...Sleeping 1.5 second(s)...\n",
      "\n",
      "Sleeping 1.5 second(s)...\n",
      "Sleeping 1.5 second(s)...\n",
      "Sleeping 1.5 second(s)...Sleeping 1.5 second(s)...\n",
      "\n",
      "Sleeping 1.5 second(s)...\n",
      "Sleeping 1.5 second(s)...\n",
      "Sleeping 1.5 second(s)...\n",
      "Sleeping 1.5 second(s)...\n",
      "Done Sleeping...Done Sleeping...\n",
      "Done Sleeping...\n",
      "\n",
      "Done Sleeping...\n",
      "Done Sleeping...\n",
      "Done Sleeping...\n",
      "Done Sleeping...\n",
      "Done Sleeping...\n",
      "Done Sleeping...\n",
      "Done Sleeping...\n",
      "Finished in 1.52 second(s)\n"
     ]
    }
   ],
   "source": [
    "import threading\n",
    "import time\n",
    "\n",
    "start = time.perf_counter()\n",
    "\n",
    "def do_something(seconds):\n",
    "    print(f\"Sleeping {seconds} second(s)...\")\n",
    "    time.sleep(seconds)\n",
    "    print(\"Done Sleeping...\")\n",
    "    \n",
    "threads = []\n",
    "# here we use underscore as a variable - because we are not using in our code\n",
    "for _ in range(10):\n",
    "    t = threading.Thread(target=do_something, args=[1.5])\n",
    "    t.start()\n",
    "    threads.append(t)\n",
    "\n",
    "for thread in threads:\n",
    "    thread.join()\n",
    "    \n",
    "\n",
    "finish = time.perf_counter()\n",
    "\n",
    "print(f\"Finished in {round(finish-start,2)} second(s)\")"
   ]
  },
  {
   "cell_type": "raw",
   "metadata": {},
   "source": [
    "Till Now, we have create the threads manually\n",
    "But from Python 3.2 we have \"Thread pool executar\" It allow us to switch on multiple processes\n",
    "\n",
    "but that is not in threading module.\n",
    "It's in concurent futures module"
   ]
  },
  {
   "cell_type": "code",
   "execution_count": 11,
   "metadata": {},
   "outputs": [
    {
     "name": "stdout",
     "output_type": "stream",
     "text": [
      "Sleeping 1 second(s)...\n",
      "Done Sleeping...\n",
      "Finished in 1.0 second(s)\n"
     ]
    }
   ],
   "source": [
    "import concurrent.futures\n",
    "import time\n",
    "\n",
    "start = time.perf_counter()\n",
    "\n",
    "def do_something(seconds):\n",
    "    print(f\"Sleeping {seconds} second(s)...\")\n",
    "    time.sleep(seconds)\n",
    "    return \"Done Sleeping...\"\n",
    "    \n",
    "with concurrent.futures.ThreadPoolExecutor() as executor:\n",
    "    f1 = executor.submit(do_something, 1)    # 1 second (second argument) # this return the future object\n",
    "                                             # thus in do_something, we return some value\n",
    "    print(f1.result())\n",
    "    \n",
    "finish = time.perf_counter()\n",
    "\n",
    "print(f\"Finished in {round(finish-start,2)} second(s)\")"
   ]
  },
  {
   "cell_type": "raw",
   "metadata": {},
   "source": [
    "if we want to run multiple threads"
   ]
  },
  {
   "cell_type": "code",
   "execution_count": 12,
   "metadata": {},
   "outputs": [
    {
     "name": "stdout",
     "output_type": "stream",
     "text": [
      "Sleeping 1 second(s)...\n",
      "Sleeping 1 second(s)...\n",
      "Done Sleeping...\n",
      "Done Sleeping...\n",
      "Finished in 1.0 second(s)\n"
     ]
    }
   ],
   "source": [
    "import concurrent.futures\n",
    "import time\n",
    "\n",
    "start = time.perf_counter()\n",
    "\n",
    "def do_something(seconds):\n",
    "    print(f\"Sleeping {seconds} second(s)...\")\n",
    "    time.sleep(seconds)\n",
    "    return \"Done Sleeping...\"\n",
    "    \n",
    "with concurrent.futures.ThreadPoolExecutor() as executor:\n",
    "    f1 = executor.submit(do_something, 1)  \n",
    "    f2 = executor.submit(do_something, 1)  \n",
    "    \n",
    "    print(f1.result())\n",
    "    print(f2.result())\n",
    "    \n",
    "finish = time.perf_counter()\n",
    "\n",
    "print(f\"Finished in {round(finish-start,2)} second(s)\")"
   ]
  },
  {
   "cell_type": "raw",
   "metadata": {},
   "source": [
    "Now let's run 10 times"
   ]
  },
  {
   "cell_type": "code",
   "execution_count": 13,
   "metadata": {},
   "outputs": [
    {
     "name": "stdout",
     "output_type": "stream",
     "text": [
      "Sleeping 1 second(s)...\n",
      "Sleeping 1 second(s)...\n",
      "Sleeping 1 second(s)...\n",
      "Sleeping 1 second(s)...Sleeping 1 second(s)...\n",
      "\n",
      "Sleeping 1 second(s)...\n",
      "Sleeping 1 second(s)...\n",
      "Sleeping 1 second(s)...\n",
      "Sleeping 1 second(s)...\n",
      "Sleeping 1 second(s)...\n",
      "Done Sleeping...\n",
      "Done Sleeping...\n",
      "Done Sleeping...\n",
      "Done Sleeping...\n",
      "Done Sleeping...\n",
      "Done Sleeping...\n",
      "Done Sleeping...\n",
      "Done Sleeping...\n",
      "Done Sleeping...\n",
      "Done Sleeping...\n",
      "Finished in 1.02 second(s)\n"
     ]
    }
   ],
   "source": [
    "import concurrent.futures\n",
    "import time\n",
    "\n",
    "start = time.perf_counter()\n",
    "\n",
    "def do_something(seconds):\n",
    "    print(f\"Sleeping {seconds} second(s)...\")\n",
    "    time.sleep(seconds)\n",
    "    return \"Done Sleeping...\"\n",
    "    \n",
    "with concurrent.futures.ThreadPoolExecutor() as executor:\n",
    "    results = [executor.submit(do_something, 1) for _ in range(10)]\n",
    "    \n",
    "    for f in concurrent.futures.as_completed(results):\n",
    "        print(f.result(2))\n",
    "    \n",
    "finish = time.perf_counter()\n",
    "\n",
    "print(f\"Finished in {round(finish-start,2)} second(s)\")"
   ]
  },
  {
   "cell_type": "code",
   "execution_count": 14,
   "metadata": {},
   "outputs": [
    {
     "name": "stdout",
     "output_type": "stream",
     "text": [
      "Sleeping 5 second(s)...\n",
      "Sleeping 4 second(s)...Sleeping 3 second(s)...\n",
      "Sleeping 2 second(s)...\n",
      "\n",
      "Sleeping 1 second(s)...\n",
      "Done Sleeping...1\n",
      "Done Sleeping...2\n",
      "Done Sleeping...3\n",
      "Done Sleeping...4\n",
      "Done Sleeping...5\n",
      "Finished in 5.01 second(s)\n"
     ]
    }
   ],
   "source": [
    "import concurrent.futures\n",
    "import time\n",
    "\n",
    "start = time.perf_counter()\n",
    "\n",
    "def do_something(seconds):\n",
    "    print(f\"Sleeping {seconds} second(s)...\")\n",
    "    time.sleep(seconds)\n",
    "    return f\"Done Sleeping...{seconds}\"\n",
    "    \n",
    "with concurrent.futures.ThreadPoolExecutor() as executor:\n",
    "    secs = [5, 4 , 3, 2, 1]\n",
    "    results = [executor.submit(do_something, sec) for sec in secs]\n",
    "    \n",
    "    for f in concurrent.futures.as_completed(results):\n",
    "        print(f.result(2))\n",
    "    \n",
    "finish = time.perf_counter()\n",
    "\n",
    "print(f\"Finished in {round(finish-start,2)} second(s)\")"
   ]
  },
  {
   "cell_type": "raw",
   "metadata": {},
   "source": [
    "if we look at above output, our 5th start started first; but thread 1 seems completed first\n",
    "it's because we printed by using as_completed method"
   ]
  },
  {
   "cell_type": "raw",
   "metadata": {},
   "source": [
    "Lets use map method"
   ]
  },
  {
   "cell_type": "code",
   "execution_count": 15,
   "metadata": {},
   "outputs": [
    {
     "name": "stdout",
     "output_type": "stream",
     "text": [
      "Sleeping 5 second(s)...\n",
      "Sleeping 4 second(s)...\n",
      "Sleeping 3 second(s)...\n",
      "Sleeping 2 second(s)...\n",
      "Sleeping 1 second(s)...\n",
      "Done Sleeping...5\n",
      "Done Sleeping...4\n",
      "Done Sleeping...3\n",
      "Done Sleeping...2\n",
      "Done Sleeping...1\n",
      "Finished in 5.01 second(s)\n"
     ]
    }
   ],
   "source": [
    "import concurrent.futures\n",
    "import time\n",
    "\n",
    "start = time.perf_counter()\n",
    "\n",
    "def do_something(seconds):\n",
    "    print(f\"Sleeping {seconds} second(s)...\")\n",
    "    time.sleep(seconds)\n",
    "    return f\"Done Sleeping...{seconds}\"\n",
    "    \n",
    "with concurrent.futures.ThreadPoolExecutor() as executor:\n",
    "    secs = [5, 4 , 3, 2, 1]\n",
    "    results = executor.map(do_something, secs)\n",
    "    \n",
    "    for result in results:\n",
    "        print(result)\n",
    "    \n",
    "finish = time.perf_counter()\n",
    "\n",
    "print(f\"Finished in {round(finish-start,2)} second(s)\")"
   ]
  },
  {
   "cell_type": "raw",
   "metadata": {},
   "source": [
    "Now, we could see, it return in same sequence as they started.- It's because of MAP function"
   ]
  }
 ],
 "metadata": {
  "kernelspec": {
   "display_name": "Python 3",
   "language": "python",
   "name": "python3"
  },
  "language_info": {
   "codemirror_mode": {
    "name": "ipython",
    "version": 3
   },
   "file_extension": ".py",
   "mimetype": "text/x-python",
   "name": "python",
   "nbconvert_exporter": "python",
   "pygments_lexer": "ipython3",
   "version": "3.6.9"
  }
 },
 "nbformat": 4,
 "nbformat_minor": 2
}
