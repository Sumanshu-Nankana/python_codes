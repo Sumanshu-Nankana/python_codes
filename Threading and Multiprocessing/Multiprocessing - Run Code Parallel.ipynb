{
 "cells": [
  {
   "cell_type": "markdown",
   "metadata": {},
   "source": [
    "<h4> Why we want to use Multiprocessing ? </h4>"
   ]
  },
  {
   "cell_type": "raw",
   "metadata": {},
   "source": [
    "Basically - we want to use multiprocessing when we want to speed up the programme by running tasks parallely"
   ]
  },
  {
   "cell_type": "code",
   "execution_count": 1,
   "metadata": {},
   "outputs": [
    {
     "name": "stdout",
     "output_type": "stream",
     "text": [
      "Sleeping 1 second..\n",
      "Done Sleeping...\n",
      "Finished in 1.01 second(s)\n"
     ]
    }
   ],
   "source": [
    "import time\n",
    "\n",
    "start = time.perf_counter()\n",
    "\n",
    "def do_something():\n",
    "    print(\"Sleeping 1 second..\")\n",
    "    time.sleep(1)\n",
    "    print(\"Done Sleeping...\")\n",
    "    \n",
    "do_something()\n",
    "\n",
    "finish = time.perf_counter()\n",
    "\n",
    "print(f\"Finished in {round(finish-start, 2)} second(s)\")"
   ]
  },
  {
   "cell_type": "raw",
   "metadata": {},
   "source": [
    "In above script, we run our function 1 time, so it takes 1 seconds\n",
    "let's run same function 2 times, so it will take 2 seconds"
   ]
  },
  {
   "cell_type": "code",
   "execution_count": 2,
   "metadata": {},
   "outputs": [
    {
     "name": "stdout",
     "output_type": "stream",
     "text": [
      "Sleeping 1 second..\n",
      "Done Sleeping...\n",
      "Sleeping 1 second..\n",
      "Done Sleeping...\n",
      "Finished in 2.0 second(s)\n"
     ]
    }
   ],
   "source": [
    "import time\n",
    "\n",
    "start = time.perf_counter()\n",
    "\n",
    "def do_something():\n",
    "    print(\"Sleeping 1 second..\")\n",
    "    time.sleep(1)\n",
    "    print(\"Done Sleeping...\")\n",
    "    \n",
    "do_something()\n",
    "do_something()\n",
    "\n",
    "finish = time.perf_counter()\n",
    "\n",
    "print(f\"Finished in {round(finish-start, 2)} second(s)\")"
   ]
  },
  {
   "cell_type": "raw",
   "metadata": {},
   "source": [
    "So, each time we run this function, it's adding 1 seconds.\n",
    "So, our script is waiting for 1 second and once that over and then moves to next function and then wait for another seconds"
   ]
  },
  {
   "cell_type": "raw",
   "metadata": {},
   "source": [
    "Multiprocessing means  Both will start at same time\n",
    "\n",
    "func ---- 1 second\n",
    "func -----1 second\n",
    "                  Done\n",
    "    \n",
    "    \n",
    "and in concurrently (which we see in Threading) it does not mean it will start at same time\n",
    "So, in concurrently, both function not started at same time\n",
    "\n",
    "func ---1 second-----\n",
    "      func---1 second-----\n",
    "                          Done"
   ]
  },
  {
   "cell_type": "raw",
   "metadata": {},
   "source": [
    "We can achieve multiprocessing using multiprocessing module. This is also in the standard library\n",
    "so, we don't need to install anything.\n",
    "\n",
    "and we will create two processes."
   ]
  },
  {
   "cell_type": "code",
   "execution_count": 4,
   "metadata": {},
   "outputs": [
    {
     "name": "stdout",
     "output_type": "stream",
     "text": [
      "Finished in 0.0 second(s)\n"
     ]
    }
   ],
   "source": [
    "import multiprocessing\n",
    "import time\n",
    "\n",
    "start = time.perf_counter()\n",
    "\n",
    "def do_something():\n",
    "    print(\"Sleeping 1 second..\")\n",
    "    time.sleep(1)\n",
    "    print(\"Done Sleeping...\")\n",
    "    \n",
    "p1 = multiprocessing.Process(target=do_something)\n",
    "p2 = multiprocessing.Process(target=do_something)\n",
    "\n",
    "finish = time.perf_counter()\n",
    "\n",
    "print(f\"Finished in {round(finish-start, 2)} second(s)\")"
   ]
  },
  {
   "cell_type": "raw",
   "metadata": {},
   "source": [
    "In above code, we just create the two process; but we have not run the process\n",
    "Thus code finished in 0.0 seconds"
   ]
  },
  {
   "cell_type": "code",
   "execution_count": 5,
   "metadata": {},
   "outputs": [
    {
     "name": "stdout",
     "output_type": "stream",
     "text": [
      "Sleeping 1 second..\n",
      "Finished in 0.04 second(s)\n",
      "Sleeping 1 second..\n",
      "Done Sleeping...\n",
      "Done Sleeping...\n"
     ]
    }
   ],
   "source": [
    "import multiprocessing\n",
    "import time\n",
    "\n",
    "start = time.perf_counter()\n",
    "\n",
    "def do_something():\n",
    "    print(\"Sleeping 1 second..\")\n",
    "    time.sleep(1)\n",
    "    print(\"Done Sleeping...\")\n",
    "    \n",
    "p1 = multiprocessing.Process(target=do_something)\n",
    "p2 = multiprocessing.Process(target=do_something)\n",
    "\n",
    "p1.start()\n",
    "p2.start()\n",
    "\n",
    "finish = time.perf_counter()\n",
    "\n",
    "print(f\"Finished in {round(finish-start, 2)} second(s)\")"
   ]
  },
  {
   "cell_type": "raw",
   "metadata": {},
   "source": [
    "Now, above code run our process; but it not did that - which we are expecting\n",
    "Becaue it printed \"Finished Time\" even before end of process\n",
    "But, actually we want, Finished Time should printed , once both the process will get completed.\n",
    "\n",
    "So in order to do this, we will use join() method"
   ]
  },
  {
   "cell_type": "code",
   "execution_count": 6,
   "metadata": {},
   "outputs": [
    {
     "name": "stdout",
     "output_type": "stream",
     "text": [
      "Sleeping 1 second..\n",
      "Sleeping 1 second..\n",
      "Done Sleeping...\n",
      "Done Sleeping...\n",
      "Finished in 1.03 second(s)\n"
     ]
    }
   ],
   "source": [
    "import multiprocessing\n",
    "import time\n",
    "\n",
    "start = time.perf_counter()\n",
    "\n",
    "def do_something():\n",
    "    print(\"Sleeping 1 second..\")\n",
    "    time.sleep(1)\n",
    "    print(\"Done Sleeping...\")\n",
    "    \n",
    "p1 = multiprocessing.Process(target=do_something)\n",
    "p2 = multiprocessing.Process(target=do_something)\n",
    "\n",
    "p1.start()\n",
    "p2.start()\n",
    "\n",
    "p1.join()\n",
    "p2.join()\n",
    "\n",
    "finish = time.perf_counter()\n",
    "\n",
    "print(f\"Finished in {round(finish-start, 2)} second(s)\")"
   ]
  },
  {
   "cell_type": "raw",
   "metadata": {},
   "source": [
    "Now, let's run our function 10 times - i.e. using 10 processes"
   ]
  },
  {
   "cell_type": "code",
   "execution_count": 7,
   "metadata": {},
   "outputs": [
    {
     "name": "stdout",
     "output_type": "stream",
     "text": [
      "Sleeping 1 second..\n",
      "Sleeping 1 second..\n",
      "Sleeping 1 second..\n",
      "Sleeping 1 second..\n",
      "Sleeping 1 second..\n",
      "Sleeping 1 second..\n",
      "Sleeping 1 second..\n",
      "Sleeping 1 second..\n",
      "Finished in 0.08 second(s)\n",
      "Sleeping 1 second..\n",
      "Sleeping 1 second..\n",
      "Done Sleeping...\n",
      "Done Sleeping...\n",
      "Done Sleeping...\n",
      "Done Sleeping...\n",
      "Done Sleeping...\n",
      "Done Sleeping...\n",
      "Done Sleeping...\n",
      "Done Sleeping...\n",
      "Done Sleeping...\n",
      "Done Sleeping...\n"
     ]
    }
   ],
   "source": [
    "import multiprocessing\n",
    "import time\n",
    "\n",
    "start = time.perf_counter()\n",
    "\n",
    "def do_something():\n",
    "    print(\"Sleeping 1 second..\")\n",
    "    time.sleep(1)\n",
    "    print(\"Done Sleeping...\")\n",
    "    \n",
    "for _ in range(10):\n",
    "    p = multiprocessing.Process(target=do_something)\n",
    "    p.start()\n",
    "    \n",
    "finish = time.perf_counter()\n",
    "\n",
    "print(f\"Finished in {round(finish-start, 2)} second(s)\")"
   ]
  },
  {
   "cell_type": "raw",
   "metadata": {},
   "source": [
    "Now, again, our Finished Time Printed first, before completing all the processes.\n",
    "But this is not something, we want.\n",
    "\n",
    "So, We need the join() function\n",
    "But if we write the join() function inside the for loop, then it act same as of synchronosuly"
   ]
  },
  {
   "cell_type": "code",
   "execution_count": 8,
   "metadata": {},
   "outputs": [
    {
     "name": "stdout",
     "output_type": "stream",
     "text": [
      "Sleeping 1 second..\n",
      "Done Sleeping...\n",
      "Sleeping 1 second..\n",
      "Done Sleeping...\n",
      "Sleeping 1 second..\n",
      "Done Sleeping...\n",
      "Sleeping 1 second..\n",
      "Done Sleeping...\n",
      "Sleeping 1 second..\n",
      "Done Sleeping...\n",
      "Sleeping 1 second..\n",
      "Done Sleeping...\n",
      "Sleeping 1 second..\n",
      "Done Sleeping...\n",
      "Sleeping 1 second..\n",
      "Done Sleeping...\n",
      "Sleeping 1 second..\n",
      "Done Sleeping...\n",
      "Sleeping 1 second..\n",
      "Done Sleeping...\n",
      "Finished in 10.22 second(s)\n"
     ]
    }
   ],
   "source": [
    "import multiprocessing\n",
    "import time\n",
    "\n",
    "start = time.perf_counter()\n",
    "\n",
    "def do_something():\n",
    "    print(\"Sleeping 1 second..\")\n",
    "    time.sleep(1)\n",
    "    print(\"Done Sleeping...\")\n",
    "    \n",
    "for _ in range(10):\n",
    "    p = multiprocessing.Process(target=do_something)\n",
    "    p.start()\n",
    "    p.join()\n",
    "    \n",
    "finish = time.perf_counter()\n",
    "\n",
    "print(f\"Finished in {round(finish-start, 2)} second(s)\")"
   ]
  },
  {
   "cell_type": "raw",
   "metadata": {},
   "source": [
    "If we use join() function inside the for loop, it acts as a synchronous way of running process..thus is takes 10 seconds\n",
    "\n",
    "Because we are joining before creating the next process.\n",
    "\n",
    "So, lets apppend all process in a list and then apply join on all."
   ]
  },
  {
   "cell_type": "code",
   "execution_count": 9,
   "metadata": {},
   "outputs": [
    {
     "name": "stdout",
     "output_type": "stream",
     "text": [
      "Sleeping 1 second..\n",
      "Sleeping 1 second..\n",
      "Sleeping 1 second..\n",
      "Sleeping 1 second..\n",
      "Sleeping 1 second..\n",
      "Sleeping 1 second..\n",
      "Sleeping 1 second..\n",
      "Sleeping 1 second..\n",
      "Sleeping 1 second..\n",
      "Sleeping 1 second..\n",
      "Done Sleeping...\n",
      "Done Sleeping...\n",
      "Done Sleeping...\n",
      "Done Sleeping...\n",
      "Done Sleeping...\n",
      "Done Sleeping...\n",
      "Done Sleeping...\n",
      "Done Sleeping...\n",
      "Done Sleeping...\n",
      "Done Sleeping...\n",
      "Finished in 1.1 second(s)\n"
     ]
    }
   ],
   "source": [
    "import multiprocessing\n",
    "import time\n",
    "\n",
    "start = time.perf_counter()\n",
    "\n",
    "def do_something():\n",
    "    print(\"Sleeping 1 second..\")\n",
    "    time.sleep(1)\n",
    "    print(\"Done Sleeping...\")\n",
    "\n",
    "processes = []\n",
    "\n",
    "for _ in range(10):\n",
    "    p = multiprocessing.Process(target=do_something)\n",
    "    p.start()\n",
    "    processes.append(p)\n",
    "    \n",
    "for process in processes:\n",
    "    process.join()\n",
    "\n",
    "    \n",
    "finish = time.perf_counter()\n",
    "\n",
    "print(f\"Finished in {round(finish-start, 2)} second(s)\")"
   ]
  },
  {
   "cell_type": "raw",
   "metadata": {},
   "source": [
    "Now, all process start together and all finished in approx 1 second"
   ]
  },
  {
   "cell_type": "markdown",
   "metadata": {},
   "source": [
    "<h4> Let's pass an argument in a function </h4>"
   ]
  },
  {
   "cell_type": "code",
   "execution_count": 10,
   "metadata": {},
   "outputs": [
    {
     "name": "stdout",
     "output_type": "stream",
     "text": [
      "Sleeping 1.5 second(s)..\n",
      "Sleeping 1.5 second(s)..\n",
      "Sleeping 1.5 second(s)..\n",
      "Sleeping 1.5 second(s)..\n",
      "Sleeping 1.5 second(s)..\n",
      "Sleeping 1.5 second(s)..\n",
      "Sleeping 1.5 second(s)..\n",
      "Sleeping 1.5 second(s)..\n",
      "Sleeping 1.5 second(s)..\n",
      "Sleeping 1.5 second(s)..\n",
      "Done Sleeping...\n",
      "Done Sleeping...\n",
      "Done Sleeping...\n",
      "Done Sleeping...\n",
      "Done Sleeping...\n",
      "Done Sleeping...\n",
      "Done Sleeping...\n",
      "Done Sleeping...\n",
      "Done Sleeping...\n",
      "Done Sleeping...\n",
      "Finished in 1.61 second(s)\n"
     ]
    }
   ],
   "source": [
    "import multiprocessing\n",
    "import time\n",
    "\n",
    "start = time.perf_counter()\n",
    "\n",
    "def do_something(second):\n",
    "    print(f\"Sleeping {second} second(s)..\")\n",
    "    time.sleep(second)\n",
    "    print(\"Done Sleeping...\")\n",
    "\n",
    "processes = []\n",
    "\n",
    "for _ in range(10):\n",
    "    p = multiprocessing.Process(target=do_something, args=[1.5])  # we need to pass as a list\n",
    "    p.start()\n",
    "    processes.append(p)\n",
    "    \n",
    "for process in processes:\n",
    "    process.join()\n",
    "\n",
    "    \n",
    "finish = time.perf_counter()\n",
    "\n",
    "print(f\"Finished in {round(finish-start, 2)} second(s)\")"
   ]
  },
  {
   "cell_type": "raw",
   "metadata": {},
   "source": [
    "Above is the old way of creating the processes\n",
    "After Python 3.2 we have a Process Pool Executor to create the processes. It's in the concurrent future module\n",
    "\n",
    "It's easier and more efficient way to create processes"
   ]
  },
  {
   "cell_type": "code",
   "execution_count": 12,
   "metadata": {},
   "outputs": [
    {
     "name": "stdout",
     "output_type": "stream",
     "text": [
      "Sleeping 1 second(s)..\n",
      "Done Sleeping...\n",
      "Finished in 1.05 second(s)\n"
     ]
    }
   ],
   "source": [
    "import concurrent.futures\n",
    "import time\n",
    "\n",
    "start = time.perf_counter()\n",
    "\n",
    "def do_something(second):\n",
    "    print(f\"Sleeping {second} second(s)..\")\n",
    "    time.sleep(second)\n",
    "    return \"Done Sleeping...\"\n",
    "    \n",
    "with concurrent.futures.ProcessPoolExecutor() as executor:\n",
    "    #below line will return the future object\n",
    "    f1 = executor.submit(do_something, 1)\n",
    "    \n",
    "    #result method is used to print the return value\n",
    "    print(f1.result())\n",
    "    \n",
    "finish = time.perf_counter()\n",
    "\n",
    "print(f\"Finished in {round(finish-start, 2)} second(s)\")"
   ]
  },
  {
   "cell_type": "raw",
   "metadata": {},
   "source": [
    "Now let's run above code multiple time\n",
    "i.e. we need to run submit() multiple times"
   ]
  },
  {
   "cell_type": "code",
   "execution_count": 13,
   "metadata": {},
   "outputs": [
    {
     "name": "stdout",
     "output_type": "stream",
     "text": [
      "Sleeping 1 second(s)..\n",
      "Sleeping 1 second(s)..\n",
      "Done Sleeping...\n",
      "Done Sleeping...\n",
      "Finished in 1.04 second(s)\n"
     ]
    }
   ],
   "source": [
    "import concurrent.futures\n",
    "import time\n",
    "\n",
    "start = time.perf_counter()\n",
    "\n",
    "def do_something(second):\n",
    "    print(f\"Sleeping {second} second(s)..\")\n",
    "    time.sleep(second)\n",
    "    return \"Done Sleeping...\"\n",
    "    \n",
    "with concurrent.futures.ProcessPoolExecutor() as executor:\n",
    "    #below line will return the future object\n",
    "    f1 = executor.submit(do_something, 1)\n",
    "    f2 = executor.submit(do_something, 1)\n",
    "    \n",
    "    #result method is used to print the return value\n",
    "    print(f1.result())\n",
    "    print(f2.result())\n",
    "    \n",
    "finish = time.perf_counter()\n",
    "\n",
    "print(f\"Finished in {round(finish-start, 2)} second(s)\")"
   ]
  },
  {
   "cell_type": "raw",
   "metadata": {},
   "source": [
    "But if we need to run 10 times, then better to use loop. We can use a normal loop\n",
    "But, Below We are using list comprehension"
   ]
  },
  {
   "cell_type": "code",
   "execution_count": 16,
   "metadata": {},
   "outputs": [
    {
     "name": "stdout",
     "output_type": "stream",
     "text": [
      "Sleeping 1 second(s)..\n",
      "Sleeping 1 second(s)..\n",
      "Sleeping 1 second(s)..\n",
      "Sleeping 1 second(s)..\n",
      "Sleeping 1 second(s)..\n",
      "Sleeping 1 second(s)..\n",
      "Sleeping 1 second(s)..\n",
      "Sleeping 1 second(s)..\n",
      "Done Sleeping...\n",
      "Done Sleeping...\n",
      "Done Sleeping...\n",
      "Done Sleeping...\n",
      "Sleeping 1 second(s)..\n",
      "Sleeping 1 second(s)..\n",
      "Done Sleeping...\n",
      "Done Sleeping...\n",
      "Done Sleeping...\n",
      "Done Sleeping...\n",
      "Done Sleeping...\n",
      "Done Sleeping...\n",
      "Finished in 3.08 second(s)\n"
     ]
    }
   ],
   "source": [
    "import concurrent.futures\n",
    "import time\n",
    "\n",
    "start = time.perf_counter()\n",
    "\n",
    "def do_something(second):\n",
    "    print(f\"Sleeping {second} second(s)..\")\n",
    "    time.sleep(second)\n",
    "    return \"Done Sleeping...\"\n",
    "    \n",
    "with concurrent.futures.ProcessPoolExecutor() as executor:\n",
    "    results = [executor.submit(do_something, 1) for _ in range(10)]\n",
    "    \n",
    "    # Now to get the result from results; we can use another function as_completed()\n",
    "    # which will give an iterator which we can loop over\n",
    "    \n",
    "    for f in concurrent.futures.as_completed(results):\n",
    "        print(f.result())\n",
    "    \n",
    "finish = time.perf_counter()\n",
    "\n",
    "print(f\"Finished in {round(finish-start, 2)} second(s)\")"
   ]
  },
  {
   "cell_type": "raw",
   "metadata": {},
   "source": [
    "Let's pass the different range of seconds "
   ]
  },
  {
   "cell_type": "code",
   "execution_count": 20,
   "metadata": {},
   "outputs": [
    {
     "name": "stdout",
     "output_type": "stream",
     "text": [
      "Sleeping 5 second(s)..\n",
      "Sleeping 3 second(s)..\n",
      "Sleeping 2 second(s)..\n",
      "Sleeping 4 second(s)..\n",
      "Sleeping 1 second(s)..\n",
      "Done Sleeping...2\n",
      "Done Sleeping...3\n",
      "Done Sleeping...1\n",
      "Done Sleeping...4\n",
      "Done Sleeping...5\n",
      "Finished in 5.04 second(s)\n"
     ]
    }
   ],
   "source": [
    "import concurrent.futures\n",
    "import time\n",
    "\n",
    "start = time.perf_counter()\n",
    "\n",
    "def do_something(second):\n",
    "    print(f\"Sleeping {second} second(s)..\")\n",
    "    time.sleep(second)\n",
    "    return f\"Done Sleeping...{second}\"\n",
    "    \n",
    "with concurrent.futures.ProcessPoolExecutor() as executor:\n",
    "    secs = [5, 4, 3, 2, 1]\n",
    "    results = [executor.submit(do_something, sec) for sec in secs]\n",
    "    \n",
    "    for f in concurrent.futures.as_completed(results):\n",
    "        print(f.result())\n",
    "    \n",
    "finish = time.perf_counter()\n",
    "\n",
    "print(f\"Finished in {round(finish-start, 2)} second(s)\")"
   ]
  },
  {
   "cell_type": "raw",
   "metadata": {},
   "source": [
    "We could notice that; our 5 second process start first. but it finish in the last order\n",
    "\n",
    "We can use the map() method to run our function over a list of values ; We will not use the submit function\n",
    "When we use submit() method - it return the future object\n",
    "But when we use the map() method; it just return the results. Thus it returns the result in same order in which process started."
   ]
  },
  {
   "cell_type": "code",
   "execution_count": 21,
   "metadata": {},
   "outputs": [
    {
     "name": "stdout",
     "output_type": "stream",
     "text": [
      "Sleeping 5 second(s)..\n",
      "Sleeping 4 second(s)..\n",
      "Sleeping 3 second(s)..\n",
      "Sleeping 2 second(s)..\n",
      "Sleeping 1 second(s)..\n",
      "Done Sleeping...5\n",
      "Done Sleeping...4\n",
      "Done Sleeping...3\n",
      "Done Sleeping...2\n",
      "Done Sleeping...1\n",
      "Finished in 5.05 second(s)\n"
     ]
    }
   ],
   "source": [
    "import concurrent.futures\n",
    "import time\n",
    "\n",
    "start = time.perf_counter()\n",
    "\n",
    "def do_something(second):\n",
    "    print(f\"Sleeping {second} second(s)..\")\n",
    "    time.sleep(second)\n",
    "    return f\"Done Sleeping...{second}\"\n",
    "    \n",
    "with concurrent.futures.ProcessPoolExecutor() as executor:\n",
    "    secs = [5, 4, 3, 2, 1]\n",
    "    results = executor.map(do_something, secs)\n",
    "    \n",
    "    for result in results:\n",
    "        print(result)\n",
    "    \n",
    "finish = time.perf_counter()\n",
    "\n",
    "print(f\"Finished in {round(finish-start, 2)} second(s)\")"
   ]
  }
 ],
 "metadata": {
  "kernelspec": {
   "display_name": "Python 3",
   "language": "python",
   "name": "python3"
  },
  "language_info": {
   "codemirror_mode": {
    "name": "ipython",
    "version": 3
   },
   "file_extension": ".py",
   "mimetype": "text/x-python",
   "name": "python",
   "nbconvert_exporter": "python",
   "pygments_lexer": "ipython3",
   "version": "3.6.9"
  }
 },
 "nbformat": 4,
 "nbformat_minor": 2
}
