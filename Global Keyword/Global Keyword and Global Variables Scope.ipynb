{
 "cells": [
  {
   "cell_type": "code",
   "execution_count": 13,
   "metadata": {},
   "outputs": [
    {
     "name": "stdout",
     "output_type": "stream",
     "text": [
      "The vaue of 'g' is: 0\n",
      "The vaue of 'g' and 'l' is: 0 2\n",
      "The vaue of 'g' and 'l' is: 2 3\n"
     ]
    }
   ],
   "source": [
    "g = 0   # global variable\n",
    "\n",
    "def function1():\n",
    "    print(\"The vaue of 'g' is:\",g)\n",
    "\n",
    "def function2():\n",
    "    l = 2  # local variable\n",
    "    print(\"The vaue of 'g' and 'l' is:\",g,l)\n",
    "\n",
    "def function3():\n",
    "    l = 3  # local variable\n",
    "    g = 2  # here we also define 'g' so function will first check it's local variable\n",
    "    print(\"The vaue of 'g' and 'l' is:\",g,l)\n",
    "\n",
    "function1()\n",
    "function2()\n",
    "function3()"
   ]
  },
  {
   "cell_type": "code",
   "execution_count": 16,
   "metadata": {},
   "outputs": [
    {
     "ename": "UnboundLocalError",
     "evalue": "local variable 'l' referenced before assignment",
     "output_type": "error",
     "traceback": [
      "\u001b[0;31m---------------------------------------------------------------------------\u001b[0m",
      "\u001b[0;31mUnboundLocalError\u001b[0m                         Traceback (most recent call last)",
      "\u001b[0;32m<ipython-input-16-8b87ef42d5b2>\u001b[0m in \u001b[0;36m<module>\u001b[0;34m\u001b[0m\n\u001b[1;32m      3\u001b[0m     \u001b[0ml\u001b[0m \u001b[0;34m=\u001b[0m \u001b[0ml\u001b[0m \u001b[0;34m+\u001b[0m \u001b[0;36m10\u001b[0m\u001b[0;34m\u001b[0m\u001b[0;34m\u001b[0m\u001b[0m\n\u001b[1;32m      4\u001b[0m     \u001b[0mprint\u001b[0m\u001b[0;34m(\u001b[0m\u001b[0ml\u001b[0m\u001b[0;34m)\u001b[0m\u001b[0;34m\u001b[0m\u001b[0;34m\u001b[0m\u001b[0m\n\u001b[0;32m----> 5\u001b[0;31m \u001b[0mfunction1\u001b[0m\u001b[0;34m(\u001b[0m\u001b[0;34m)\u001b[0m\u001b[0;34m\u001b[0m\u001b[0;34m\u001b[0m\u001b[0m\n\u001b[0m",
      "\u001b[0;32m<ipython-input-16-8b87ef42d5b2>\u001b[0m in \u001b[0;36mfunction1\u001b[0;34m()\u001b[0m\n\u001b[1;32m      1\u001b[0m \u001b[0ml\u001b[0m \u001b[0;34m=\u001b[0m \u001b[0;36m30\u001b[0m\u001b[0;34m\u001b[0m\u001b[0;34m\u001b[0m\u001b[0m\n\u001b[1;32m      2\u001b[0m \u001b[0;32mdef\u001b[0m \u001b[0mfunction1\u001b[0m\u001b[0;34m(\u001b[0m\u001b[0;34m)\u001b[0m\u001b[0;34m:\u001b[0m\u001b[0;34m\u001b[0m\u001b[0;34m\u001b[0m\u001b[0m\n\u001b[0;32m----> 3\u001b[0;31m     \u001b[0ml\u001b[0m \u001b[0;34m=\u001b[0m \u001b[0ml\u001b[0m \u001b[0;34m+\u001b[0m \u001b[0;36m10\u001b[0m\u001b[0;34m\u001b[0m\u001b[0;34m\u001b[0m\u001b[0m\n\u001b[0m\u001b[1;32m      4\u001b[0m     \u001b[0mprint\u001b[0m\u001b[0;34m(\u001b[0m\u001b[0ml\u001b[0m\u001b[0;34m)\u001b[0m\u001b[0;34m\u001b[0m\u001b[0;34m\u001b[0m\u001b[0m\n\u001b[1;32m      5\u001b[0m \u001b[0mfunction1\u001b[0m\u001b[0;34m(\u001b[0m\u001b[0;34m)\u001b[0m\u001b[0;34m\u001b[0m\u001b[0;34m\u001b[0m\u001b[0m\n",
      "\u001b[0;31mUnboundLocalError\u001b[0m: local variable 'l' referenced before assignment"
     ]
    }
   ],
   "source": [
    "l = 30\n",
    "def function1():\n",
    "    l = l + 10\n",
    "    print(l)\n",
    "function1()"
   ]
  },
  {
   "cell_type": "code",
   "execution_count": null,
   "metadata": {},
   "outputs": [],
   "source": [
    "# if we want to change the value of a global variable inside any function\n",
    "# then we need to use 'global' keyword in that function "
   ]
  },
  {
   "cell_type": "code",
   "execution_count": 20,
   "metadata": {},
   "outputs": [
    {
     "name": "stdout",
     "output_type": "stream",
     "text": [
      "40\n",
      "50\n"
     ]
    }
   ],
   "source": [
    "l = 30\n",
    "def function1():\n",
    "    global l\n",
    "    l = l + 10\n",
    "    print(l)\n",
    "    \n",
    "def function2():\n",
    "    global l\n",
    "    l = l + 10\n",
    "    print(l)\n",
    "\n",
    "function1()\n",
    "function2()"
   ]
  },
  {
   "cell_type": "code",
   "execution_count": 21,
   "metadata": {},
   "outputs": [
    {
     "name": "stdout",
     "output_type": "stream",
     "text": [
      "20\n"
     ]
    },
    {
     "ename": "NameError",
     "evalue": "name 'k' is not defined",
     "output_type": "error",
     "traceback": [
      "\u001b[0;31m---------------------------------------------------------------------------\u001b[0m",
      "\u001b[0;31mNameError\u001b[0m                                 Traceback (most recent call last)",
      "\u001b[0;32m<ipython-input-21-ef7efb0394e8>\u001b[0m in \u001b[0;36m<module>\u001b[0;34m\u001b[0m\n\u001b[1;32m      7\u001b[0m \u001b[0;34m\u001b[0m\u001b[0m\n\u001b[1;32m      8\u001b[0m \u001b[0mfunction1\u001b[0m\u001b[0;34m(\u001b[0m\u001b[0;34m)\u001b[0m\u001b[0;34m\u001b[0m\u001b[0;34m\u001b[0m\u001b[0m\n\u001b[0;32m----> 9\u001b[0;31m \u001b[0mfunction2\u001b[0m\u001b[0;34m(\u001b[0m\u001b[0;34m)\u001b[0m\u001b[0;34m\u001b[0m\u001b[0;34m\u001b[0m\u001b[0m\n\u001b[0m",
      "\u001b[0;32m<ipython-input-21-ef7efb0394e8>\u001b[0m in \u001b[0;36mfunction2\u001b[0;34m()\u001b[0m\n\u001b[1;32m      4\u001b[0m \u001b[0;34m\u001b[0m\u001b[0m\n\u001b[1;32m      5\u001b[0m \u001b[0;32mdef\u001b[0m \u001b[0mfunction2\u001b[0m\u001b[0;34m(\u001b[0m\u001b[0;34m)\u001b[0m\u001b[0;34m:\u001b[0m\u001b[0;34m\u001b[0m\u001b[0;34m\u001b[0m\u001b[0m\n\u001b[0;32m----> 6\u001b[0;31m     \u001b[0mprint\u001b[0m\u001b[0;34m(\u001b[0m\u001b[0mk\u001b[0m\u001b[0;34m)\u001b[0m\u001b[0;34m\u001b[0m\u001b[0;34m\u001b[0m\u001b[0m\n\u001b[0m\u001b[1;32m      7\u001b[0m \u001b[0;34m\u001b[0m\u001b[0m\n\u001b[1;32m      8\u001b[0m \u001b[0mfunction1\u001b[0m\u001b[0;34m(\u001b[0m\u001b[0;34m)\u001b[0m\u001b[0;34m\u001b[0m\u001b[0;34m\u001b[0m\u001b[0m\n",
      "\u001b[0;31mNameError\u001b[0m: name 'k' is not defined"
     ]
    }
   ],
   "source": [
    "def function1():\n",
    "    k = 20\n",
    "    print(k)\n",
    "\n",
    "def function2():\n",
    "    print(k)\n",
    "\n",
    "function1()\n",
    "function2()"
   ]
  },
  {
   "cell_type": "code",
   "execution_count": 26,
   "metadata": {},
   "outputs": [
    {
     "name": "stdout",
     "output_type": "stream",
     "text": [
      "20\n",
      "20\n"
     ]
    }
   ],
   "source": [
    "def function1():\n",
    "    global k\n",
    "    k = 20\n",
    "    print(k)\n",
    "\n",
    "# in function2 we can only read the variable 'k' as it's defined as global\n",
    "def function2():\n",
    "    print(k)\n",
    "\n",
    "function1()\n",
    "function2()"
   ]
  },
  {
   "cell_type": "code",
   "execution_count": 31,
   "metadata": {},
   "outputs": [
    {
     "name": "stdout",
     "output_type": "stream",
     "text": [
      "20\n",
      "22\n"
     ]
    }
   ],
   "source": [
    "def function1():\n",
    "    global k\n",
    "    k = 20\n",
    "    print(k)\n",
    "\n",
    "# in function2 we can only read the variable 'k' as it's defined as global\n",
    "# we can't change it\n",
    "# to change it, we need to use global keyword\n",
    "def function2():\n",
    "    global k\n",
    "    k = k + 2\n",
    "    print(k)\n",
    "\n",
    "function1()\n",
    "function2()"
   ]
  },
  {
   "cell_type": "code",
   "execution_count": 33,
   "metadata": {},
   "outputs": [
    {
     "name": "stdout",
     "output_type": "stream",
     "text": [
      "the value of paused is: True\n",
      "Calling Function 1\n",
      "the value of paused is: True\n"
     ]
    }
   ],
   "source": [
    "paused = False\n",
    "def function1():\n",
    "    global paused\n",
    "    paused = True\n",
    "    print(\"the value of paused is:\",paused)\n",
    "\n",
    "def function2():\n",
    "    print(\"Calling Function 1\")\n",
    "    function1()\n",
    "\n",
    "function1()\n",
    "function2()"
   ]
  },
  {
   "cell_type": "code",
   "execution_count": 43,
   "metadata": {},
   "outputs": [
    {
     "name": "stdout",
     "output_type": "stream",
     "text": [
      "20\n"
     ]
    }
   ],
   "source": [
    "def functionA():\n",
    "    x = 20\n",
    "    def functionB():\n",
    "        x = x + 20\n",
    "        \n",
    "functionA()\n",
    "print(x)"
   ]
  },
  {
   "cell_type": "code",
   "execution_count": 51,
   "metadata": {},
   "outputs": [
    {
     "name": "stdout",
     "output_type": "stream",
     "text": [
      "Value of x Before calling B: 20\n",
      "Value of x After calling B: 20\n"
     ]
    }
   ],
   "source": [
    "def functionA():\n",
    "    x = 20\n",
    "    def functionB():\n",
    "        x = 40\n",
    "    print(\"Value of x Before calling B:\",x)\n",
    "    functionB()\n",
    "    print(\"Value of x After calling B:\",x)\n",
    "     \n",
    "        \n",
    "functionA()"
   ]
  },
  {
   "cell_type": "code",
   "execution_count": 59,
   "metadata": {},
   "outputs": [
    {
     "name": "stdout",
     "output_type": "stream",
     "text": [
      "Value of x Before calling B: 20\n",
      "Value of x After calling B: 20\n",
      "40\n"
     ]
    }
   ],
   "source": [
    "def functionA():\n",
    "    x = 20\n",
    "    def functionB():\n",
    "        global x\n",
    "        x = 40\n",
    "    print(\"Value of x Before calling B:\",x)\n",
    "    functionB()\n",
    "    print(\"Value of x After calling B:\",x)\n",
    "     \n",
    "        \n",
    "functionA()\n",
    "# we define the x as global - still it's printing 20\n",
    "# because when we mention global - it directly go outside (of all nested functions)\n",
    "# and check if there is any 'x' defined outside..\n",
    "# so in our case no x defined - thus it not changes x and it's still 20\n",
    "\n",
    "print(x) # but here its 40 - because first it check any variable if not found it created"
   ]
  },
  {
   "cell_type": "code",
   "execution_count": 54,
   "metadata": {},
   "outputs": [
    {
     "name": "stdout",
     "output_type": "stream",
     "text": [
      "Value of x Before calling B: 20\n",
      "Value of x After calling B: 40\n"
     ]
    }
   ],
   "source": [
    "def functionA():\n",
    "    global x\n",
    "    x = 20\n",
    "    def functionB():\n",
    "        global x\n",
    "        x = 40\n",
    "    print(\"Value of x Before calling B:\",x)\n",
    "    functionB()\n",
    "    print(\"Value of x After calling B:\",x)\n",
    "     \n",
    "        \n",
    "functionA()"
   ]
  },
  {
   "cell_type": "code",
   "execution_count": 56,
   "metadata": {},
   "outputs": [
    {
     "name": "stdout",
     "output_type": "stream",
     "text": [
      "Value of x Before calling B: 20\n",
      "Value of x After calling B: 40\n"
     ]
    }
   ],
   "source": [
    "def functionA():\n",
    "    global p\n",
    "    p = 20\n",
    "    def functionB():\n",
    "        global p\n",
    "        p = p + 20\n",
    "    print(\"Value of x Before calling B:\",p)\n",
    "    functionB()\n",
    "    print(\"Value of x After calling B:\",p)\n",
    "       \n",
    "functionA()"
   ]
  },
  {
   "cell_type": "code",
   "execution_count": 61,
   "metadata": {},
   "outputs": [
    {
     "name": "stdout",
     "output_type": "stream",
     "text": [
      "Value of P inside funA:  False\n",
      "Value of P inside funB:  True\n",
      "Value of p inside funC:  True\n"
     ]
    }
   ],
   "source": [
    "p = False\n",
    "def funA():\n",
    "    print(\"Value of P inside funA: \",p)\n",
    "\n",
    "def funB():\n",
    "    global p\n",
    "    p = True\n",
    "    print(\"Value of P inside funB: \",p)\n",
    "    \n",
    "def funC():\n",
    "    print(\"Value of p inside funC: \",p)\n",
    "\n",
    "funA()\n",
    "funB()  # So function B - changed the value of global variable\n",
    "funC()  # As function B - already changed value of 'p' thus we get TRUE"
   ]
  }
 ],
 "metadata": {
  "kernelspec": {
   "display_name": "Python 3",
   "language": "python",
   "name": "python3"
  },
  "language_info": {
   "codemirror_mode": {
    "name": "ipython",
    "version": 3
   },
   "file_extension": ".py",
   "mimetype": "text/x-python",
   "name": "python",
   "nbconvert_exporter": "python",
   "pygments_lexer": "ipython3",
   "version": "3.6.9"
  }
 },
 "nbformat": 4,
 "nbformat_minor": 2
}
