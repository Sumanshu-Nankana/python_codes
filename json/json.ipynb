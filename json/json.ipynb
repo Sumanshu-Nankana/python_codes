{
 "cells": [
  {
   "cell_type": "markdown",
   "metadata": {},
   "source": [
    "<h4>'''Java Script Object Notation - JSON'''</h4>"
   ]
  },
  {
   "cell_type": "raw",
   "metadata": {},
   "source": [
    "loads == from JSON string to dictionary\n",
    "dumps == from dictsonary to JSON string\n",
    "load == from JSON file to dictionary\n",
    "dump == from dictionary to JSON file"
   ]
  },
  {
   "cell_type": "code",
   "execution_count": 1,
   "metadata": {},
   "outputs": [],
   "source": [
    "import json"
   ]
  },
  {
   "cell_type": "raw",
   "metadata": {},
   "source": [
    "In Json false = False(in Python) and true = True (in python) and null = None(in python)"
   ]
  },
  {
   "cell_type": "code",
   "execution_count": 2,
   "metadata": {},
   "outputs": [],
   "source": [
    "people_string = '''\n",
    "{\n",
    "    \"people\":\n",
    "    [\n",
    "        {\n",
    "            \"name\": \"John Smith\",\n",
    "            \"phone\": \"615-555-7164\",\n",
    "            \"emails\": [\"johnsmith@bogusemail.com\",\"john.smith@work-place.com\"],\n",
    "            \"has_license\": false\n",
    "        },\n",
    "        {\n",
    "            \"name\": \"Jame Doe\",\n",
    "            \"phone\": \"560-555-5153\",\n",
    "            \"emails\": null,\n",
    "            \"has_license\": true\n",
    "        }\n",
    "    ]\n",
    "}\n",
    "'''"
   ]
  },
  {
   "cell_type": "markdown",
   "metadata": {},
   "source": [
    "<h4>Convert the JSON object into dictionary ; we can see false ==> False ; true ==> True ; null ==> None</h4>"
   ]
  },
  {
   "cell_type": "code",
   "execution_count": 3,
   "metadata": {},
   "outputs": [
    {
     "name": "stdout",
     "output_type": "stream",
     "text": [
      "<class 'dict'>\n",
      "{'people': [{'name': 'John Smith', 'phone': '615-555-7164', 'emails': ['johnsmith@bogusemail.com', 'john.smith@work-place.com'], 'has_license': False}, {'name': 'Jame Doe', 'phone': '560-555-5153', 'emails': None, 'has_license': True}]}\n"
     ]
    }
   ],
   "source": [
    "data = json.loads(people_string)\n",
    "print(type(data))\n",
    "print(data)"
   ]
  },
  {
   "cell_type": "code",
   "execution_count": 4,
   "metadata": {},
   "outputs": [
    {
     "name": "stdout",
     "output_type": "stream",
     "text": [
      "{'name': 'John Smith', 'phone': '615-555-7164', 'emails': ['johnsmith@bogusemail.com', 'john.smith@work-place.com'], 'has_license': False}\n",
      "{'name': 'Jame Doe', 'phone': '560-555-5153', 'emails': None, 'has_license': True}\n"
     ]
    }
   ],
   "source": [
    "for person in data['people']:\n",
    "    print(person)"
   ]
  },
  {
   "cell_type": "code",
   "execution_count": 5,
   "metadata": {},
   "outputs": [
    {
     "name": "stdout",
     "output_type": "stream",
     "text": [
      "John Smith\n",
      "Jame Doe\n"
     ]
    }
   ],
   "source": [
    "for person in data['people']:\n",
    "    print(person['name'])"
   ]
  },
  {
   "cell_type": "code",
   "execution_count": 6,
   "metadata": {},
   "outputs": [],
   "source": [
    "for person in data['people']:\n",
    "    del person['phone']"
   ]
  },
  {
   "cell_type": "markdown",
   "metadata": {},
   "source": [
    "<h3>Convert the dictionary into JSON object</h3>"
   ]
  },
  {
   "cell_type": "code",
   "execution_count": 7,
   "metadata": {},
   "outputs": [
    {
     "name": "stdout",
     "output_type": "stream",
     "text": [
      "{\"people\": [{\"name\": \"John Smith\", \"emails\": [\"johnsmith@bogusemail.com\", \"john.smith@work-place.com\"], \"has_license\": false}, {\"name\": \"Jame Doe\", \"emails\": null, \"has_license\": true}]}\n"
     ]
    }
   ],
   "source": [
    "new_string = json.dumps(data)\n",
    "print(new_string)"
   ]
  },
  {
   "cell_type": "raw",
   "metadata": {},
   "source": [
    "To look in a nice way , we can pass the number of indent"
   ]
  },
  {
   "cell_type": "code",
   "execution_count": 8,
   "metadata": {},
   "outputs": [
    {
     "name": "stdout",
     "output_type": "stream",
     "text": [
      "{\n",
      "  \"people\": [\n",
      "    {\n",
      "      \"name\": \"John Smith\",\n",
      "      \"emails\": [\n",
      "        \"johnsmith@bogusemail.com\",\n",
      "        \"john.smith@work-place.com\"\n",
      "      ],\n",
      "      \"has_license\": false\n",
      "    },\n",
      "    {\n",
      "      \"name\": \"Jame Doe\",\n",
      "      \"emails\": null,\n",
      "      \"has_license\": true\n",
      "    }\n",
      "  ]\n",
      "}\n"
     ]
    }
   ],
   "source": [
    "new_string = json.dumps(data,indent=2)\n",
    "print(new_string)"
   ]
  },
  {
   "cell_type": "raw",
   "metadata": {},
   "source": [
    "if we want to sort the keys"
   ]
  },
  {
   "cell_type": "code",
   "execution_count": 9,
   "metadata": {},
   "outputs": [
    {
     "name": "stdout",
     "output_type": "stream",
     "text": [
      "{\n",
      "  \"people\": [\n",
      "    {\n",
      "      \"emails\": [\n",
      "        \"johnsmith@bogusemail.com\",\n",
      "        \"john.smith@work-place.com\"\n",
      "      ],\n",
      "      \"has_license\": false,\n",
      "      \"name\": \"John Smith\"\n",
      "    },\n",
      "    {\n",
      "      \"emails\": null,\n",
      "      \"has_license\": true,\n",
      "      \"name\": \"Jame Doe\"\n",
      "    }\n",
      "  ]\n",
      "}\n"
     ]
    }
   ],
   "source": [
    "new_string = json.dumps(data,indent=2,sort_keys=True)\n",
    "print(new_string)"
   ]
  },
  {
   "cell_type": "markdown",
   "metadata": {},
   "source": [
    "<h3>Load the JSON file</h3>"
   ]
  },
  {
   "cell_type": "code",
   "execution_count": 2,
   "metadata": {},
   "outputs": [],
   "source": [
    "import json"
   ]
  },
  {
   "cell_type": "code",
   "execution_count": 3,
   "metadata": {},
   "outputs": [],
   "source": [
    "with open('states.json') as f:\n",
    "    data = json.load(f)"
   ]
  },
  {
   "cell_type": "code",
   "execution_count": 4,
   "metadata": {},
   "outputs": [
    {
     "data": {
      "text/plain": [
       "{'states': [{'name': 'Alabama',\n",
       "   'abbrevation': 'AL',\n",
       "   'area_code': ['205', '201', '256', '334', '938']},\n",
       "  {'name': 'Alska', 'abbrevation': 'AK', 'area_code': ['907']},\n",
       "  {'name': 'Arizona',\n",
       "   'abbrevation': 'AZ',\n",
       "   'area_code': ['480', '520', '602', '623', '928']},\n",
       "  {'name': 'Arkansas',\n",
       "   'abbrevation': 'AR',\n",
       "   'area_code': ['479', '501', '870']}]}"
      ]
     },
     "execution_count": 4,
     "metadata": {},
     "output_type": "execute_result"
    }
   ],
   "source": [
    "data"
   ]
  },
  {
   "cell_type": "code",
   "execution_count": 5,
   "metadata": {},
   "outputs": [
    {
     "data": {
      "text/plain": [
       "dict"
      ]
     },
     "execution_count": 5,
     "metadata": {},
     "output_type": "execute_result"
    }
   ],
   "source": [
    "type(data)"
   ]
  },
  {
   "cell_type": "code",
   "execution_count": 6,
   "metadata": {},
   "outputs": [
    {
     "name": "stdout",
     "output_type": "stream",
     "text": [
      "{'name': 'Alabama', 'abbrevation': 'AL', 'area_code': ['205', '201', '256', '334', '938']}\n",
      "{'name': 'Alska', 'abbrevation': 'AK', 'area_code': ['907']}\n",
      "{'name': 'Arizona', 'abbrevation': 'AZ', 'area_code': ['480', '520', '602', '623', '928']}\n",
      "{'name': 'Arkansas', 'abbrevation': 'AR', 'area_code': ['479', '501', '870']}\n"
     ]
    }
   ],
   "source": [
    "for state in data['states']:\n",
    "    print(state)"
   ]
  },
  {
   "cell_type": "code",
   "execution_count": 8,
   "metadata": {},
   "outputs": [
    {
     "name": "stdout",
     "output_type": "stream",
     "text": [
      "Alabama AL\n",
      "Alska AK\n",
      "Arizona AZ\n",
      "Arkansas AR\n"
     ]
    }
   ],
   "source": [
    "for state in data['states']:\n",
    "    print(state['name'],state['abbrevation'])"
   ]
  },
  {
   "cell_type": "code",
   "execution_count": 9,
   "metadata": {},
   "outputs": [],
   "source": [
    "for state in data['states']:\n",
    "    del state['area_code']"
   ]
  },
  {
   "cell_type": "code",
   "execution_count": 10,
   "metadata": {},
   "outputs": [],
   "source": [
    "with open('new_states.json','w') as f:\n",
    "    json.dump(data, f)\n",
    "    \n",
    "# with above format; file is not looks pretty"
   ]
  },
  {
   "cell_type": "code",
   "execution_count": 11,
   "metadata": {},
   "outputs": [],
   "source": [
    "# Lets pass an indent argument\n",
    "with open('new_states1.json','w') as f:\n",
    "    json.dump(data, f, indent=2)"
   ]
  },
  {
   "cell_type": "raw",
   "metadata": {},
   "source": [
    "Lets see Real World Example - A lot of website returns the data in JSON format"
   ]
  },
  {
   "cell_type": "code",
   "execution_count": null,
   "metadata": {},
   "outputs": [],
   "source": []
  }
 ],
 "metadata": {
  "kernelspec": {
   "display_name": "Python 3",
   "language": "python",
   "name": "python3"
  },
  "language_info": {
   "codemirror_mode": {
    "name": "ipython",
    "version": 3
   },
   "file_extension": ".py",
   "mimetype": "text/x-python",
   "name": "python",
   "nbconvert_exporter": "python",
   "pygments_lexer": "ipython3",
   "version": "3.6.9"
  }
 },
 "nbformat": 4,
 "nbformat_minor": 2
}
